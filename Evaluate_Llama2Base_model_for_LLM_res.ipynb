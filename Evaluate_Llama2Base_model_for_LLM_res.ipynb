{
  "nbformat": 4,
  "nbformat_minor": 0,
  "metadata": {
    "colab": {
      "provenance": [],
      "gpuType": "T4",
      "include_colab_link": true
    },
    "kernelspec": {
      "name": "python3",
      "display_name": "Python 3"
    },
    "language_info": {
      "name": "python"
    },
    "widgets": {
      "application/vnd.jupyter.widget-state+json": {
        "d5bba3bead7a45299e5228c1ac7fffbc": {
          "model_module": "@jupyter-widgets/controls",
          "model_name": "HBoxModel",
          "model_module_version": "1.5.0",
          "state": {
            "_dom_classes": [],
            "_model_module": "@jupyter-widgets/controls",
            "_model_module_version": "1.5.0",
            "_model_name": "HBoxModel",
            "_view_count": null,
            "_view_module": "@jupyter-widgets/controls",
            "_view_module_version": "1.5.0",
            "_view_name": "HBoxView",
            "box_style": "",
            "children": [
              "IPY_MODEL_15f9c1a6d1a241d983f1b5450c3bbeea",
              "IPY_MODEL_42b8d1c398664fcfbea3af18d2960ea9",
              "IPY_MODEL_efd4430df10641668b14e6660c9143a0"
            ],
            "layout": "IPY_MODEL_2322d3029b5547668adba25595e3a4b2"
          }
        },
        "15f9c1a6d1a241d983f1b5450c3bbeea": {
          "model_module": "@jupyter-widgets/controls",
          "model_name": "HTMLModel",
          "model_module_version": "1.5.0",
          "state": {
            "_dom_classes": [],
            "_model_module": "@jupyter-widgets/controls",
            "_model_module_version": "1.5.0",
            "_model_name": "HTMLModel",
            "_view_count": null,
            "_view_module": "@jupyter-widgets/controls",
            "_view_module_version": "1.5.0",
            "_view_name": "HTMLView",
            "description": "",
            "description_tooltip": null,
            "layout": "IPY_MODEL_edd2b24634ff4d57ba5b520d1692aa9f",
            "placeholder": "​",
            "style": "IPY_MODEL_d09b9653df2c4d4d8c6e68b567cc917d",
            "value": "tokenizer_config.json: 100%"
          }
        },
        "42b8d1c398664fcfbea3af18d2960ea9": {
          "model_module": "@jupyter-widgets/controls",
          "model_name": "FloatProgressModel",
          "model_module_version": "1.5.0",
          "state": {
            "_dom_classes": [],
            "_model_module": "@jupyter-widgets/controls",
            "_model_module_version": "1.5.0",
            "_model_name": "FloatProgressModel",
            "_view_count": null,
            "_view_module": "@jupyter-widgets/controls",
            "_view_module_version": "1.5.0",
            "_view_name": "ProgressView",
            "bar_style": "success",
            "description": "",
            "description_tooltip": null,
            "layout": "IPY_MODEL_b80d52e72074492f965d9e72a5688a45",
            "max": 727,
            "min": 0,
            "orientation": "horizontal",
            "style": "IPY_MODEL_ebe04bcbea6140cba90a4ad5f7681d29",
            "value": 727
          }
        },
        "efd4430df10641668b14e6660c9143a0": {
          "model_module": "@jupyter-widgets/controls",
          "model_name": "HTMLModel",
          "model_module_version": "1.5.0",
          "state": {
            "_dom_classes": [],
            "_model_module": "@jupyter-widgets/controls",
            "_model_module_version": "1.5.0",
            "_model_name": "HTMLModel",
            "_view_count": null,
            "_view_module": "@jupyter-widgets/controls",
            "_view_module_version": "1.5.0",
            "_view_name": "HTMLView",
            "description": "",
            "description_tooltip": null,
            "layout": "IPY_MODEL_bb6a071a645648d7b34ff30cce6982e9",
            "placeholder": "​",
            "style": "IPY_MODEL_acd55dea2c774badad9ed29a8a3a70a9",
            "value": " 727/727 [00:00&lt;00:00, 60.6kB/s]"
          }
        },
        "2322d3029b5547668adba25595e3a4b2": {
          "model_module": "@jupyter-widgets/base",
          "model_name": "LayoutModel",
          "model_module_version": "1.2.0",
          "state": {
            "_model_module": "@jupyter-widgets/base",
            "_model_module_version": "1.2.0",
            "_model_name": "LayoutModel",
            "_view_count": null,
            "_view_module": "@jupyter-widgets/base",
            "_view_module_version": "1.2.0",
            "_view_name": "LayoutView",
            "align_content": null,
            "align_items": null,
            "align_self": null,
            "border": null,
            "bottom": null,
            "display": null,
            "flex": null,
            "flex_flow": null,
            "grid_area": null,
            "grid_auto_columns": null,
            "grid_auto_flow": null,
            "grid_auto_rows": null,
            "grid_column": null,
            "grid_gap": null,
            "grid_row": null,
            "grid_template_areas": null,
            "grid_template_columns": null,
            "grid_template_rows": null,
            "height": null,
            "justify_content": null,
            "justify_items": null,
            "left": null,
            "margin": null,
            "max_height": null,
            "max_width": null,
            "min_height": null,
            "min_width": null,
            "object_fit": null,
            "object_position": null,
            "order": null,
            "overflow": null,
            "overflow_x": null,
            "overflow_y": null,
            "padding": null,
            "right": null,
            "top": null,
            "visibility": null,
            "width": null
          }
        },
        "edd2b24634ff4d57ba5b520d1692aa9f": {
          "model_module": "@jupyter-widgets/base",
          "model_name": "LayoutModel",
          "model_module_version": "1.2.0",
          "state": {
            "_model_module": "@jupyter-widgets/base",
            "_model_module_version": "1.2.0",
            "_model_name": "LayoutModel",
            "_view_count": null,
            "_view_module": "@jupyter-widgets/base",
            "_view_module_version": "1.2.0",
            "_view_name": "LayoutView",
            "align_content": null,
            "align_items": null,
            "align_self": null,
            "border": null,
            "bottom": null,
            "display": null,
            "flex": null,
            "flex_flow": null,
            "grid_area": null,
            "grid_auto_columns": null,
            "grid_auto_flow": null,
            "grid_auto_rows": null,
            "grid_column": null,
            "grid_gap": null,
            "grid_row": null,
            "grid_template_areas": null,
            "grid_template_columns": null,
            "grid_template_rows": null,
            "height": null,
            "justify_content": null,
            "justify_items": null,
            "left": null,
            "margin": null,
            "max_height": null,
            "max_width": null,
            "min_height": null,
            "min_width": null,
            "object_fit": null,
            "object_position": null,
            "order": null,
            "overflow": null,
            "overflow_x": null,
            "overflow_y": null,
            "padding": null,
            "right": null,
            "top": null,
            "visibility": null,
            "width": null
          }
        },
        "d09b9653df2c4d4d8c6e68b567cc917d": {
          "model_module": "@jupyter-widgets/controls",
          "model_name": "DescriptionStyleModel",
          "model_module_version": "1.5.0",
          "state": {
            "_model_module": "@jupyter-widgets/controls",
            "_model_module_version": "1.5.0",
            "_model_name": "DescriptionStyleModel",
            "_view_count": null,
            "_view_module": "@jupyter-widgets/base",
            "_view_module_version": "1.2.0",
            "_view_name": "StyleView",
            "description_width": ""
          }
        },
        "b80d52e72074492f965d9e72a5688a45": {
          "model_module": "@jupyter-widgets/base",
          "model_name": "LayoutModel",
          "model_module_version": "1.2.0",
          "state": {
            "_model_module": "@jupyter-widgets/base",
            "_model_module_version": "1.2.0",
            "_model_name": "LayoutModel",
            "_view_count": null,
            "_view_module": "@jupyter-widgets/base",
            "_view_module_version": "1.2.0",
            "_view_name": "LayoutView",
            "align_content": null,
            "align_items": null,
            "align_self": null,
            "border": null,
            "bottom": null,
            "display": null,
            "flex": null,
            "flex_flow": null,
            "grid_area": null,
            "grid_auto_columns": null,
            "grid_auto_flow": null,
            "grid_auto_rows": null,
            "grid_column": null,
            "grid_gap": null,
            "grid_row": null,
            "grid_template_areas": null,
            "grid_template_columns": null,
            "grid_template_rows": null,
            "height": null,
            "justify_content": null,
            "justify_items": null,
            "left": null,
            "margin": null,
            "max_height": null,
            "max_width": null,
            "min_height": null,
            "min_width": null,
            "object_fit": null,
            "object_position": null,
            "order": null,
            "overflow": null,
            "overflow_x": null,
            "overflow_y": null,
            "padding": null,
            "right": null,
            "top": null,
            "visibility": null,
            "width": null
          }
        },
        "ebe04bcbea6140cba90a4ad5f7681d29": {
          "model_module": "@jupyter-widgets/controls",
          "model_name": "ProgressStyleModel",
          "model_module_version": "1.5.0",
          "state": {
            "_model_module": "@jupyter-widgets/controls",
            "_model_module_version": "1.5.0",
            "_model_name": "ProgressStyleModel",
            "_view_count": null,
            "_view_module": "@jupyter-widgets/base",
            "_view_module_version": "1.2.0",
            "_view_name": "StyleView",
            "bar_color": null,
            "description_width": ""
          }
        },
        "bb6a071a645648d7b34ff30cce6982e9": {
          "model_module": "@jupyter-widgets/base",
          "model_name": "LayoutModel",
          "model_module_version": "1.2.0",
          "state": {
            "_model_module": "@jupyter-widgets/base",
            "_model_module_version": "1.2.0",
            "_model_name": "LayoutModel",
            "_view_count": null,
            "_view_module": "@jupyter-widgets/base",
            "_view_module_version": "1.2.0",
            "_view_name": "LayoutView",
            "align_content": null,
            "align_items": null,
            "align_self": null,
            "border": null,
            "bottom": null,
            "display": null,
            "flex": null,
            "flex_flow": null,
            "grid_area": null,
            "grid_auto_columns": null,
            "grid_auto_flow": null,
            "grid_auto_rows": null,
            "grid_column": null,
            "grid_gap": null,
            "grid_row": null,
            "grid_template_areas": null,
            "grid_template_columns": null,
            "grid_template_rows": null,
            "height": null,
            "justify_content": null,
            "justify_items": null,
            "left": null,
            "margin": null,
            "max_height": null,
            "max_width": null,
            "min_height": null,
            "min_width": null,
            "object_fit": null,
            "object_position": null,
            "order": null,
            "overflow": null,
            "overflow_x": null,
            "overflow_y": null,
            "padding": null,
            "right": null,
            "top": null,
            "visibility": null,
            "width": null
          }
        },
        "acd55dea2c774badad9ed29a8a3a70a9": {
          "model_module": "@jupyter-widgets/controls",
          "model_name": "DescriptionStyleModel",
          "model_module_version": "1.5.0",
          "state": {
            "_model_module": "@jupyter-widgets/controls",
            "_model_module_version": "1.5.0",
            "_model_name": "DescriptionStyleModel",
            "_view_count": null,
            "_view_module": "@jupyter-widgets/base",
            "_view_module_version": "1.2.0",
            "_view_name": "StyleView",
            "description_width": ""
          }
        },
        "b0f059952a094581ba3871b19e371d20": {
          "model_module": "@jupyter-widgets/controls",
          "model_name": "HBoxModel",
          "model_module_version": "1.5.0",
          "state": {
            "_dom_classes": [],
            "_model_module": "@jupyter-widgets/controls",
            "_model_module_version": "1.5.0",
            "_model_name": "HBoxModel",
            "_view_count": null,
            "_view_module": "@jupyter-widgets/controls",
            "_view_module_version": "1.5.0",
            "_view_name": "HBoxView",
            "box_style": "",
            "children": [
              "IPY_MODEL_9e0580a6c6b34719838337b183bbb93b",
              "IPY_MODEL_2e980a76d4464ff28986ab3851f413d9",
              "IPY_MODEL_8a838c64dcac46edb616a6368fd4d0fe"
            ],
            "layout": "IPY_MODEL_223b8440ede7489895e02b1102ddc31c"
          }
        },
        "9e0580a6c6b34719838337b183bbb93b": {
          "model_module": "@jupyter-widgets/controls",
          "model_name": "HTMLModel",
          "model_module_version": "1.5.0",
          "state": {
            "_dom_classes": [],
            "_model_module": "@jupyter-widgets/controls",
            "_model_module_version": "1.5.0",
            "_model_name": "HTMLModel",
            "_view_count": null,
            "_view_module": "@jupyter-widgets/controls",
            "_view_module_version": "1.5.0",
            "_view_name": "HTMLView",
            "description": "",
            "description_tooltip": null,
            "layout": "IPY_MODEL_7a73dce7079644338dd87f19359b000e",
            "placeholder": "​",
            "style": "IPY_MODEL_e5d02a28f11942e8bb8ad9de0e5e9e50",
            "value": "tokenizer.model: 100%"
          }
        },
        "2e980a76d4464ff28986ab3851f413d9": {
          "model_module": "@jupyter-widgets/controls",
          "model_name": "FloatProgressModel",
          "model_module_version": "1.5.0",
          "state": {
            "_dom_classes": [],
            "_model_module": "@jupyter-widgets/controls",
            "_model_module_version": "1.5.0",
            "_model_name": "FloatProgressModel",
            "_view_count": null,
            "_view_module": "@jupyter-widgets/controls",
            "_view_module_version": "1.5.0",
            "_view_name": "ProgressView",
            "bar_style": "success",
            "description": "",
            "description_tooltip": null,
            "layout": "IPY_MODEL_6ed931a5fac644518d81f59f90ae3b1d",
            "max": 499723,
            "min": 0,
            "orientation": "horizontal",
            "style": "IPY_MODEL_2ec043ea18324e87ba1287ca6ef074b7",
            "value": 499723
          }
        },
        "8a838c64dcac46edb616a6368fd4d0fe": {
          "model_module": "@jupyter-widgets/controls",
          "model_name": "HTMLModel",
          "model_module_version": "1.5.0",
          "state": {
            "_dom_classes": [],
            "_model_module": "@jupyter-widgets/controls",
            "_model_module_version": "1.5.0",
            "_model_name": "HTMLModel",
            "_view_count": null,
            "_view_module": "@jupyter-widgets/controls",
            "_view_module_version": "1.5.0",
            "_view_name": "HTMLView",
            "description": "",
            "description_tooltip": null,
            "layout": "IPY_MODEL_c0b7c65bc8494342aed494c3381b4867",
            "placeholder": "​",
            "style": "IPY_MODEL_a2ff169e4d0a456c9666b64db4ce32a0",
            "value": " 500k/500k [00:00&lt;00:00, 5.66MB/s]"
          }
        },
        "223b8440ede7489895e02b1102ddc31c": {
          "model_module": "@jupyter-widgets/base",
          "model_name": "LayoutModel",
          "model_module_version": "1.2.0",
          "state": {
            "_model_module": "@jupyter-widgets/base",
            "_model_module_version": "1.2.0",
            "_model_name": "LayoutModel",
            "_view_count": null,
            "_view_module": "@jupyter-widgets/base",
            "_view_module_version": "1.2.0",
            "_view_name": "LayoutView",
            "align_content": null,
            "align_items": null,
            "align_self": null,
            "border": null,
            "bottom": null,
            "display": null,
            "flex": null,
            "flex_flow": null,
            "grid_area": null,
            "grid_auto_columns": null,
            "grid_auto_flow": null,
            "grid_auto_rows": null,
            "grid_column": null,
            "grid_gap": null,
            "grid_row": null,
            "grid_template_areas": null,
            "grid_template_columns": null,
            "grid_template_rows": null,
            "height": null,
            "justify_content": null,
            "justify_items": null,
            "left": null,
            "margin": null,
            "max_height": null,
            "max_width": null,
            "min_height": null,
            "min_width": null,
            "object_fit": null,
            "object_position": null,
            "order": null,
            "overflow": null,
            "overflow_x": null,
            "overflow_y": null,
            "padding": null,
            "right": null,
            "top": null,
            "visibility": null,
            "width": null
          }
        },
        "7a73dce7079644338dd87f19359b000e": {
          "model_module": "@jupyter-widgets/base",
          "model_name": "LayoutModel",
          "model_module_version": "1.2.0",
          "state": {
            "_model_module": "@jupyter-widgets/base",
            "_model_module_version": "1.2.0",
            "_model_name": "LayoutModel",
            "_view_count": null,
            "_view_module": "@jupyter-widgets/base",
            "_view_module_version": "1.2.0",
            "_view_name": "LayoutView",
            "align_content": null,
            "align_items": null,
            "align_self": null,
            "border": null,
            "bottom": null,
            "display": null,
            "flex": null,
            "flex_flow": null,
            "grid_area": null,
            "grid_auto_columns": null,
            "grid_auto_flow": null,
            "grid_auto_rows": null,
            "grid_column": null,
            "grid_gap": null,
            "grid_row": null,
            "grid_template_areas": null,
            "grid_template_columns": null,
            "grid_template_rows": null,
            "height": null,
            "justify_content": null,
            "justify_items": null,
            "left": null,
            "margin": null,
            "max_height": null,
            "max_width": null,
            "min_height": null,
            "min_width": null,
            "object_fit": null,
            "object_position": null,
            "order": null,
            "overflow": null,
            "overflow_x": null,
            "overflow_y": null,
            "padding": null,
            "right": null,
            "top": null,
            "visibility": null,
            "width": null
          }
        },
        "e5d02a28f11942e8bb8ad9de0e5e9e50": {
          "model_module": "@jupyter-widgets/controls",
          "model_name": "DescriptionStyleModel",
          "model_module_version": "1.5.0",
          "state": {
            "_model_module": "@jupyter-widgets/controls",
            "_model_module_version": "1.5.0",
            "_model_name": "DescriptionStyleModel",
            "_view_count": null,
            "_view_module": "@jupyter-widgets/base",
            "_view_module_version": "1.2.0",
            "_view_name": "StyleView",
            "description_width": ""
          }
        },
        "6ed931a5fac644518d81f59f90ae3b1d": {
          "model_module": "@jupyter-widgets/base",
          "model_name": "LayoutModel",
          "model_module_version": "1.2.0",
          "state": {
            "_model_module": "@jupyter-widgets/base",
            "_model_module_version": "1.2.0",
            "_model_name": "LayoutModel",
            "_view_count": null,
            "_view_module": "@jupyter-widgets/base",
            "_view_module_version": "1.2.0",
            "_view_name": "LayoutView",
            "align_content": null,
            "align_items": null,
            "align_self": null,
            "border": null,
            "bottom": null,
            "display": null,
            "flex": null,
            "flex_flow": null,
            "grid_area": null,
            "grid_auto_columns": null,
            "grid_auto_flow": null,
            "grid_auto_rows": null,
            "grid_column": null,
            "grid_gap": null,
            "grid_row": null,
            "grid_template_areas": null,
            "grid_template_columns": null,
            "grid_template_rows": null,
            "height": null,
            "justify_content": null,
            "justify_items": null,
            "left": null,
            "margin": null,
            "max_height": null,
            "max_width": null,
            "min_height": null,
            "min_width": null,
            "object_fit": null,
            "object_position": null,
            "order": null,
            "overflow": null,
            "overflow_x": null,
            "overflow_y": null,
            "padding": null,
            "right": null,
            "top": null,
            "visibility": null,
            "width": null
          }
        },
        "2ec043ea18324e87ba1287ca6ef074b7": {
          "model_module": "@jupyter-widgets/controls",
          "model_name": "ProgressStyleModel",
          "model_module_version": "1.5.0",
          "state": {
            "_model_module": "@jupyter-widgets/controls",
            "_model_module_version": "1.5.0",
            "_model_name": "ProgressStyleModel",
            "_view_count": null,
            "_view_module": "@jupyter-widgets/base",
            "_view_module_version": "1.2.0",
            "_view_name": "StyleView",
            "bar_color": null,
            "description_width": ""
          }
        },
        "c0b7c65bc8494342aed494c3381b4867": {
          "model_module": "@jupyter-widgets/base",
          "model_name": "LayoutModel",
          "model_module_version": "1.2.0",
          "state": {
            "_model_module": "@jupyter-widgets/base",
            "_model_module_version": "1.2.0",
            "_model_name": "LayoutModel",
            "_view_count": null,
            "_view_module": "@jupyter-widgets/base",
            "_view_module_version": "1.2.0",
            "_view_name": "LayoutView",
            "align_content": null,
            "align_items": null,
            "align_self": null,
            "border": null,
            "bottom": null,
            "display": null,
            "flex": null,
            "flex_flow": null,
            "grid_area": null,
            "grid_auto_columns": null,
            "grid_auto_flow": null,
            "grid_auto_rows": null,
            "grid_column": null,
            "grid_gap": null,
            "grid_row": null,
            "grid_template_areas": null,
            "grid_template_columns": null,
            "grid_template_rows": null,
            "height": null,
            "justify_content": null,
            "justify_items": null,
            "left": null,
            "margin": null,
            "max_height": null,
            "max_width": null,
            "min_height": null,
            "min_width": null,
            "object_fit": null,
            "object_position": null,
            "order": null,
            "overflow": null,
            "overflow_x": null,
            "overflow_y": null,
            "padding": null,
            "right": null,
            "top": null,
            "visibility": null,
            "width": null
          }
        },
        "a2ff169e4d0a456c9666b64db4ce32a0": {
          "model_module": "@jupyter-widgets/controls",
          "model_name": "DescriptionStyleModel",
          "model_module_version": "1.5.0",
          "state": {
            "_model_module": "@jupyter-widgets/controls",
            "_model_module_version": "1.5.0",
            "_model_name": "DescriptionStyleModel",
            "_view_count": null,
            "_view_module": "@jupyter-widgets/base",
            "_view_module_version": "1.2.0",
            "_view_name": "StyleView",
            "description_width": ""
          }
        },
        "4874337f10f04ceea1db3117c3a77298": {
          "model_module": "@jupyter-widgets/controls",
          "model_name": "HBoxModel",
          "model_module_version": "1.5.0",
          "state": {
            "_dom_classes": [],
            "_model_module": "@jupyter-widgets/controls",
            "_model_module_version": "1.5.0",
            "_model_name": "HBoxModel",
            "_view_count": null,
            "_view_module": "@jupyter-widgets/controls",
            "_view_module_version": "1.5.0",
            "_view_name": "HBoxView",
            "box_style": "",
            "children": [
              "IPY_MODEL_dc96b6d7591142a6ae612064c2228e04",
              "IPY_MODEL_f258652809fb49f0bec4e5111080bbe8",
              "IPY_MODEL_46d3ebab2ba54b989c1a8d396b81e518"
            ],
            "layout": "IPY_MODEL_bc4b04fb181d499eba7801b87c8b8ec7"
          }
        },
        "dc96b6d7591142a6ae612064c2228e04": {
          "model_module": "@jupyter-widgets/controls",
          "model_name": "HTMLModel",
          "model_module_version": "1.5.0",
          "state": {
            "_dom_classes": [],
            "_model_module": "@jupyter-widgets/controls",
            "_model_module_version": "1.5.0",
            "_model_name": "HTMLModel",
            "_view_count": null,
            "_view_module": "@jupyter-widgets/controls",
            "_view_module_version": "1.5.0",
            "_view_name": "HTMLView",
            "description": "",
            "description_tooltip": null,
            "layout": "IPY_MODEL_df3882ae05214c61a963ff11c3d19299",
            "placeholder": "​",
            "style": "IPY_MODEL_62bf3185df2848c7b0c0ffa4e4b06760",
            "value": "tokenizer.json: 100%"
          }
        },
        "f258652809fb49f0bec4e5111080bbe8": {
          "model_module": "@jupyter-widgets/controls",
          "model_name": "FloatProgressModel",
          "model_module_version": "1.5.0",
          "state": {
            "_dom_classes": [],
            "_model_module": "@jupyter-widgets/controls",
            "_model_module_version": "1.5.0",
            "_model_name": "FloatProgressModel",
            "_view_count": null,
            "_view_module": "@jupyter-widgets/controls",
            "_view_module_version": "1.5.0",
            "_view_name": "ProgressView",
            "bar_style": "success",
            "description": "",
            "description_tooltip": null,
            "layout": "IPY_MODEL_9ab2aa86dab64c1b92c09b3d88cc9b38",
            "max": 1842764,
            "min": 0,
            "orientation": "horizontal",
            "style": "IPY_MODEL_38fa2f4cdea94a8b8eeb75749a7885f1",
            "value": 1842764
          }
        },
        "46d3ebab2ba54b989c1a8d396b81e518": {
          "model_module": "@jupyter-widgets/controls",
          "model_name": "HTMLModel",
          "model_module_version": "1.5.0",
          "state": {
            "_dom_classes": [],
            "_model_module": "@jupyter-widgets/controls",
            "_model_module_version": "1.5.0",
            "_model_name": "HTMLModel",
            "_view_count": null,
            "_view_module": "@jupyter-widgets/controls",
            "_view_module_version": "1.5.0",
            "_view_name": "HTMLView",
            "description": "",
            "description_tooltip": null,
            "layout": "IPY_MODEL_c10a78f82d16426b8c08a6897995c247",
            "placeholder": "​",
            "style": "IPY_MODEL_073e3b36ed60473582d6c1c55d4cf8f4",
            "value": " 1.84M/1.84M [00:00&lt;00:00, 6.15MB/s]"
          }
        },
        "bc4b04fb181d499eba7801b87c8b8ec7": {
          "model_module": "@jupyter-widgets/base",
          "model_name": "LayoutModel",
          "model_module_version": "1.2.0",
          "state": {
            "_model_module": "@jupyter-widgets/base",
            "_model_module_version": "1.2.0",
            "_model_name": "LayoutModel",
            "_view_count": null,
            "_view_module": "@jupyter-widgets/base",
            "_view_module_version": "1.2.0",
            "_view_name": "LayoutView",
            "align_content": null,
            "align_items": null,
            "align_self": null,
            "border": null,
            "bottom": null,
            "display": null,
            "flex": null,
            "flex_flow": null,
            "grid_area": null,
            "grid_auto_columns": null,
            "grid_auto_flow": null,
            "grid_auto_rows": null,
            "grid_column": null,
            "grid_gap": null,
            "grid_row": null,
            "grid_template_areas": null,
            "grid_template_columns": null,
            "grid_template_rows": null,
            "height": null,
            "justify_content": null,
            "justify_items": null,
            "left": null,
            "margin": null,
            "max_height": null,
            "max_width": null,
            "min_height": null,
            "min_width": null,
            "object_fit": null,
            "object_position": null,
            "order": null,
            "overflow": null,
            "overflow_x": null,
            "overflow_y": null,
            "padding": null,
            "right": null,
            "top": null,
            "visibility": null,
            "width": null
          }
        },
        "df3882ae05214c61a963ff11c3d19299": {
          "model_module": "@jupyter-widgets/base",
          "model_name": "LayoutModel",
          "model_module_version": "1.2.0",
          "state": {
            "_model_module": "@jupyter-widgets/base",
            "_model_module_version": "1.2.0",
            "_model_name": "LayoutModel",
            "_view_count": null,
            "_view_module": "@jupyter-widgets/base",
            "_view_module_version": "1.2.0",
            "_view_name": "LayoutView",
            "align_content": null,
            "align_items": null,
            "align_self": null,
            "border": null,
            "bottom": null,
            "display": null,
            "flex": null,
            "flex_flow": null,
            "grid_area": null,
            "grid_auto_columns": null,
            "grid_auto_flow": null,
            "grid_auto_rows": null,
            "grid_column": null,
            "grid_gap": null,
            "grid_row": null,
            "grid_template_areas": null,
            "grid_template_columns": null,
            "grid_template_rows": null,
            "height": null,
            "justify_content": null,
            "justify_items": null,
            "left": null,
            "margin": null,
            "max_height": null,
            "max_width": null,
            "min_height": null,
            "min_width": null,
            "object_fit": null,
            "object_position": null,
            "order": null,
            "overflow": null,
            "overflow_x": null,
            "overflow_y": null,
            "padding": null,
            "right": null,
            "top": null,
            "visibility": null,
            "width": null
          }
        },
        "62bf3185df2848c7b0c0ffa4e4b06760": {
          "model_module": "@jupyter-widgets/controls",
          "model_name": "DescriptionStyleModel",
          "model_module_version": "1.5.0",
          "state": {
            "_model_module": "@jupyter-widgets/controls",
            "_model_module_version": "1.5.0",
            "_model_name": "DescriptionStyleModel",
            "_view_count": null,
            "_view_module": "@jupyter-widgets/base",
            "_view_module_version": "1.2.0",
            "_view_name": "StyleView",
            "description_width": ""
          }
        },
        "9ab2aa86dab64c1b92c09b3d88cc9b38": {
          "model_module": "@jupyter-widgets/base",
          "model_name": "LayoutModel",
          "model_module_version": "1.2.0",
          "state": {
            "_model_module": "@jupyter-widgets/base",
            "_model_module_version": "1.2.0",
            "_model_name": "LayoutModel",
            "_view_count": null,
            "_view_module": "@jupyter-widgets/base",
            "_view_module_version": "1.2.0",
            "_view_name": "LayoutView",
            "align_content": null,
            "align_items": null,
            "align_self": null,
            "border": null,
            "bottom": null,
            "display": null,
            "flex": null,
            "flex_flow": null,
            "grid_area": null,
            "grid_auto_columns": null,
            "grid_auto_flow": null,
            "grid_auto_rows": null,
            "grid_column": null,
            "grid_gap": null,
            "grid_row": null,
            "grid_template_areas": null,
            "grid_template_columns": null,
            "grid_template_rows": null,
            "height": null,
            "justify_content": null,
            "justify_items": null,
            "left": null,
            "margin": null,
            "max_height": null,
            "max_width": null,
            "min_height": null,
            "min_width": null,
            "object_fit": null,
            "object_position": null,
            "order": null,
            "overflow": null,
            "overflow_x": null,
            "overflow_y": null,
            "padding": null,
            "right": null,
            "top": null,
            "visibility": null,
            "width": null
          }
        },
        "38fa2f4cdea94a8b8eeb75749a7885f1": {
          "model_module": "@jupyter-widgets/controls",
          "model_name": "ProgressStyleModel",
          "model_module_version": "1.5.0",
          "state": {
            "_model_module": "@jupyter-widgets/controls",
            "_model_module_version": "1.5.0",
            "_model_name": "ProgressStyleModel",
            "_view_count": null,
            "_view_module": "@jupyter-widgets/base",
            "_view_module_version": "1.2.0",
            "_view_name": "StyleView",
            "bar_color": null,
            "description_width": ""
          }
        },
        "c10a78f82d16426b8c08a6897995c247": {
          "model_module": "@jupyter-widgets/base",
          "model_name": "LayoutModel",
          "model_module_version": "1.2.0",
          "state": {
            "_model_module": "@jupyter-widgets/base",
            "_model_module_version": "1.2.0",
            "_model_name": "LayoutModel",
            "_view_count": null,
            "_view_module": "@jupyter-widgets/base",
            "_view_module_version": "1.2.0",
            "_view_name": "LayoutView",
            "align_content": null,
            "align_items": null,
            "align_self": null,
            "border": null,
            "bottom": null,
            "display": null,
            "flex": null,
            "flex_flow": null,
            "grid_area": null,
            "grid_auto_columns": null,
            "grid_auto_flow": null,
            "grid_auto_rows": null,
            "grid_column": null,
            "grid_gap": null,
            "grid_row": null,
            "grid_template_areas": null,
            "grid_template_columns": null,
            "grid_template_rows": null,
            "height": null,
            "justify_content": null,
            "justify_items": null,
            "left": null,
            "margin": null,
            "max_height": null,
            "max_width": null,
            "min_height": null,
            "min_width": null,
            "object_fit": null,
            "object_position": null,
            "order": null,
            "overflow": null,
            "overflow_x": null,
            "overflow_y": null,
            "padding": null,
            "right": null,
            "top": null,
            "visibility": null,
            "width": null
          }
        },
        "073e3b36ed60473582d6c1c55d4cf8f4": {
          "model_module": "@jupyter-widgets/controls",
          "model_name": "DescriptionStyleModel",
          "model_module_version": "1.5.0",
          "state": {
            "_model_module": "@jupyter-widgets/controls",
            "_model_module_version": "1.5.0",
            "_model_name": "DescriptionStyleModel",
            "_view_count": null,
            "_view_module": "@jupyter-widgets/base",
            "_view_module_version": "1.2.0",
            "_view_name": "StyleView",
            "description_width": ""
          }
        },
        "97c0d297e3ba4d8eaf7ec92fc4154db0": {
          "model_module": "@jupyter-widgets/controls",
          "model_name": "HBoxModel",
          "model_module_version": "1.5.0",
          "state": {
            "_dom_classes": [],
            "_model_module": "@jupyter-widgets/controls",
            "_model_module_version": "1.5.0",
            "_model_name": "HBoxModel",
            "_view_count": null,
            "_view_module": "@jupyter-widgets/controls",
            "_view_module_version": "1.5.0",
            "_view_name": "HBoxView",
            "box_style": "",
            "children": [
              "IPY_MODEL_45387a45727841b1b9cc680aa4c5ed8f",
              "IPY_MODEL_34c88cd9e5ff459eaa06d0f7e2d2b6d2",
              "IPY_MODEL_a77a1d900d3d4bee8ddaf8f4cfa8a05f"
            ],
            "layout": "IPY_MODEL_8a6c385aedf24992b1a16ce79bfacaf5"
          }
        },
        "45387a45727841b1b9cc680aa4c5ed8f": {
          "model_module": "@jupyter-widgets/controls",
          "model_name": "HTMLModel",
          "model_module_version": "1.5.0",
          "state": {
            "_dom_classes": [],
            "_model_module": "@jupyter-widgets/controls",
            "_model_module_version": "1.5.0",
            "_model_name": "HTMLModel",
            "_view_count": null,
            "_view_module": "@jupyter-widgets/controls",
            "_view_module_version": "1.5.0",
            "_view_name": "HTMLView",
            "description": "",
            "description_tooltip": null,
            "layout": "IPY_MODEL_33fed96710fc4042a579ae9c5cf0e15b",
            "placeholder": "​",
            "style": "IPY_MODEL_45e6821fa6db4eb4bd785f9b553a955b",
            "value": "special_tokens_map.json: 100%"
          }
        },
        "34c88cd9e5ff459eaa06d0f7e2d2b6d2": {
          "model_module": "@jupyter-widgets/controls",
          "model_name": "FloatProgressModel",
          "model_module_version": "1.5.0",
          "state": {
            "_dom_classes": [],
            "_model_module": "@jupyter-widgets/controls",
            "_model_module_version": "1.5.0",
            "_model_name": "FloatProgressModel",
            "_view_count": null,
            "_view_module": "@jupyter-widgets/controls",
            "_view_module_version": "1.5.0",
            "_view_name": "ProgressView",
            "bar_style": "success",
            "description": "",
            "description_tooltip": null,
            "layout": "IPY_MODEL_045c8f5a95394dc9a8db7fdd1b644aae",
            "max": 411,
            "min": 0,
            "orientation": "horizontal",
            "style": "IPY_MODEL_184cb3f3aa574d779f9f0df2cbeafee6",
            "value": 411
          }
        },
        "a77a1d900d3d4bee8ddaf8f4cfa8a05f": {
          "model_module": "@jupyter-widgets/controls",
          "model_name": "HTMLModel",
          "model_module_version": "1.5.0",
          "state": {
            "_dom_classes": [],
            "_model_module": "@jupyter-widgets/controls",
            "_model_module_version": "1.5.0",
            "_model_name": "HTMLModel",
            "_view_count": null,
            "_view_module": "@jupyter-widgets/controls",
            "_view_module_version": "1.5.0",
            "_view_name": "HTMLView",
            "description": "",
            "description_tooltip": null,
            "layout": "IPY_MODEL_014bb8a6ba4c4c178d6033167351a1c4",
            "placeholder": "​",
            "style": "IPY_MODEL_264522af539f42e5825399e127e0ce5c",
            "value": " 411/411 [00:00&lt;00:00, 36.4kB/s]"
          }
        },
        "8a6c385aedf24992b1a16ce79bfacaf5": {
          "model_module": "@jupyter-widgets/base",
          "model_name": "LayoutModel",
          "model_module_version": "1.2.0",
          "state": {
            "_model_module": "@jupyter-widgets/base",
            "_model_module_version": "1.2.0",
            "_model_name": "LayoutModel",
            "_view_count": null,
            "_view_module": "@jupyter-widgets/base",
            "_view_module_version": "1.2.0",
            "_view_name": "LayoutView",
            "align_content": null,
            "align_items": null,
            "align_self": null,
            "border": null,
            "bottom": null,
            "display": null,
            "flex": null,
            "flex_flow": null,
            "grid_area": null,
            "grid_auto_columns": null,
            "grid_auto_flow": null,
            "grid_auto_rows": null,
            "grid_column": null,
            "grid_gap": null,
            "grid_row": null,
            "grid_template_areas": null,
            "grid_template_columns": null,
            "grid_template_rows": null,
            "height": null,
            "justify_content": null,
            "justify_items": null,
            "left": null,
            "margin": null,
            "max_height": null,
            "max_width": null,
            "min_height": null,
            "min_width": null,
            "object_fit": null,
            "object_position": null,
            "order": null,
            "overflow": null,
            "overflow_x": null,
            "overflow_y": null,
            "padding": null,
            "right": null,
            "top": null,
            "visibility": null,
            "width": null
          }
        },
        "33fed96710fc4042a579ae9c5cf0e15b": {
          "model_module": "@jupyter-widgets/base",
          "model_name": "LayoutModel",
          "model_module_version": "1.2.0",
          "state": {
            "_model_module": "@jupyter-widgets/base",
            "_model_module_version": "1.2.0",
            "_model_name": "LayoutModel",
            "_view_count": null,
            "_view_module": "@jupyter-widgets/base",
            "_view_module_version": "1.2.0",
            "_view_name": "LayoutView",
            "align_content": null,
            "align_items": null,
            "align_self": null,
            "border": null,
            "bottom": null,
            "display": null,
            "flex": null,
            "flex_flow": null,
            "grid_area": null,
            "grid_auto_columns": null,
            "grid_auto_flow": null,
            "grid_auto_rows": null,
            "grid_column": null,
            "grid_gap": null,
            "grid_row": null,
            "grid_template_areas": null,
            "grid_template_columns": null,
            "grid_template_rows": null,
            "height": null,
            "justify_content": null,
            "justify_items": null,
            "left": null,
            "margin": null,
            "max_height": null,
            "max_width": null,
            "min_height": null,
            "min_width": null,
            "object_fit": null,
            "object_position": null,
            "order": null,
            "overflow": null,
            "overflow_x": null,
            "overflow_y": null,
            "padding": null,
            "right": null,
            "top": null,
            "visibility": null,
            "width": null
          }
        },
        "45e6821fa6db4eb4bd785f9b553a955b": {
          "model_module": "@jupyter-widgets/controls",
          "model_name": "DescriptionStyleModel",
          "model_module_version": "1.5.0",
          "state": {
            "_model_module": "@jupyter-widgets/controls",
            "_model_module_version": "1.5.0",
            "_model_name": "DescriptionStyleModel",
            "_view_count": null,
            "_view_module": "@jupyter-widgets/base",
            "_view_module_version": "1.2.0",
            "_view_name": "StyleView",
            "description_width": ""
          }
        },
        "045c8f5a95394dc9a8db7fdd1b644aae": {
          "model_module": "@jupyter-widgets/base",
          "model_name": "LayoutModel",
          "model_module_version": "1.2.0",
          "state": {
            "_model_module": "@jupyter-widgets/base",
            "_model_module_version": "1.2.0",
            "_model_name": "LayoutModel",
            "_view_count": null,
            "_view_module": "@jupyter-widgets/base",
            "_view_module_version": "1.2.0",
            "_view_name": "LayoutView",
            "align_content": null,
            "align_items": null,
            "align_self": null,
            "border": null,
            "bottom": null,
            "display": null,
            "flex": null,
            "flex_flow": null,
            "grid_area": null,
            "grid_auto_columns": null,
            "grid_auto_flow": null,
            "grid_auto_rows": null,
            "grid_column": null,
            "grid_gap": null,
            "grid_row": null,
            "grid_template_areas": null,
            "grid_template_columns": null,
            "grid_template_rows": null,
            "height": null,
            "justify_content": null,
            "justify_items": null,
            "left": null,
            "margin": null,
            "max_height": null,
            "max_width": null,
            "min_height": null,
            "min_width": null,
            "object_fit": null,
            "object_position": null,
            "order": null,
            "overflow": null,
            "overflow_x": null,
            "overflow_y": null,
            "padding": null,
            "right": null,
            "top": null,
            "visibility": null,
            "width": null
          }
        },
        "184cb3f3aa574d779f9f0df2cbeafee6": {
          "model_module": "@jupyter-widgets/controls",
          "model_name": "ProgressStyleModel",
          "model_module_version": "1.5.0",
          "state": {
            "_model_module": "@jupyter-widgets/controls",
            "_model_module_version": "1.5.0",
            "_model_name": "ProgressStyleModel",
            "_view_count": null,
            "_view_module": "@jupyter-widgets/base",
            "_view_module_version": "1.2.0",
            "_view_name": "StyleView",
            "bar_color": null,
            "description_width": ""
          }
        },
        "014bb8a6ba4c4c178d6033167351a1c4": {
          "model_module": "@jupyter-widgets/base",
          "model_name": "LayoutModel",
          "model_module_version": "1.2.0",
          "state": {
            "_model_module": "@jupyter-widgets/base",
            "_model_module_version": "1.2.0",
            "_model_name": "LayoutModel",
            "_view_count": null,
            "_view_module": "@jupyter-widgets/base",
            "_view_module_version": "1.2.0",
            "_view_name": "LayoutView",
            "align_content": null,
            "align_items": null,
            "align_self": null,
            "border": null,
            "bottom": null,
            "display": null,
            "flex": null,
            "flex_flow": null,
            "grid_area": null,
            "grid_auto_columns": null,
            "grid_auto_flow": null,
            "grid_auto_rows": null,
            "grid_column": null,
            "grid_gap": null,
            "grid_row": null,
            "grid_template_areas": null,
            "grid_template_columns": null,
            "grid_template_rows": null,
            "height": null,
            "justify_content": null,
            "justify_items": null,
            "left": null,
            "margin": null,
            "max_height": null,
            "max_width": null,
            "min_height": null,
            "min_width": null,
            "object_fit": null,
            "object_position": null,
            "order": null,
            "overflow": null,
            "overflow_x": null,
            "overflow_y": null,
            "padding": null,
            "right": null,
            "top": null,
            "visibility": null,
            "width": null
          }
        },
        "264522af539f42e5825399e127e0ce5c": {
          "model_module": "@jupyter-widgets/controls",
          "model_name": "DescriptionStyleModel",
          "model_module_version": "1.5.0",
          "state": {
            "_model_module": "@jupyter-widgets/controls",
            "_model_module_version": "1.5.0",
            "_model_name": "DescriptionStyleModel",
            "_view_count": null,
            "_view_module": "@jupyter-widgets/base",
            "_view_module_version": "1.2.0",
            "_view_name": "StyleView",
            "description_width": ""
          }
        },
        "eefbf71f9bce47c1902d625329515568": {
          "model_module": "@jupyter-widgets/controls",
          "model_name": "HBoxModel",
          "model_module_version": "1.5.0",
          "state": {
            "_dom_classes": [],
            "_model_module": "@jupyter-widgets/controls",
            "_model_module_version": "1.5.0",
            "_model_name": "HBoxModel",
            "_view_count": null,
            "_view_module": "@jupyter-widgets/controls",
            "_view_module_version": "1.5.0",
            "_view_name": "HBoxView",
            "box_style": "",
            "children": [
              "IPY_MODEL_2ef0999587b04eaaa2db337b2fe6603a",
              "IPY_MODEL_03731240a3204da9805a5626a4181430",
              "IPY_MODEL_41391f4858594da1a8afe3f1d92f865c"
            ],
            "layout": "IPY_MODEL_0d33e19a87454361929b2cd31c0afbd7"
          }
        },
        "2ef0999587b04eaaa2db337b2fe6603a": {
          "model_module": "@jupyter-widgets/controls",
          "model_name": "HTMLModel",
          "model_module_version": "1.5.0",
          "state": {
            "_dom_classes": [],
            "_model_module": "@jupyter-widgets/controls",
            "_model_module_version": "1.5.0",
            "_model_name": "HTMLModel",
            "_view_count": null,
            "_view_module": "@jupyter-widgets/controls",
            "_view_module_version": "1.5.0",
            "_view_name": "HTMLView",
            "description": "",
            "description_tooltip": null,
            "layout": "IPY_MODEL_09ea7b18e0ed493ebfec69a1f817b52f",
            "placeholder": "​",
            "style": "IPY_MODEL_36e23fcef80a40d680cdc0ef58bfa4c8",
            "value": "config.json: 100%"
          }
        },
        "03731240a3204da9805a5626a4181430": {
          "model_module": "@jupyter-widgets/controls",
          "model_name": "FloatProgressModel",
          "model_module_version": "1.5.0",
          "state": {
            "_dom_classes": [],
            "_model_module": "@jupyter-widgets/controls",
            "_model_module_version": "1.5.0",
            "_model_name": "FloatProgressModel",
            "_view_count": null,
            "_view_module": "@jupyter-widgets/controls",
            "_view_module_version": "1.5.0",
            "_view_name": "ProgressView",
            "bar_style": "success",
            "description": "",
            "description_tooltip": null,
            "layout": "IPY_MODEL_15f9a9e0f4f24c8e8385754a7710b5db",
            "max": 784,
            "min": 0,
            "orientation": "horizontal",
            "style": "IPY_MODEL_fd65c86e050943c8b8dc783c09d526d3",
            "value": 784
          }
        },
        "41391f4858594da1a8afe3f1d92f865c": {
          "model_module": "@jupyter-widgets/controls",
          "model_name": "HTMLModel",
          "model_module_version": "1.5.0",
          "state": {
            "_dom_classes": [],
            "_model_module": "@jupyter-widgets/controls",
            "_model_module_version": "1.5.0",
            "_model_name": "HTMLModel",
            "_view_count": null,
            "_view_module": "@jupyter-widgets/controls",
            "_view_module_version": "1.5.0",
            "_view_name": "HTMLView",
            "description": "",
            "description_tooltip": null,
            "layout": "IPY_MODEL_a46e55083dcc4d1fa4df5015dc45eb3e",
            "placeholder": "​",
            "style": "IPY_MODEL_0950909b0fc24d319ea6e49801c8b6ac",
            "value": " 784/784 [00:00&lt;00:00, 45.9kB/s]"
          }
        },
        "0d33e19a87454361929b2cd31c0afbd7": {
          "model_module": "@jupyter-widgets/base",
          "model_name": "LayoutModel",
          "model_module_version": "1.2.0",
          "state": {
            "_model_module": "@jupyter-widgets/base",
            "_model_module_version": "1.2.0",
            "_model_name": "LayoutModel",
            "_view_count": null,
            "_view_module": "@jupyter-widgets/base",
            "_view_module_version": "1.2.0",
            "_view_name": "LayoutView",
            "align_content": null,
            "align_items": null,
            "align_self": null,
            "border": null,
            "bottom": null,
            "display": null,
            "flex": null,
            "flex_flow": null,
            "grid_area": null,
            "grid_auto_columns": null,
            "grid_auto_flow": null,
            "grid_auto_rows": null,
            "grid_column": null,
            "grid_gap": null,
            "grid_row": null,
            "grid_template_areas": null,
            "grid_template_columns": null,
            "grid_template_rows": null,
            "height": null,
            "justify_content": null,
            "justify_items": null,
            "left": null,
            "margin": null,
            "max_height": null,
            "max_width": null,
            "min_height": null,
            "min_width": null,
            "object_fit": null,
            "object_position": null,
            "order": null,
            "overflow": null,
            "overflow_x": null,
            "overflow_y": null,
            "padding": null,
            "right": null,
            "top": null,
            "visibility": null,
            "width": null
          }
        },
        "09ea7b18e0ed493ebfec69a1f817b52f": {
          "model_module": "@jupyter-widgets/base",
          "model_name": "LayoutModel",
          "model_module_version": "1.2.0",
          "state": {
            "_model_module": "@jupyter-widgets/base",
            "_model_module_version": "1.2.0",
            "_model_name": "LayoutModel",
            "_view_count": null,
            "_view_module": "@jupyter-widgets/base",
            "_view_module_version": "1.2.0",
            "_view_name": "LayoutView",
            "align_content": null,
            "align_items": null,
            "align_self": null,
            "border": null,
            "bottom": null,
            "display": null,
            "flex": null,
            "flex_flow": null,
            "grid_area": null,
            "grid_auto_columns": null,
            "grid_auto_flow": null,
            "grid_auto_rows": null,
            "grid_column": null,
            "grid_gap": null,
            "grid_row": null,
            "grid_template_areas": null,
            "grid_template_columns": null,
            "grid_template_rows": null,
            "height": null,
            "justify_content": null,
            "justify_items": null,
            "left": null,
            "margin": null,
            "max_height": null,
            "max_width": null,
            "min_height": null,
            "min_width": null,
            "object_fit": null,
            "object_position": null,
            "order": null,
            "overflow": null,
            "overflow_x": null,
            "overflow_y": null,
            "padding": null,
            "right": null,
            "top": null,
            "visibility": null,
            "width": null
          }
        },
        "36e23fcef80a40d680cdc0ef58bfa4c8": {
          "model_module": "@jupyter-widgets/controls",
          "model_name": "DescriptionStyleModel",
          "model_module_version": "1.5.0",
          "state": {
            "_model_module": "@jupyter-widgets/controls",
            "_model_module_version": "1.5.0",
            "_model_name": "DescriptionStyleModel",
            "_view_count": null,
            "_view_module": "@jupyter-widgets/base",
            "_view_module_version": "1.2.0",
            "_view_name": "StyleView",
            "description_width": ""
          }
        },
        "15f9a9e0f4f24c8e8385754a7710b5db": {
          "model_module": "@jupyter-widgets/base",
          "model_name": "LayoutModel",
          "model_module_version": "1.2.0",
          "state": {
            "_model_module": "@jupyter-widgets/base",
            "_model_module_version": "1.2.0",
            "_model_name": "LayoutModel",
            "_view_count": null,
            "_view_module": "@jupyter-widgets/base",
            "_view_module_version": "1.2.0",
            "_view_name": "LayoutView",
            "align_content": null,
            "align_items": null,
            "align_self": null,
            "border": null,
            "bottom": null,
            "display": null,
            "flex": null,
            "flex_flow": null,
            "grid_area": null,
            "grid_auto_columns": null,
            "grid_auto_flow": null,
            "grid_auto_rows": null,
            "grid_column": null,
            "grid_gap": null,
            "grid_row": null,
            "grid_template_areas": null,
            "grid_template_columns": null,
            "grid_template_rows": null,
            "height": null,
            "justify_content": null,
            "justify_items": null,
            "left": null,
            "margin": null,
            "max_height": null,
            "max_width": null,
            "min_height": null,
            "min_width": null,
            "object_fit": null,
            "object_position": null,
            "order": null,
            "overflow": null,
            "overflow_x": null,
            "overflow_y": null,
            "padding": null,
            "right": null,
            "top": null,
            "visibility": null,
            "width": null
          }
        },
        "fd65c86e050943c8b8dc783c09d526d3": {
          "model_module": "@jupyter-widgets/controls",
          "model_name": "ProgressStyleModel",
          "model_module_version": "1.5.0",
          "state": {
            "_model_module": "@jupyter-widgets/controls",
            "_model_module_version": "1.5.0",
            "_model_name": "ProgressStyleModel",
            "_view_count": null,
            "_view_module": "@jupyter-widgets/base",
            "_view_module_version": "1.2.0",
            "_view_name": "StyleView",
            "bar_color": null,
            "description_width": ""
          }
        },
        "a46e55083dcc4d1fa4df5015dc45eb3e": {
          "model_module": "@jupyter-widgets/base",
          "model_name": "LayoutModel",
          "model_module_version": "1.2.0",
          "state": {
            "_model_module": "@jupyter-widgets/base",
            "_model_module_version": "1.2.0",
            "_model_name": "LayoutModel",
            "_view_count": null,
            "_view_module": "@jupyter-widgets/base",
            "_view_module_version": "1.2.0",
            "_view_name": "LayoutView",
            "align_content": null,
            "align_items": null,
            "align_self": null,
            "border": null,
            "bottom": null,
            "display": null,
            "flex": null,
            "flex_flow": null,
            "grid_area": null,
            "grid_auto_columns": null,
            "grid_auto_flow": null,
            "grid_auto_rows": null,
            "grid_column": null,
            "grid_gap": null,
            "grid_row": null,
            "grid_template_areas": null,
            "grid_template_columns": null,
            "grid_template_rows": null,
            "height": null,
            "justify_content": null,
            "justify_items": null,
            "left": null,
            "margin": null,
            "max_height": null,
            "max_width": null,
            "min_height": null,
            "min_width": null,
            "object_fit": null,
            "object_position": null,
            "order": null,
            "overflow": null,
            "overflow_x": null,
            "overflow_y": null,
            "padding": null,
            "right": null,
            "top": null,
            "visibility": null,
            "width": null
          }
        },
        "0950909b0fc24d319ea6e49801c8b6ac": {
          "model_module": "@jupyter-widgets/controls",
          "model_name": "DescriptionStyleModel",
          "model_module_version": "1.5.0",
          "state": {
            "_model_module": "@jupyter-widgets/controls",
            "_model_module_version": "1.5.0",
            "_model_name": "DescriptionStyleModel",
            "_view_count": null,
            "_view_module": "@jupyter-widgets/base",
            "_view_module_version": "1.2.0",
            "_view_name": "StyleView",
            "description_width": ""
          }
        },
        "338f8cd333954e79ada4f8d2b03a573f": {
          "model_module": "@jupyter-widgets/controls",
          "model_name": "HBoxModel",
          "model_module_version": "1.5.0",
          "state": {
            "_dom_classes": [],
            "_model_module": "@jupyter-widgets/controls",
            "_model_module_version": "1.5.0",
            "_model_name": "HBoxModel",
            "_view_count": null,
            "_view_module": "@jupyter-widgets/controls",
            "_view_module_version": "1.5.0",
            "_view_name": "HBoxView",
            "box_style": "",
            "children": [
              "IPY_MODEL_287f0b229a01430e8e5ea1760b8c42f6",
              "IPY_MODEL_9938dc9227674b4c8cf425c1a8ac8588",
              "IPY_MODEL_ef7dff237c6942229586b33b1a84b220"
            ],
            "layout": "IPY_MODEL_b25d722d15f944afb40b2e930c0fa30b"
          }
        },
        "287f0b229a01430e8e5ea1760b8c42f6": {
          "model_module": "@jupyter-widgets/controls",
          "model_name": "HTMLModel",
          "model_module_version": "1.5.0",
          "state": {
            "_dom_classes": [],
            "_model_module": "@jupyter-widgets/controls",
            "_model_module_version": "1.5.0",
            "_model_name": "HTMLModel",
            "_view_count": null,
            "_view_module": "@jupyter-widgets/controls",
            "_view_module_version": "1.5.0",
            "_view_name": "HTMLView",
            "description": "",
            "description_tooltip": null,
            "layout": "IPY_MODEL_30ed31ca70f948049b1b3403fc7d7050",
            "placeholder": "​",
            "style": "IPY_MODEL_6a0858f2941f4c65b4587b57fb46940c",
            "value": "model.safetensors: 100%"
          }
        },
        "9938dc9227674b4c8cf425c1a8ac8588": {
          "model_module": "@jupyter-widgets/controls",
          "model_name": "FloatProgressModel",
          "model_module_version": "1.5.0",
          "state": {
            "_dom_classes": [],
            "_model_module": "@jupyter-widgets/controls",
            "_model_module_version": "1.5.0",
            "_model_name": "FloatProgressModel",
            "_view_count": null,
            "_view_module": "@jupyter-widgets/controls",
            "_view_module_version": "1.5.0",
            "_view_name": "ProgressView",
            "bar_style": "success",
            "description": "",
            "description_tooltip": null,
            "layout": "IPY_MODEL_ef59b7ad67b34fd9a39d52353a4ad46d",
            "max": 3896726136,
            "min": 0,
            "orientation": "horizontal",
            "style": "IPY_MODEL_6debc9a8437e4dca9cf9240aef59f93a",
            "value": 3896726136
          }
        },
        "ef7dff237c6942229586b33b1a84b220": {
          "model_module": "@jupyter-widgets/controls",
          "model_name": "HTMLModel",
          "model_module_version": "1.5.0",
          "state": {
            "_dom_classes": [],
            "_model_module": "@jupyter-widgets/controls",
            "_model_module_version": "1.5.0",
            "_model_name": "HTMLModel",
            "_view_count": null,
            "_view_module": "@jupyter-widgets/controls",
            "_view_module_version": "1.5.0",
            "_view_name": "HTMLView",
            "description": "",
            "description_tooltip": null,
            "layout": "IPY_MODEL_c8962eebcfc44d9cb2a6d496d4c6a88c",
            "placeholder": "​",
            "style": "IPY_MODEL_46fa619d7c34464aa6873aba168e2d39",
            "value": " 3.90G/3.90G [00:23&lt;00:00, 85.8MB/s]"
          }
        },
        "b25d722d15f944afb40b2e930c0fa30b": {
          "model_module": "@jupyter-widgets/base",
          "model_name": "LayoutModel",
          "model_module_version": "1.2.0",
          "state": {
            "_model_module": "@jupyter-widgets/base",
            "_model_module_version": "1.2.0",
            "_model_name": "LayoutModel",
            "_view_count": null,
            "_view_module": "@jupyter-widgets/base",
            "_view_module_version": "1.2.0",
            "_view_name": "LayoutView",
            "align_content": null,
            "align_items": null,
            "align_self": null,
            "border": null,
            "bottom": null,
            "display": null,
            "flex": null,
            "flex_flow": null,
            "grid_area": null,
            "grid_auto_columns": null,
            "grid_auto_flow": null,
            "grid_auto_rows": null,
            "grid_column": null,
            "grid_gap": null,
            "grid_row": null,
            "grid_template_areas": null,
            "grid_template_columns": null,
            "grid_template_rows": null,
            "height": null,
            "justify_content": null,
            "justify_items": null,
            "left": null,
            "margin": null,
            "max_height": null,
            "max_width": null,
            "min_height": null,
            "min_width": null,
            "object_fit": null,
            "object_position": null,
            "order": null,
            "overflow": null,
            "overflow_x": null,
            "overflow_y": null,
            "padding": null,
            "right": null,
            "top": null,
            "visibility": null,
            "width": null
          }
        },
        "30ed31ca70f948049b1b3403fc7d7050": {
          "model_module": "@jupyter-widgets/base",
          "model_name": "LayoutModel",
          "model_module_version": "1.2.0",
          "state": {
            "_model_module": "@jupyter-widgets/base",
            "_model_module_version": "1.2.0",
            "_model_name": "LayoutModel",
            "_view_count": null,
            "_view_module": "@jupyter-widgets/base",
            "_view_module_version": "1.2.0",
            "_view_name": "LayoutView",
            "align_content": null,
            "align_items": null,
            "align_self": null,
            "border": null,
            "bottom": null,
            "display": null,
            "flex": null,
            "flex_flow": null,
            "grid_area": null,
            "grid_auto_columns": null,
            "grid_auto_flow": null,
            "grid_auto_rows": null,
            "grid_column": null,
            "grid_gap": null,
            "grid_row": null,
            "grid_template_areas": null,
            "grid_template_columns": null,
            "grid_template_rows": null,
            "height": null,
            "justify_content": null,
            "justify_items": null,
            "left": null,
            "margin": null,
            "max_height": null,
            "max_width": null,
            "min_height": null,
            "min_width": null,
            "object_fit": null,
            "object_position": null,
            "order": null,
            "overflow": null,
            "overflow_x": null,
            "overflow_y": null,
            "padding": null,
            "right": null,
            "top": null,
            "visibility": null,
            "width": null
          }
        },
        "6a0858f2941f4c65b4587b57fb46940c": {
          "model_module": "@jupyter-widgets/controls",
          "model_name": "DescriptionStyleModel",
          "model_module_version": "1.5.0",
          "state": {
            "_model_module": "@jupyter-widgets/controls",
            "_model_module_version": "1.5.0",
            "_model_name": "DescriptionStyleModel",
            "_view_count": null,
            "_view_module": "@jupyter-widgets/base",
            "_view_module_version": "1.2.0",
            "_view_name": "StyleView",
            "description_width": ""
          }
        },
        "ef59b7ad67b34fd9a39d52353a4ad46d": {
          "model_module": "@jupyter-widgets/base",
          "model_name": "LayoutModel",
          "model_module_version": "1.2.0",
          "state": {
            "_model_module": "@jupyter-widgets/base",
            "_model_module_version": "1.2.0",
            "_model_name": "LayoutModel",
            "_view_count": null,
            "_view_module": "@jupyter-widgets/base",
            "_view_module_version": "1.2.0",
            "_view_name": "LayoutView",
            "align_content": null,
            "align_items": null,
            "align_self": null,
            "border": null,
            "bottom": null,
            "display": null,
            "flex": null,
            "flex_flow": null,
            "grid_area": null,
            "grid_auto_columns": null,
            "grid_auto_flow": null,
            "grid_auto_rows": null,
            "grid_column": null,
            "grid_gap": null,
            "grid_row": null,
            "grid_template_areas": null,
            "grid_template_columns": null,
            "grid_template_rows": null,
            "height": null,
            "justify_content": null,
            "justify_items": null,
            "left": null,
            "margin": null,
            "max_height": null,
            "max_width": null,
            "min_height": null,
            "min_width": null,
            "object_fit": null,
            "object_position": null,
            "order": null,
            "overflow": null,
            "overflow_x": null,
            "overflow_y": null,
            "padding": null,
            "right": null,
            "top": null,
            "visibility": null,
            "width": null
          }
        },
        "6debc9a8437e4dca9cf9240aef59f93a": {
          "model_module": "@jupyter-widgets/controls",
          "model_name": "ProgressStyleModel",
          "model_module_version": "1.5.0",
          "state": {
            "_model_module": "@jupyter-widgets/controls",
            "_model_module_version": "1.5.0",
            "_model_name": "ProgressStyleModel",
            "_view_count": null,
            "_view_module": "@jupyter-widgets/base",
            "_view_module_version": "1.2.0",
            "_view_name": "StyleView",
            "bar_color": null,
            "description_width": ""
          }
        },
        "c8962eebcfc44d9cb2a6d496d4c6a88c": {
          "model_module": "@jupyter-widgets/base",
          "model_name": "LayoutModel",
          "model_module_version": "1.2.0",
          "state": {
            "_model_module": "@jupyter-widgets/base",
            "_model_module_version": "1.2.0",
            "_model_name": "LayoutModel",
            "_view_count": null,
            "_view_module": "@jupyter-widgets/base",
            "_view_module_version": "1.2.0",
            "_view_name": "LayoutView",
            "align_content": null,
            "align_items": null,
            "align_self": null,
            "border": null,
            "bottom": null,
            "display": null,
            "flex": null,
            "flex_flow": null,
            "grid_area": null,
            "grid_auto_columns": null,
            "grid_auto_flow": null,
            "grid_auto_rows": null,
            "grid_column": null,
            "grid_gap": null,
            "grid_row": null,
            "grid_template_areas": null,
            "grid_template_columns": null,
            "grid_template_rows": null,
            "height": null,
            "justify_content": null,
            "justify_items": null,
            "left": null,
            "margin": null,
            "max_height": null,
            "max_width": null,
            "min_height": null,
            "min_width": null,
            "object_fit": null,
            "object_position": null,
            "order": null,
            "overflow": null,
            "overflow_x": null,
            "overflow_y": null,
            "padding": null,
            "right": null,
            "top": null,
            "visibility": null,
            "width": null
          }
        },
        "46fa619d7c34464aa6873aba168e2d39": {
          "model_module": "@jupyter-widgets/controls",
          "model_name": "DescriptionStyleModel",
          "model_module_version": "1.5.0",
          "state": {
            "_model_module": "@jupyter-widgets/controls",
            "_model_module_version": "1.5.0",
            "_model_name": "DescriptionStyleModel",
            "_view_count": null,
            "_view_module": "@jupyter-widgets/base",
            "_view_module_version": "1.2.0",
            "_view_name": "StyleView",
            "description_width": ""
          }
        },
        "97633a5d044941f1a0b8378819f22d3e": {
          "model_module": "@jupyter-widgets/controls",
          "model_name": "HBoxModel",
          "model_module_version": "1.5.0",
          "state": {
            "_dom_classes": [],
            "_model_module": "@jupyter-widgets/controls",
            "_model_module_version": "1.5.0",
            "_model_name": "HBoxModel",
            "_view_count": null,
            "_view_module": "@jupyter-widgets/controls",
            "_view_module_version": "1.5.0",
            "_view_name": "HBoxView",
            "box_style": "",
            "children": [
              "IPY_MODEL_7ab8b3d781984ea4a2b3bd2b02344006",
              "IPY_MODEL_ecef65ee8ff14f85adbba24e4a316ff6",
              "IPY_MODEL_da6a70cb210e497aa120883483bbbdfd"
            ],
            "layout": "IPY_MODEL_9775610b957247369caccbfb8f5f24ff"
          }
        },
        "7ab8b3d781984ea4a2b3bd2b02344006": {
          "model_module": "@jupyter-widgets/controls",
          "model_name": "HTMLModel",
          "model_module_version": "1.5.0",
          "state": {
            "_dom_classes": [],
            "_model_module": "@jupyter-widgets/controls",
            "_model_module_version": "1.5.0",
            "_model_name": "HTMLModel",
            "_view_count": null,
            "_view_module": "@jupyter-widgets/controls",
            "_view_module_version": "1.5.0",
            "_view_name": "HTMLView",
            "description": "",
            "description_tooltip": null,
            "layout": "IPY_MODEL_95fe0a83c23744179fde5d8b5d919217",
            "placeholder": "​",
            "style": "IPY_MODEL_b5119fafa1da423f96d725722ede0769",
            "value": "generation_config.json: 100%"
          }
        },
        "ecef65ee8ff14f85adbba24e4a316ff6": {
          "model_module": "@jupyter-widgets/controls",
          "model_name": "FloatProgressModel",
          "model_module_version": "1.5.0",
          "state": {
            "_dom_classes": [],
            "_model_module": "@jupyter-widgets/controls",
            "_model_module_version": "1.5.0",
            "_model_name": "FloatProgressModel",
            "_view_count": null,
            "_view_module": "@jupyter-widgets/controls",
            "_view_module_version": "1.5.0",
            "_view_name": "ProgressView",
            "bar_style": "success",
            "description": "",
            "description_tooltip": null,
            "layout": "IPY_MODEL_0195c4d5125c41b5ba0009e4f0e6fac1",
            "max": 132,
            "min": 0,
            "orientation": "horizontal",
            "style": "IPY_MODEL_8e41521cc8574a67bcc68ee56d35fed6",
            "value": 132
          }
        },
        "da6a70cb210e497aa120883483bbbdfd": {
          "model_module": "@jupyter-widgets/controls",
          "model_name": "HTMLModel",
          "model_module_version": "1.5.0",
          "state": {
            "_dom_classes": [],
            "_model_module": "@jupyter-widgets/controls",
            "_model_module_version": "1.5.0",
            "_model_name": "HTMLModel",
            "_view_count": null,
            "_view_module": "@jupyter-widgets/controls",
            "_view_module_version": "1.5.0",
            "_view_name": "HTMLView",
            "description": "",
            "description_tooltip": null,
            "layout": "IPY_MODEL_931fd45b84d645468dfe7d2195ac4dcd",
            "placeholder": "​",
            "style": "IPY_MODEL_dddd0332b6784511b8a490477abc2ed4",
            "value": " 132/132 [00:00&lt;00:00, 11.0kB/s]"
          }
        },
        "9775610b957247369caccbfb8f5f24ff": {
          "model_module": "@jupyter-widgets/base",
          "model_name": "LayoutModel",
          "model_module_version": "1.2.0",
          "state": {
            "_model_module": "@jupyter-widgets/base",
            "_model_module_version": "1.2.0",
            "_model_name": "LayoutModel",
            "_view_count": null,
            "_view_module": "@jupyter-widgets/base",
            "_view_module_version": "1.2.0",
            "_view_name": "LayoutView",
            "align_content": null,
            "align_items": null,
            "align_self": null,
            "border": null,
            "bottom": null,
            "display": null,
            "flex": null,
            "flex_flow": null,
            "grid_area": null,
            "grid_auto_columns": null,
            "grid_auto_flow": null,
            "grid_auto_rows": null,
            "grid_column": null,
            "grid_gap": null,
            "grid_row": null,
            "grid_template_areas": null,
            "grid_template_columns": null,
            "grid_template_rows": null,
            "height": null,
            "justify_content": null,
            "justify_items": null,
            "left": null,
            "margin": null,
            "max_height": null,
            "max_width": null,
            "min_height": null,
            "min_width": null,
            "object_fit": null,
            "object_position": null,
            "order": null,
            "overflow": null,
            "overflow_x": null,
            "overflow_y": null,
            "padding": null,
            "right": null,
            "top": null,
            "visibility": null,
            "width": null
          }
        },
        "95fe0a83c23744179fde5d8b5d919217": {
          "model_module": "@jupyter-widgets/base",
          "model_name": "LayoutModel",
          "model_module_version": "1.2.0",
          "state": {
            "_model_module": "@jupyter-widgets/base",
            "_model_module_version": "1.2.0",
            "_model_name": "LayoutModel",
            "_view_count": null,
            "_view_module": "@jupyter-widgets/base",
            "_view_module_version": "1.2.0",
            "_view_name": "LayoutView",
            "align_content": null,
            "align_items": null,
            "align_self": null,
            "border": null,
            "bottom": null,
            "display": null,
            "flex": null,
            "flex_flow": null,
            "grid_area": null,
            "grid_auto_columns": null,
            "grid_auto_flow": null,
            "grid_auto_rows": null,
            "grid_column": null,
            "grid_gap": null,
            "grid_row": null,
            "grid_template_areas": null,
            "grid_template_columns": null,
            "grid_template_rows": null,
            "height": null,
            "justify_content": null,
            "justify_items": null,
            "left": null,
            "margin": null,
            "max_height": null,
            "max_width": null,
            "min_height": null,
            "min_width": null,
            "object_fit": null,
            "object_position": null,
            "order": null,
            "overflow": null,
            "overflow_x": null,
            "overflow_y": null,
            "padding": null,
            "right": null,
            "top": null,
            "visibility": null,
            "width": null
          }
        },
        "b5119fafa1da423f96d725722ede0769": {
          "model_module": "@jupyter-widgets/controls",
          "model_name": "DescriptionStyleModel",
          "model_module_version": "1.5.0",
          "state": {
            "_model_module": "@jupyter-widgets/controls",
            "_model_module_version": "1.5.0",
            "_model_name": "DescriptionStyleModel",
            "_view_count": null,
            "_view_module": "@jupyter-widgets/base",
            "_view_module_version": "1.2.0",
            "_view_name": "StyleView",
            "description_width": ""
          }
        },
        "0195c4d5125c41b5ba0009e4f0e6fac1": {
          "model_module": "@jupyter-widgets/base",
          "model_name": "LayoutModel",
          "model_module_version": "1.2.0",
          "state": {
            "_model_module": "@jupyter-widgets/base",
            "_model_module_version": "1.2.0",
            "_model_name": "LayoutModel",
            "_view_count": null,
            "_view_module": "@jupyter-widgets/base",
            "_view_module_version": "1.2.0",
            "_view_name": "LayoutView",
            "align_content": null,
            "align_items": null,
            "align_self": null,
            "border": null,
            "bottom": null,
            "display": null,
            "flex": null,
            "flex_flow": null,
            "grid_area": null,
            "grid_auto_columns": null,
            "grid_auto_flow": null,
            "grid_auto_rows": null,
            "grid_column": null,
            "grid_gap": null,
            "grid_row": null,
            "grid_template_areas": null,
            "grid_template_columns": null,
            "grid_template_rows": null,
            "height": null,
            "justify_content": null,
            "justify_items": null,
            "left": null,
            "margin": null,
            "max_height": null,
            "max_width": null,
            "min_height": null,
            "min_width": null,
            "object_fit": null,
            "object_position": null,
            "order": null,
            "overflow": null,
            "overflow_x": null,
            "overflow_y": null,
            "padding": null,
            "right": null,
            "top": null,
            "visibility": null,
            "width": null
          }
        },
        "8e41521cc8574a67bcc68ee56d35fed6": {
          "model_module": "@jupyter-widgets/controls",
          "model_name": "ProgressStyleModel",
          "model_module_version": "1.5.0",
          "state": {
            "_model_module": "@jupyter-widgets/controls",
            "_model_module_version": "1.5.0",
            "_model_name": "ProgressStyleModel",
            "_view_count": null,
            "_view_module": "@jupyter-widgets/base",
            "_view_module_version": "1.2.0",
            "_view_name": "StyleView",
            "bar_color": null,
            "description_width": ""
          }
        },
        "931fd45b84d645468dfe7d2195ac4dcd": {
          "model_module": "@jupyter-widgets/base",
          "model_name": "LayoutModel",
          "model_module_version": "1.2.0",
          "state": {
            "_model_module": "@jupyter-widgets/base",
            "_model_module_version": "1.2.0",
            "_model_name": "LayoutModel",
            "_view_count": null,
            "_view_module": "@jupyter-widgets/base",
            "_view_module_version": "1.2.0",
            "_view_name": "LayoutView",
            "align_content": null,
            "align_items": null,
            "align_self": null,
            "border": null,
            "bottom": null,
            "display": null,
            "flex": null,
            "flex_flow": null,
            "grid_area": null,
            "grid_auto_columns": null,
            "grid_auto_flow": null,
            "grid_auto_rows": null,
            "grid_column": null,
            "grid_gap": null,
            "grid_row": null,
            "grid_template_areas": null,
            "grid_template_columns": null,
            "grid_template_rows": null,
            "height": null,
            "justify_content": null,
            "justify_items": null,
            "left": null,
            "margin": null,
            "max_height": null,
            "max_width": null,
            "min_height": null,
            "min_width": null,
            "object_fit": null,
            "object_position": null,
            "order": null,
            "overflow": null,
            "overflow_x": null,
            "overflow_y": null,
            "padding": null,
            "right": null,
            "top": null,
            "visibility": null,
            "width": null
          }
        },
        "dddd0332b6784511b8a490477abc2ed4": {
          "model_module": "@jupyter-widgets/controls",
          "model_name": "DescriptionStyleModel",
          "model_module_version": "1.5.0",
          "state": {
            "_model_module": "@jupyter-widgets/controls",
            "_model_module_version": "1.5.0",
            "_model_name": "DescriptionStyleModel",
            "_view_count": null,
            "_view_module": "@jupyter-widgets/base",
            "_view_module_version": "1.2.0",
            "_view_name": "StyleView",
            "description_width": ""
          }
        }
      }
    }
  },
  "cells": [
    {
      "cell_type": "markdown",
      "metadata": {
        "id": "view-in-github",
        "colab_type": "text"
      },
      "source": [
        "<a href=\"https://colab.research.google.com/github/karimamr123/concept-project/blob/main/Evaluate_Llama2Base_model_for_LLM_res.ipynb\" target=\"_parent\"><img src=\"https://colab.research.google.com/assets/colab-badge.svg\" alt=\"Open In Colab\"/></a>"
      ]
    },
    {
      "cell_type": "markdown",
      "source": [
        "# Text2SQL Evaluate LLaMA2 base Model\n"
      ],
      "metadata": {
        "id": "ME9FJfDXTOvb"
      }
    },
    {
      "cell_type": "code",
      "execution_count": null,
      "metadata": {
        "id": "6XOjZdtzL9Lu",
        "colab": {
          "base_uri": "https://localhost:8080/"
        },
        "outputId": "c2ef5da0-9ee0-4198-b75c-cb330238838d"
      },
      "outputs": [
        {
          "output_type": "stream",
          "name": "stdout",
          "text": [
            "\u001b[?25l   \u001b[90m━━━━━━━━━━━━━━━━━━━━━━━━━━━━━━━━━━━━━━━━\u001b[0m \u001b[32m0.0/480.6 kB\u001b[0m \u001b[31m?\u001b[0m eta \u001b[36m-:--:--\u001b[0m\r\u001b[2K   \u001b[90m━━━━━━━━━━━━━━━━━━━━━━━━━━━━━━━━━━━━━━━━\u001b[0m \u001b[32m480.6/480.6 kB\u001b[0m \u001b[31m14.9 MB/s\u001b[0m eta \u001b[36m0:00:00\u001b[0m\n",
            "\u001b[?25h\u001b[?25l   \u001b[90m━━━━━━━━━━━━━━━━━━━━━━━━━━━━━━━━━━━━━━━━\u001b[0m \u001b[32m0.0/116.3 kB\u001b[0m \u001b[31m?\u001b[0m eta \u001b[36m-:--:--\u001b[0m\r\u001b[2K   \u001b[90m━━━━━━━━━━━━━━━━━━━━━━━━━━━━━━━━━━━━━━━━\u001b[0m \u001b[32m116.3/116.3 kB\u001b[0m \u001b[31m12.4 MB/s\u001b[0m eta \u001b[36m0:00:00\u001b[0m\n",
            "\u001b[?25h\u001b[?25l   \u001b[90m━━━━━━━━━━━━━━━━━━━━━━━━━━━━━━━━━━━━━━━━\u001b[0m \u001b[32m0.0/179.3 kB\u001b[0m \u001b[31m?\u001b[0m eta \u001b[36m-:--:--\u001b[0m\r\u001b[2K   \u001b[90m━━━━━━━━━━━━━━━━━━━━━━━━━━━━━━━━━━━━━━━━\u001b[0m \u001b[32m179.3/179.3 kB\u001b[0m \u001b[31m18.7 MB/s\u001b[0m eta \u001b[36m0:00:00\u001b[0m\n",
            "\u001b[2K   \u001b[90m━━━━━━━━━━━━━━━━━━━━━━━━━━━━━━━━━━━━━━━━\u001b[0m \u001b[32m143.5/143.5 kB\u001b[0m \u001b[31m14.1 MB/s\u001b[0m eta \u001b[36m0:00:00\u001b[0m\n",
            "\u001b[2K   \u001b[90m━━━━━━━━━━━━━━━━━━━━━━━━━━━━━━━━━━━━━━━━\u001b[0m \u001b[32m194.8/194.8 kB\u001b[0m \u001b[31m18.6 MB/s\u001b[0m eta \u001b[36m0:00:00\u001b[0m\n",
            "\u001b[?25h\u001b[31mERROR: pip's dependency resolver does not currently take into account all the packages that are installed. This behaviour is the source of the following dependency conflicts.\n",
            "gcsfs 2024.10.0 requires fsspec==2024.10.0, but you have fsspec 2024.9.0 which is incompatible.\n",
            "torch 2.5.1+cu124 requires nvidia-cublas-cu12==12.4.5.8; platform_system == \"Linux\" and platform_machine == \"x86_64\", but you have nvidia-cublas-cu12 12.5.3.2 which is incompatible.\n",
            "torch 2.5.1+cu124 requires nvidia-cuda-cupti-cu12==12.4.127; platform_system == \"Linux\" and platform_machine == \"x86_64\", but you have nvidia-cuda-cupti-cu12 12.5.82 which is incompatible.\n",
            "torch 2.5.1+cu124 requires nvidia-cuda-nvrtc-cu12==12.4.127; platform_system == \"Linux\" and platform_machine == \"x86_64\", but you have nvidia-cuda-nvrtc-cu12 12.5.82 which is incompatible.\n",
            "torch 2.5.1+cu124 requires nvidia-cuda-runtime-cu12==12.4.127; platform_system == \"Linux\" and platform_machine == \"x86_64\", but you have nvidia-cuda-runtime-cu12 12.5.82 which is incompatible.\n",
            "torch 2.5.1+cu124 requires nvidia-cudnn-cu12==9.1.0.70; platform_system == \"Linux\" and platform_machine == \"x86_64\", but you have nvidia-cudnn-cu12 9.3.0.75 which is incompatible.\n",
            "torch 2.5.1+cu124 requires nvidia-cufft-cu12==11.2.1.3; platform_system == \"Linux\" and platform_machine == \"x86_64\", but you have nvidia-cufft-cu12 11.2.3.61 which is incompatible.\n",
            "torch 2.5.1+cu124 requires nvidia-curand-cu12==10.3.5.147; platform_system == \"Linux\" and platform_machine == \"x86_64\", but you have nvidia-curand-cu12 10.3.6.82 which is incompatible.\n",
            "torch 2.5.1+cu124 requires nvidia-cusolver-cu12==11.6.1.9; platform_system == \"Linux\" and platform_machine == \"x86_64\", but you have nvidia-cusolver-cu12 11.6.3.83 which is incompatible.\n",
            "torch 2.5.1+cu124 requires nvidia-cusparse-cu12==12.3.1.170; platform_system == \"Linux\" and platform_machine == \"x86_64\", but you have nvidia-cusparse-cu12 12.5.1.3 which is incompatible.\n",
            "torch 2.5.1+cu124 requires nvidia-nvjitlink-cu12==12.4.127; platform_system == \"Linux\" and platform_machine == \"x86_64\", but you have nvidia-nvjitlink-cu12 12.5.82 which is incompatible.\u001b[0m\u001b[31m\n",
            "\u001b[2K     \u001b[90m━━━━━━━━━━━━━━━━━━━━━━━━━━━━━━━━━━━━━━━━\u001b[0m \u001b[32m44.4/44.4 kB\u001b[0m \u001b[31m2.8 MB/s\u001b[0m eta \u001b[36m0:00:00\u001b[0m\n",
            "\u001b[2K   \u001b[90m━━━━━━━━━━━━━━━━━━━━━━━━━━━━━━━━━━━━━━━━\u001b[0m \u001b[32m766.7/766.7 MB\u001b[0m \u001b[31m1.4 MB/s\u001b[0m eta \u001b[36m0:00:00\u001b[0m\n",
            "\u001b[2K   \u001b[90m━━━━━━━━━━━━━━━━━━━━━━━━━━━━━━━━━━━━━━━━\u001b[0m \u001b[32m363.4/363.4 MB\u001b[0m \u001b[31m4.0 MB/s\u001b[0m eta \u001b[36m0:00:00\u001b[0m\n",
            "\u001b[2K   \u001b[90m━━━━━━━━━━━━━━━━━━━━━━━━━━━━━━━━━━━━━━━━\u001b[0m \u001b[32m13.8/13.8 MB\u001b[0m \u001b[31m108.0 MB/s\u001b[0m eta \u001b[36m0:00:00\u001b[0m\n",
            "\u001b[2K   \u001b[90m━━━━━━━━━━━━━━━━━━━━━━━━━━━━━━━━━━━━━━━━\u001b[0m \u001b[32m24.6/24.6 MB\u001b[0m \u001b[31m77.9 MB/s\u001b[0m eta \u001b[36m0:00:00\u001b[0m\n",
            "\u001b[2K   \u001b[90m━━━━━━━━━━━━━━━━━━━━━━━━━━━━━━━━━━━━━━━━\u001b[0m \u001b[32m883.7/883.7 kB\u001b[0m \u001b[31m51.7 MB/s\u001b[0m eta \u001b[36m0:00:00\u001b[0m\n",
            "\u001b[2K   \u001b[90m━━━━━━━━━━━━━━━━━━━━━━━━━━━━━━━━━━━━━━━━\u001b[0m \u001b[32m664.8/664.8 MB\u001b[0m \u001b[31m2.9 MB/s\u001b[0m eta \u001b[36m0:00:00\u001b[0m\n",
            "\u001b[2K   \u001b[90m━━━━━━━━━━━━━━━━━━━━━━━━━━━━━━━━━━━━━━━━\u001b[0m \u001b[32m211.5/211.5 MB\u001b[0m \u001b[31m5.5 MB/s\u001b[0m eta \u001b[36m0:00:00\u001b[0m\n",
            "\u001b[2K   \u001b[90m━━━━━━━━━━━━━━━━━━━━━━━━━━━━━━━━━━━━━━━━\u001b[0m \u001b[32m56.3/56.3 MB\u001b[0m \u001b[31m14.6 MB/s\u001b[0m eta \u001b[36m0:00:00\u001b[0m\n",
            "\u001b[2K   \u001b[90m━━━━━━━━━━━━━━━━━━━━━━━━━━━━━━━━━━━━━━━━\u001b[0m \u001b[32m127.9/127.9 MB\u001b[0m \u001b[31m7.5 MB/s\u001b[0m eta \u001b[36m0:00:00\u001b[0m\n",
            "\u001b[2K   \u001b[90m━━━━━━━━━━━━━━━━━━━━━━━━━━━━━━━━━━━━━━━━\u001b[0m \u001b[32m207.5/207.5 MB\u001b[0m \u001b[31m7.1 MB/s\u001b[0m eta \u001b[36m0:00:00\u001b[0m\n",
            "\u001b[2K   \u001b[90m━━━━━━━━━━━━━━━━━━━━━━━━━━━━━━━━━━━━━━━━\u001b[0m \u001b[32m150.1/150.1 MB\u001b[0m \u001b[31m6.9 MB/s\u001b[0m eta \u001b[36m0:00:00\u001b[0m\n",
            "\u001b[2K   \u001b[90m━━━━━━━━━━━━━━━━━━━━━━━━━━━━━━━━━━━━━━━━\u001b[0m \u001b[32m21.1/21.1 MB\u001b[0m \u001b[31m88.5 MB/s\u001b[0m eta \u001b[36m0:00:00\u001b[0m\n",
            "\u001b[2K   \u001b[90m━━━━━━━━━━━━━━━━━━━━━━━━━━━━━━━━━━━━━━━━\u001b[0m \u001b[32m253.2/253.2 MB\u001b[0m \u001b[31m4.8 MB/s\u001b[0m eta \u001b[36m0:00:00\u001b[0m\n",
            "\u001b[2K   \u001b[90m━━━━━━━━━━━━━━━━━━━━━━━━━━━━━━━━━━━━━━━━\u001b[0m \u001b[32m23.5/23.5 MB\u001b[0m \u001b[31m37.7 MB/s\u001b[0m eta \u001b[36m0:00:00\u001b[0m\n",
            "\u001b[2K   \u001b[90m━━━━━━━━━━━━━━━━━━━━━━━━━━━━━━━━━━━━━━━━\u001b[0m \u001b[32m9.7/9.7 MB\u001b[0m \u001b[31m96.9 MB/s\u001b[0m eta \u001b[36m0:00:00\u001b[0m\n",
            "\u001b[2K   \u001b[90m━━━━━━━━━━━━━━━━━━━━━━━━━━━━━━━━━━━━━━━━\u001b[0m \u001b[32m433.6/433.6 kB\u001b[0m \u001b[31m30.9 MB/s\u001b[0m eta \u001b[36m0:00:00\u001b[0m\n",
            "\u001b[2K   \u001b[90m━━━━━━━━━━━━━━━━━━━━━━━━━━━━━━━━━━━━━━━━\u001b[0m \u001b[32m13.2/13.2 MB\u001b[0m \u001b[31m69.9 MB/s\u001b[0m eta \u001b[36m0:00:00\u001b[0m\n",
            "\u001b[?25h\u001b[31mERROR: pip's dependency resolver does not currently take into account all the packages that are installed. This behaviour is the source of the following dependency conflicts.\n",
            "torchvision 0.20.1+cu124 requires torch==2.5.1, but you have torch 2.6.0 which is incompatible.\n",
            "torchaudio 2.5.1+cu124 requires torch==2.5.1, but you have torch 2.6.0 which is incompatible.\n",
            "fastai 2.7.18 requires torch<2.6,>=1.10, but you have torch 2.6.0 which is incompatible.\u001b[0m\u001b[31m\n",
            "\u001b[2K   \u001b[90m━━━━━━━━━━━━━━━━━━━━━━━━━━━━━━━━━━━━━━━━\u001b[0m \u001b[32m313.9/313.9 kB\u001b[0m \u001b[31m11.7 MB/s\u001b[0m eta \u001b[36m0:00:00\u001b[0m\n",
            "\u001b[2K   \u001b[90m━━━━━━━━━━━━━━━━━━━━━━━━━━━━━━━━━━━━━━━━\u001b[0m \u001b[32m44.3/44.3 MB\u001b[0m \u001b[31m15.8 MB/s\u001b[0m eta \u001b[36m0:00:00\u001b[0m\n",
            "\u001b[2K   \u001b[90m━━━━━━━━━━━━━━━━━━━━━━━━━━━━━━━━━━━━━━━━\u001b[0m \u001b[32m69.7/69.7 MB\u001b[0m \u001b[31m11.1 MB/s\u001b[0m eta \u001b[36m0:00:00\u001b[0m\n",
            "\u001b[?25h"
          ]
        }
      ],
      "source": [
        "!pip install -q -U datasets\n",
        "!pip install -q -U torch auto-gptq transformers optimum\n",
        "!pip install -q -U peft trl einops accelerate xformers bitsandbytes\n",
        "#! pip install -q -U rouge_score\n",
        "#! pip install -q -U langchain"
      ]
    },
    {
      "cell_type": "code",
      "source": [],
      "metadata": {
        "id": "GmRnPzM4jqK0"
      },
      "execution_count": null,
      "outputs": []
    },
    {
      "cell_type": "markdown",
      "source": [],
      "metadata": {
        "id": "uaSj6NDUjq9m"
      }
    },
    {
      "cell_type": "code",
      "source": [
        "! pip install torchvision==0.20.1+cu124 torch==2.5.1 torchaudio==2.5.1+cu124"
      ],
      "metadata": {
        "id": "04pFd57xoYix",
        "colab": {
          "base_uri": "https://localhost:8080/"
        },
        "outputId": "9941a388-6c15-4bb0-b76e-766e1090589c"
      },
      "execution_count": null,
      "outputs": [
        {
          "output_type": "stream",
          "name": "stdout",
          "text": [
            "Requirement already satisfied: torchvision==0.20.1+cu124 in /usr/local/lib/python3.11/dist-packages (0.20.1+cu124)\n",
            "Collecting torch==2.5.1\n",
            "  Downloading torch-2.5.1-cp311-cp311-manylinux1_x86_64.whl.metadata (28 kB)\n",
            "Requirement already satisfied: torchaudio==2.5.1+cu124 in /usr/local/lib/python3.11/dist-packages (2.5.1+cu124)\n",
            "Requirement already satisfied: numpy in /usr/local/lib/python3.11/dist-packages (from torchvision==0.20.1+cu124) (1.26.4)\n",
            "Requirement already satisfied: pillow!=8.3.*,>=5.3.0 in /usr/local/lib/python3.11/dist-packages (from torchvision==0.20.1+cu124) (11.1.0)\n",
            "Requirement already satisfied: filelock in /usr/local/lib/python3.11/dist-packages (from torch==2.5.1) (3.17.0)\n",
            "Requirement already satisfied: typing-extensions>=4.8.0 in /usr/local/lib/python3.11/dist-packages (from torch==2.5.1) (4.12.2)\n",
            "Requirement already satisfied: networkx in /usr/local/lib/python3.11/dist-packages (from torch==2.5.1) (3.4.2)\n",
            "Requirement already satisfied: jinja2 in /usr/local/lib/python3.11/dist-packages (from torch==2.5.1) (3.1.5)\n",
            "Requirement already satisfied: fsspec in /usr/local/lib/python3.11/dist-packages (from torch==2.5.1) (2024.9.0)\n",
            "Requirement already satisfied: nvidia-cuda-nvrtc-cu12==12.4.127 in /usr/local/lib/python3.11/dist-packages (from torch==2.5.1) (12.4.127)\n",
            "Requirement already satisfied: nvidia-cuda-runtime-cu12==12.4.127 in /usr/local/lib/python3.11/dist-packages (from torch==2.5.1) (12.4.127)\n",
            "Requirement already satisfied: nvidia-cuda-cupti-cu12==12.4.127 in /usr/local/lib/python3.11/dist-packages (from torch==2.5.1) (12.4.127)\n",
            "Requirement already satisfied: nvidia-cudnn-cu12==9.1.0.70 in /usr/local/lib/python3.11/dist-packages (from torch==2.5.1) (9.1.0.70)\n",
            "Requirement already satisfied: nvidia-cublas-cu12==12.4.5.8 in /usr/local/lib/python3.11/dist-packages (from torch==2.5.1) (12.4.5.8)\n",
            "Requirement already satisfied: nvidia-cufft-cu12==11.2.1.3 in /usr/local/lib/python3.11/dist-packages (from torch==2.5.1) (11.2.1.3)\n",
            "Requirement already satisfied: nvidia-curand-cu12==10.3.5.147 in /usr/local/lib/python3.11/dist-packages (from torch==2.5.1) (10.3.5.147)\n",
            "Requirement already satisfied: nvidia-cusolver-cu12==11.6.1.9 in /usr/local/lib/python3.11/dist-packages (from torch==2.5.1) (11.6.1.9)\n",
            "Requirement already satisfied: nvidia-cusparse-cu12==12.3.1.170 in /usr/local/lib/python3.11/dist-packages (from torch==2.5.1) (12.3.1.170)\n",
            "Requirement already satisfied: nvidia-nccl-cu12==2.21.5 in /usr/local/lib/python3.11/dist-packages (from torch==2.5.1) (2.21.5)\n",
            "Requirement already satisfied: nvidia-nvtx-cu12==12.4.127 in /usr/local/lib/python3.11/dist-packages (from torch==2.5.1) (12.4.127)\n",
            "Requirement already satisfied: nvidia-nvjitlink-cu12==12.4.127 in /usr/local/lib/python3.11/dist-packages (from torch==2.5.1) (12.4.127)\n",
            "Collecting triton==3.1.0 (from torch==2.5.1)\n",
            "  Downloading triton-3.1.0-cp311-cp311-manylinux_2_17_x86_64.manylinux2014_x86_64.whl.metadata (1.3 kB)\n",
            "Requirement already satisfied: sympy==1.13.1 in /usr/local/lib/python3.11/dist-packages (from torch==2.5.1) (1.13.1)\n",
            "Requirement already satisfied: mpmath<1.4,>=1.1.0 in /usr/local/lib/python3.11/dist-packages (from sympy==1.13.1->torch==2.5.1) (1.3.0)\n",
            "Requirement already satisfied: MarkupSafe>=2.0 in /usr/local/lib/python3.11/dist-packages (from jinja2->torch==2.5.1) (3.0.2)\n",
            "Downloading torch-2.5.1-cp311-cp311-manylinux1_x86_64.whl (906.5 MB)\n",
            "\u001b[2K   \u001b[90m━━━━━━━━━━━━━━━━━━━━━━━━━━━━━━━━━━━━━━━━\u001b[0m \u001b[32m906.5/906.5 MB\u001b[0m \u001b[31m399.7 kB/s\u001b[0m eta \u001b[36m0:00:00\u001b[0m\n",
            "\u001b[?25hDownloading triton-3.1.0-cp311-cp311-manylinux_2_17_x86_64.manylinux2014_x86_64.whl (209.5 MB)\n",
            "\u001b[2K   \u001b[90m━━━━━━━━━━━━━━━━━━━━━━━━━━━━━━━━━━━━━━━━\u001b[0m \u001b[32m209.5/209.5 MB\u001b[0m \u001b[31m6.2 MB/s\u001b[0m eta \u001b[36m0:00:00\u001b[0m\n",
            "\u001b[?25hInstalling collected packages: triton, torch\n",
            "  Attempting uninstall: triton\n",
            "    Found existing installation: triton 3.2.0\n",
            "    Uninstalling triton-3.2.0:\n",
            "      Successfully uninstalled triton-3.2.0\n",
            "  Attempting uninstall: torch\n",
            "    Found existing installation: torch 2.6.0\n",
            "    Uninstalling torch-2.6.0:\n",
            "      Successfully uninstalled torch-2.6.0\n",
            "\u001b[31mERROR: pip's dependency resolver does not currently take into account all the packages that are installed. This behaviour is the source of the following dependency conflicts.\n",
            "xformers 0.0.29.post2 requires torch==2.6.0, but you have torch 2.5.1 which is incompatible.\u001b[0m\u001b[31m\n",
            "\u001b[0mSuccessfully installed torch-2.5.1 triton-3.1.0\n"
          ]
        }
      ]
    },
    {
      "cell_type": "code",
      "source": [],
      "metadata": {
        "id": "TdL1J6ekjEVc"
      },
      "execution_count": null,
      "outputs": []
    },
    {
      "cell_type": "code",
      "source": [
        "!pip install langchain_community"
      ],
      "metadata": {
        "id": "Yi4DO802oZeK",
        "colab": {
          "base_uri": "https://localhost:8080/"
        },
        "outputId": "4b0e5dc9-4b8f-4ddc-acb0-87dba3f6eed6"
      },
      "execution_count": null,
      "outputs": [
        {
          "output_type": "stream",
          "name": "stdout",
          "text": [
            "Collecting langchain_community\n",
            "  Downloading langchain_community-0.3.17-py3-none-any.whl.metadata (2.4 kB)\n",
            "Collecting langchain-core<1.0.0,>=0.3.34 (from langchain_community)\n",
            "  Downloading langchain_core-0.3.34-py3-none-any.whl.metadata (5.9 kB)\n",
            "Collecting langchain<1.0.0,>=0.3.18 (from langchain_community)\n",
            "  Downloading langchain-0.3.18-py3-none-any.whl.metadata (7.8 kB)\n",
            "Requirement already satisfied: SQLAlchemy<3,>=1.4 in /usr/local/lib/python3.11/dist-packages (from langchain_community) (2.0.37)\n",
            "Requirement already satisfied: requests<3,>=2 in /usr/local/lib/python3.11/dist-packages (from langchain_community) (2.32.3)\n",
            "Requirement already satisfied: PyYAML>=5.3 in /usr/local/lib/python3.11/dist-packages (from langchain_community) (6.0.2)\n",
            "Requirement already satisfied: aiohttp<4.0.0,>=3.8.3 in /usr/local/lib/python3.11/dist-packages (from langchain_community) (3.11.11)\n",
            "Requirement already satisfied: tenacity!=8.4.0,<10,>=8.1.0 in /usr/local/lib/python3.11/dist-packages (from langchain_community) (9.0.0)\n",
            "Collecting dataclasses-json<0.7,>=0.5.7 (from langchain_community)\n",
            "  Downloading dataclasses_json-0.6.7-py3-none-any.whl.metadata (25 kB)\n",
            "Collecting pydantic-settings<3.0.0,>=2.4.0 (from langchain_community)\n",
            "  Downloading pydantic_settings-2.7.1-py3-none-any.whl.metadata (3.5 kB)\n",
            "Requirement already satisfied: langsmith<0.4,>=0.1.125 in /usr/local/lib/python3.11/dist-packages (from langchain_community) (0.3.5)\n",
            "Collecting httpx-sse<1.0.0,>=0.4.0 (from langchain_community)\n",
            "  Downloading httpx_sse-0.4.0-py3-none-any.whl.metadata (9.0 kB)\n",
            "Requirement already satisfied: numpy<2,>=1.26.4 in /usr/local/lib/python3.11/dist-packages (from langchain_community) (1.26.4)\n",
            "Requirement already satisfied: aiohappyeyeballs>=2.3.0 in /usr/local/lib/python3.11/dist-packages (from aiohttp<4.0.0,>=3.8.3->langchain_community) (2.4.4)\n",
            "Requirement already satisfied: aiosignal>=1.1.2 in /usr/local/lib/python3.11/dist-packages (from aiohttp<4.0.0,>=3.8.3->langchain_community) (1.3.2)\n",
            "Requirement already satisfied: attrs>=17.3.0 in /usr/local/lib/python3.11/dist-packages (from aiohttp<4.0.0,>=3.8.3->langchain_community) (25.1.0)\n",
            "Requirement already satisfied: frozenlist>=1.1.1 in /usr/local/lib/python3.11/dist-packages (from aiohttp<4.0.0,>=3.8.3->langchain_community) (1.5.0)\n",
            "Requirement already satisfied: multidict<7.0,>=4.5 in /usr/local/lib/python3.11/dist-packages (from aiohttp<4.0.0,>=3.8.3->langchain_community) (6.1.0)\n",
            "Requirement already satisfied: propcache>=0.2.0 in /usr/local/lib/python3.11/dist-packages (from aiohttp<4.0.0,>=3.8.3->langchain_community) (0.2.1)\n",
            "Requirement already satisfied: yarl<2.0,>=1.17.0 in /usr/local/lib/python3.11/dist-packages (from aiohttp<4.0.0,>=3.8.3->langchain_community) (1.18.3)\n",
            "Collecting marshmallow<4.0.0,>=3.18.0 (from dataclasses-json<0.7,>=0.5.7->langchain_community)\n",
            "  Downloading marshmallow-3.26.1-py3-none-any.whl.metadata (7.3 kB)\n",
            "Collecting typing-inspect<1,>=0.4.0 (from dataclasses-json<0.7,>=0.5.7->langchain_community)\n",
            "  Downloading typing_inspect-0.9.0-py3-none-any.whl.metadata (1.5 kB)\n",
            "Collecting langchain-text-splitters<1.0.0,>=0.3.6 (from langchain<1.0.0,>=0.3.18->langchain_community)\n",
            "  Downloading langchain_text_splitters-0.3.6-py3-none-any.whl.metadata (1.9 kB)\n",
            "Requirement already satisfied: pydantic<3.0.0,>=2.7.4 in /usr/local/lib/python3.11/dist-packages (from langchain<1.0.0,>=0.3.18->langchain_community) (2.10.6)\n",
            "Requirement already satisfied: jsonpatch<2.0,>=1.33 in /usr/local/lib/python3.11/dist-packages (from langchain-core<1.0.0,>=0.3.34->langchain_community) (1.33)\n",
            "Requirement already satisfied: packaging<25,>=23.2 in /usr/local/lib/python3.11/dist-packages (from langchain-core<1.0.0,>=0.3.34->langchain_community) (24.2)\n",
            "Requirement already satisfied: typing-extensions>=4.7 in /usr/local/lib/python3.11/dist-packages (from langchain-core<1.0.0,>=0.3.34->langchain_community) (4.12.2)\n",
            "Requirement already satisfied: httpx<1,>=0.23.0 in /usr/local/lib/python3.11/dist-packages (from langsmith<0.4,>=0.1.125->langchain_community) (0.28.1)\n",
            "Requirement already satisfied: orjson<4.0.0,>=3.9.14 in /usr/local/lib/python3.11/dist-packages (from langsmith<0.4,>=0.1.125->langchain_community) (3.10.15)\n",
            "Requirement already satisfied: requests-toolbelt<2.0.0,>=1.0.0 in /usr/local/lib/python3.11/dist-packages (from langsmith<0.4,>=0.1.125->langchain_community) (1.0.0)\n",
            "Requirement already satisfied: zstandard<0.24.0,>=0.23.0 in /usr/local/lib/python3.11/dist-packages (from langsmith<0.4,>=0.1.125->langchain_community) (0.23.0)\n",
            "Collecting python-dotenv>=0.21.0 (from pydantic-settings<3.0.0,>=2.4.0->langchain_community)\n",
            "  Downloading python_dotenv-1.0.1-py3-none-any.whl.metadata (23 kB)\n",
            "Requirement already satisfied: charset-normalizer<4,>=2 in /usr/local/lib/python3.11/dist-packages (from requests<3,>=2->langchain_community) (3.4.1)\n",
            "Requirement already satisfied: idna<4,>=2.5 in /usr/local/lib/python3.11/dist-packages (from requests<3,>=2->langchain_community) (3.10)\n",
            "Requirement already satisfied: urllib3<3,>=1.21.1 in /usr/local/lib/python3.11/dist-packages (from requests<3,>=2->langchain_community) (2.3.0)\n",
            "Requirement already satisfied: certifi>=2017.4.17 in /usr/local/lib/python3.11/dist-packages (from requests<3,>=2->langchain_community) (2025.1.31)\n",
            "Requirement already satisfied: greenlet!=0.4.17 in /usr/local/lib/python3.11/dist-packages (from SQLAlchemy<3,>=1.4->langchain_community) (3.1.1)\n",
            "Requirement already satisfied: anyio in /usr/local/lib/python3.11/dist-packages (from httpx<1,>=0.23.0->langsmith<0.4,>=0.1.125->langchain_community) (3.7.1)\n",
            "Requirement already satisfied: httpcore==1.* in /usr/local/lib/python3.11/dist-packages (from httpx<1,>=0.23.0->langsmith<0.4,>=0.1.125->langchain_community) (1.0.7)\n",
            "Requirement already satisfied: h11<0.15,>=0.13 in /usr/local/lib/python3.11/dist-packages (from httpcore==1.*->httpx<1,>=0.23.0->langsmith<0.4,>=0.1.125->langchain_community) (0.14.0)\n",
            "Requirement already satisfied: jsonpointer>=1.9 in /usr/local/lib/python3.11/dist-packages (from jsonpatch<2.0,>=1.33->langchain-core<1.0.0,>=0.3.34->langchain_community) (3.0.0)\n",
            "Requirement already satisfied: annotated-types>=0.6.0 in /usr/local/lib/python3.11/dist-packages (from pydantic<3.0.0,>=2.7.4->langchain<1.0.0,>=0.3.18->langchain_community) (0.7.0)\n",
            "Requirement already satisfied: pydantic-core==2.27.2 in /usr/local/lib/python3.11/dist-packages (from pydantic<3.0.0,>=2.7.4->langchain<1.0.0,>=0.3.18->langchain_community) (2.27.2)\n",
            "Collecting mypy-extensions>=0.3.0 (from typing-inspect<1,>=0.4.0->dataclasses-json<0.7,>=0.5.7->langchain_community)\n",
            "  Downloading mypy_extensions-1.0.0-py3-none-any.whl.metadata (1.1 kB)\n",
            "Requirement already satisfied: sniffio>=1.1 in /usr/local/lib/python3.11/dist-packages (from anyio->httpx<1,>=0.23.0->langsmith<0.4,>=0.1.125->langchain_community) (1.3.1)\n",
            "Downloading langchain_community-0.3.17-py3-none-any.whl (2.5 MB)\n",
            "\u001b[2K   \u001b[90m━━━━━━━━━━━━━━━━━━━━━━━━━━━━━━━━━━━━━━━━\u001b[0m \u001b[32m2.5/2.5 MB\u001b[0m \u001b[31m41.4 MB/s\u001b[0m eta \u001b[36m0:00:00\u001b[0m\n",
            "\u001b[?25hDownloading dataclasses_json-0.6.7-py3-none-any.whl (28 kB)\n",
            "Downloading httpx_sse-0.4.0-py3-none-any.whl (7.8 kB)\n",
            "Downloading langchain-0.3.18-py3-none-any.whl (1.0 MB)\n",
            "\u001b[2K   \u001b[90m━━━━━━━━━━━━━━━━━━━━━━━━━━━━━━━━━━━━━━━━\u001b[0m \u001b[32m1.0/1.0 MB\u001b[0m \u001b[31m50.8 MB/s\u001b[0m eta \u001b[36m0:00:00\u001b[0m\n",
            "\u001b[?25hDownloading langchain_core-0.3.34-py3-none-any.whl (412 kB)\n",
            "\u001b[2K   \u001b[90m━━━━━━━━━━━━━━━━━━━━━━━━━━━━━━━━━━━━━━━━\u001b[0m \u001b[32m413.0/413.0 kB\u001b[0m \u001b[31m33.2 MB/s\u001b[0m eta \u001b[36m0:00:00\u001b[0m\n",
            "\u001b[?25hDownloading pydantic_settings-2.7.1-py3-none-any.whl (29 kB)\n",
            "Downloading langchain_text_splitters-0.3.6-py3-none-any.whl (31 kB)\n",
            "Downloading marshmallow-3.26.1-py3-none-any.whl (50 kB)\n",
            "\u001b[2K   \u001b[90m━━━━━━━━━━━━━━━━━━━━━━━━━━━━━━━━━━━━━━━━\u001b[0m \u001b[32m50.9/50.9 kB\u001b[0m \u001b[31m4.8 MB/s\u001b[0m eta \u001b[36m0:00:00\u001b[0m\n",
            "\u001b[?25hDownloading python_dotenv-1.0.1-py3-none-any.whl (19 kB)\n",
            "Downloading typing_inspect-0.9.0-py3-none-any.whl (8.8 kB)\n",
            "Downloading mypy_extensions-1.0.0-py3-none-any.whl (4.7 kB)\n",
            "Installing collected packages: python-dotenv, mypy-extensions, marshmallow, httpx-sse, typing-inspect, pydantic-settings, dataclasses-json, langchain-core, langchain-text-splitters, langchain, langchain_community\n",
            "  Attempting uninstall: langchain-core\n",
            "    Found existing installation: langchain-core 0.3.33\n",
            "    Uninstalling langchain-core-0.3.33:\n",
            "      Successfully uninstalled langchain-core-0.3.33\n",
            "  Attempting uninstall: langchain-text-splitters\n",
            "    Found existing installation: langchain-text-splitters 0.3.5\n",
            "    Uninstalling langchain-text-splitters-0.3.5:\n",
            "      Successfully uninstalled langchain-text-splitters-0.3.5\n",
            "  Attempting uninstall: langchain\n",
            "    Found existing installation: langchain 0.3.17\n",
            "    Uninstalling langchain-0.3.17:\n",
            "      Successfully uninstalled langchain-0.3.17\n",
            "Successfully installed dataclasses-json-0.6.7 httpx-sse-0.4.0 langchain-0.3.18 langchain-core-0.3.34 langchain-text-splitters-0.3.6 langchain_community-0.3.17 marshmallow-3.26.1 mypy-extensions-1.0.0 pydantic-settings-2.7.1 python-dotenv-1.0.1 typing-inspect-0.9.0\n"
          ]
        }
      ]
    },
    {
      "cell_type": "markdown",
      "source": [
        "# Importing necessarry Libararies"
      ],
      "metadata": {
        "id": "Uya7uGQUT6ip"
      }
    },
    {
      "cell_type": "code",
      "source": [
        "import pandas as pd\n",
        "import json\n",
        "import torch\n",
        "import os\n",
        "import time\n",
        "\n",
        "# In case Login Required For Model\n",
        "# from huggingface_hub import login\n",
        "# from dotenv import load_dotenv\n",
        "\n",
        "from datasets import load_dataset, Dataset,load_from_disk\n",
        "from transformers import AutoModelForCausalLM, AutoTokenizer, GenerationConfig, pipeline\n",
        "from peft import prepare_model_for_kbit_training, LoraConfig, get_peft_model, AutoPeftModelForCausalLM\n",
        "from transformers import GPTQConfig, Trainer, TrainingArguments, DataCollatorForLanguageModeling\n",
        "from trl import SFTTrainer\n",
        "from time import perf_counter\n",
        "from rich import print\n",
        "\n",
        "# LangChain Imports\n",
        "from langchain.llms import HuggingFacePipeline\n",
        "from langchain import PromptTemplate  #, LLMChain\n",
        "\n",
        "# Imports for QA Retrieval Chain\n",
        "from langchain.chains import RetrievalQA\n",
        "\n",
        "# Import to Cleanup LLM Output\n",
        "import textwrap"
      ],
      "metadata": {
        "id": "Hkkh6DJTMfE-"
      },
      "execution_count": null,
      "outputs": []
    },
    {
      "cell_type": "code",
      "source": [
        "# If Login Required for Model Access\n",
        "# load_dotenv(\"/notebooks/.env\")\n",
        "# os.environ[\"TOKENIZERS_PARALLELISM\"]=\"false\"\n",
        "# login(token=os.getenv(\"HUGGINGFACE_TOKEN\"))"
      ],
      "metadata": {
        "id": "oXrEimwYS-wv"
      },
      "execution_count": null,
      "outputs": []
    },
    {
      "cell_type": "markdown",
      "source": [
        "# Define the Model path and the dataset also paths on Drive"
      ],
      "metadata": {
        "id": "iTP0RPlzTy7v"
      }
    },
    {
      "cell_type": "code",
      "source": [
        "model_id = \"TheBloke/Llama-2-7B-GPTQ\"\n",
        "# model_id = \"TheBloke/Llama-2-7b-Chat-GPTQ\""
      ],
      "metadata": {
        "id": "ebYGu7RBO-se"
      },
      "execution_count": null,
      "outputs": []
    },
    {
      "cell_type": "code",
      "source": [
        "# GDrive Location for Train/Test Data\n",
        "DATA_PATH =\"/content/drive/MyDrive/Data/\"\n",
        "DS_DIR = \"sql_train_test\"\n",
        "PKL_DIR = \"test/\"\n",
        "PKL_FILE =\"sql_test.pkl\"\n",
        "LLMRES_PKL_FILE=\"sql_test_Llama2\" # important this is the location of llm result change it if you divide the test # change it when re run it"
      ],
      "metadata": {
        "id": "fQQJWLyzEa3v"
      },
      "execution_count": null,
      "outputs": []
    },
    {
      "cell_type": "markdown",
      "source": [
        "### Let's define our helping Functions"
      ],
      "metadata": {
        "id": "Kibx7VEPTw2P"
      }
    },
    {
      "cell_type": "code",
      "source": [
        "def tokenize_function(example):\n",
        "    return tokenizer(example[\"sentence1\"], example[\"sentence2\"], truncation=True)"
      ],
      "metadata": {
        "id": "MoopvRhVrsn9"
      },
      "execution_count": null,
      "outputs": []
    },
    {
      "cell_type": "code",
      "source": [
        "def parse(text):\n",
        "    start_marker = '### Response:'\n",
        "    end_marker = '### End'\n",
        "    start_index = text.find(start_marker)\n",
        "    end_index = text.find(end_marker, start_index + len(start_marker))\n",
        "\n",
        "    return (text[start_index + len(start_marker):].strip() if start_index != -1 and end_index == -1\n",
        "            else text[start_index + len(start_marker):end_index].strip() if start_index != -1\n",
        "            else None)"
      ],
      "metadata": {
        "id": "obA4jy6VUJY8"
      },
      "execution_count": null,
      "outputs": []
    },
    {
      "cell_type": "code",
      "source": [
        "def gen_eval_res(test_df):\n",
        "  eval_res = []\n",
        "  time_res = []\n",
        "  row_no = 1\n",
        "  # tmp = test_df.iloc[:2]\n",
        "  for row in test_df.itertuples(index=False):\n",
        "    start_time = perf_counter()\n",
        "    # print(row.text)\n",
        "    text = row.text # test_df['text'][ID]\n",
        "    llm_res = pipe(text)[0]['generated_text']\n",
        "    parse_res = parse(llm_res)\n",
        "    end_time = perf_counter()\n",
        "    eval_res.append(parse_res)\n",
        "    time_res.append(end_time-start_time)\n",
        "    if row_no % 10 == 0:\n",
        "      print(f\"*** Row {row_no} Done ***\")\n",
        "    row_no += 1\n",
        "\n",
        "  test_df['eval_res'] = eval_res\n",
        "  test_df['eval_time'] = time_res\n",
        "  return test_df\n",
        "  # display(pd.DataFrame(eval_res))\n",
        "  # display(pd.DataFrame(time_res))"
      ],
      "metadata": {
        "id": "hXmgTSe71-CD"
      },
      "execution_count": null,
      "outputs": []
    },
    {
      "cell_type": "markdown",
      "source": [
        "### let;s Load and Check Data on our drive"
      ],
      "metadata": {
        "id": "cAJYIxGIUKYf"
      }
    },
    {
      "cell_type": "code",
      "source": [
        "from google.colab import drive\n",
        "drive.mount('/content/drive')"
      ],
      "metadata": {
        "id": "gtBGl9qGoqsa",
        "colab": {
          "base_uri": "https://localhost:8080/"
        },
        "outputId": "4dad8a16-97e9-4432-e548-234a0e9f30f5"
      },
      "execution_count": null,
      "outputs": [
        {
          "output_type": "stream",
          "name": "stdout",
          "text": [
            "Mounted at /content/drive\n"
          ]
        }
      ]
    },
    {
      "cell_type": "code",
      "source": [
        "# Load Test & Training Data from Disk\n",
        "dataset = load_from_disk(DATA_PATH + DS_DIR)"
      ],
      "metadata": {
        "id": "If_c2HH_JKlR"
      },
      "execution_count": null,
      "outputs": []
    },
    {
      "cell_type": "code",
      "source": [
        "test_df = pd.read_pickle(DATA_PATH + PKL_DIR + PKL_FILE)"
      ],
      "metadata": {
        "id": "dUMoXSOtUjcf"
      },
      "execution_count": null,
      "outputs": []
    },
    {
      "cell_type": "code",
      "source": [
        "display(dataset['train'])\n",
        "display(dataset['test'])"
      ],
      "metadata": {
        "colab": {
          "base_uri": "https://localhost:8080/",
          "height": 156
        },
        "id": "Ygy3081SsLVg",
        "outputId": "ffd57178-e622-41f3-aa39-50d4e328cffe"
      },
      "execution_count": null,
      "outputs": [
        {
          "output_type": "display_data",
          "data": {
            "text/plain": [
              "Dataset({\n",
              "    features: ['response', 'question', 'context', 'text', '__index_level_0__'],\n",
              "    num_rows: 4086\n",
              "})"
            ]
          },
          "metadata": {}
        },
        {
          "output_type": "display_data",
          "data": {
            "text/plain": [
              "Dataset({\n",
              "    features: ['response', 'question', 'context', 'text', '__index_level_0__'],\n",
              "    num_rows: 454\n",
              "})"
            ]
          },
          "metadata": {}
        }
      ]
    },
    {
      "cell_type": "code",
      "source": [
        "display(test_df.head(2))\n",
        "display(test_df.shape)"
      ],
      "metadata": {
        "id": "k_aDytOAUoop",
        "colab": {
          "base_uri": "https://localhost:8080/",
          "height": 164
        },
        "outputId": "b2676fdf-e270-449c-cf21-40d851eb8309"
      },
      "execution_count": null,
      "outputs": [
        {
          "output_type": "display_data",
          "data": {
            "text/plain": [
              "                                            response  \\\n",
              "0  SELECT College FROM match_season GROUP BY Coll...   \n",
              "1  SELECT T1.name FROM Person AS T1 JOIN PersonFr...   \n",
              "\n",
              "                                            question  \\\n",
              "0  Show the name of colleges that have at least t...   \n",
              "1  Find the name of the person who has friends wi...   \n",
              "\n",
              "                                             context  __index_level_0__  \\\n",
              "0        CREATE TABLE match_season (College VARCHAR)                611   \n",
              "1  CREATE TABLE Person (name VARCHAR, age INTEGER...               2556   \n",
              "\n",
              "                                                text  \n",
              "0  ### Instruction:\\n    You are a powerful text-...  \n",
              "1  ### Instruction:\\n    You are a powerful text-...  "
            ],
            "text/html": [
              "\n",
              "  <div id=\"df-a222ae65-3f4f-474d-8b7e-966f9ee67b97\" class=\"colab-df-container\">\n",
              "    <div>\n",
              "<style scoped>\n",
              "    .dataframe tbody tr th:only-of-type {\n",
              "        vertical-align: middle;\n",
              "    }\n",
              "\n",
              "    .dataframe tbody tr th {\n",
              "        vertical-align: top;\n",
              "    }\n",
              "\n",
              "    .dataframe thead th {\n",
              "        text-align: right;\n",
              "    }\n",
              "</style>\n",
              "<table border=\"1\" class=\"dataframe\">\n",
              "  <thead>\n",
              "    <tr style=\"text-align: right;\">\n",
              "      <th></th>\n",
              "      <th>response</th>\n",
              "      <th>question</th>\n",
              "      <th>context</th>\n",
              "      <th>__index_level_0__</th>\n",
              "      <th>text</th>\n",
              "    </tr>\n",
              "  </thead>\n",
              "  <tbody>\n",
              "    <tr>\n",
              "      <th>0</th>\n",
              "      <td>SELECT College FROM match_season GROUP BY Coll...</td>\n",
              "      <td>Show the name of colleges that have at least t...</td>\n",
              "      <td>CREATE TABLE match_season (College VARCHAR)</td>\n",
              "      <td>611</td>\n",
              "      <td>### Instruction:\\n    You are a powerful text-...</td>\n",
              "    </tr>\n",
              "    <tr>\n",
              "      <th>1</th>\n",
              "      <td>SELECT T1.name FROM Person AS T1 JOIN PersonFr...</td>\n",
              "      <td>Find the name of the person who has friends wi...</td>\n",
              "      <td>CREATE TABLE Person (name VARCHAR, age INTEGER...</td>\n",
              "      <td>2556</td>\n",
              "      <td>### Instruction:\\n    You are a powerful text-...</td>\n",
              "    </tr>\n",
              "  </tbody>\n",
              "</table>\n",
              "</div>\n",
              "    <div class=\"colab-df-buttons\">\n",
              "\n",
              "  <div class=\"colab-df-container\">\n",
              "    <button class=\"colab-df-convert\" onclick=\"convertToInteractive('df-a222ae65-3f4f-474d-8b7e-966f9ee67b97')\"\n",
              "            title=\"Convert this dataframe to an interactive table.\"\n",
              "            style=\"display:none;\">\n",
              "\n",
              "  <svg xmlns=\"http://www.w3.org/2000/svg\" height=\"24px\" viewBox=\"0 -960 960 960\">\n",
              "    <path d=\"M120-120v-720h720v720H120Zm60-500h600v-160H180v160Zm220 220h160v-160H400v160Zm0 220h160v-160H400v160ZM180-400h160v-160H180v160Zm440 0h160v-160H620v160ZM180-180h160v-160H180v160Zm440 0h160v-160H620v160Z\"/>\n",
              "  </svg>\n",
              "    </button>\n",
              "\n",
              "  <style>\n",
              "    .colab-df-container {\n",
              "      display:flex;\n",
              "      gap: 12px;\n",
              "    }\n",
              "\n",
              "    .colab-df-convert {\n",
              "      background-color: #E8F0FE;\n",
              "      border: none;\n",
              "      border-radius: 50%;\n",
              "      cursor: pointer;\n",
              "      display: none;\n",
              "      fill: #1967D2;\n",
              "      height: 32px;\n",
              "      padding: 0 0 0 0;\n",
              "      width: 32px;\n",
              "    }\n",
              "\n",
              "    .colab-df-convert:hover {\n",
              "      background-color: #E2EBFA;\n",
              "      box-shadow: 0px 1px 2px rgba(60, 64, 67, 0.3), 0px 1px 3px 1px rgba(60, 64, 67, 0.15);\n",
              "      fill: #174EA6;\n",
              "    }\n",
              "\n",
              "    .colab-df-buttons div {\n",
              "      margin-bottom: 4px;\n",
              "    }\n",
              "\n",
              "    [theme=dark] .colab-df-convert {\n",
              "      background-color: #3B4455;\n",
              "      fill: #D2E3FC;\n",
              "    }\n",
              "\n",
              "    [theme=dark] .colab-df-convert:hover {\n",
              "      background-color: #434B5C;\n",
              "      box-shadow: 0px 1px 3px 1px rgba(0, 0, 0, 0.15);\n",
              "      filter: drop-shadow(0px 1px 2px rgba(0, 0, 0, 0.3));\n",
              "      fill: #FFFFFF;\n",
              "    }\n",
              "  </style>\n",
              "\n",
              "    <script>\n",
              "      const buttonEl =\n",
              "        document.querySelector('#df-a222ae65-3f4f-474d-8b7e-966f9ee67b97 button.colab-df-convert');\n",
              "      buttonEl.style.display =\n",
              "        google.colab.kernel.accessAllowed ? 'block' : 'none';\n",
              "\n",
              "      async function convertToInteractive(key) {\n",
              "        const element = document.querySelector('#df-a222ae65-3f4f-474d-8b7e-966f9ee67b97');\n",
              "        const dataTable =\n",
              "          await google.colab.kernel.invokeFunction('convertToInteractive',\n",
              "                                                    [key], {});\n",
              "        if (!dataTable) return;\n",
              "\n",
              "        const docLinkHtml = 'Like what you see? Visit the ' +\n",
              "          '<a target=\"_blank\" href=https://colab.research.google.com/notebooks/data_table.ipynb>data table notebook</a>'\n",
              "          + ' to learn more about interactive tables.';\n",
              "        element.innerHTML = '';\n",
              "        dataTable['output_type'] = 'display_data';\n",
              "        await google.colab.output.renderOutput(dataTable, element);\n",
              "        const docLink = document.createElement('div');\n",
              "        docLink.innerHTML = docLinkHtml;\n",
              "        element.appendChild(docLink);\n",
              "      }\n",
              "    </script>\n",
              "  </div>\n",
              "\n",
              "\n",
              "<div id=\"df-f8719887-8421-46c0-a01f-693736e0fed3\">\n",
              "  <button class=\"colab-df-quickchart\" onclick=\"quickchart('df-f8719887-8421-46c0-a01f-693736e0fed3')\"\n",
              "            title=\"Suggest charts\"\n",
              "            style=\"display:none;\">\n",
              "\n",
              "<svg xmlns=\"http://www.w3.org/2000/svg\" height=\"24px\"viewBox=\"0 0 24 24\"\n",
              "     width=\"24px\">\n",
              "    <g>\n",
              "        <path d=\"M19 3H5c-1.1 0-2 .9-2 2v14c0 1.1.9 2 2 2h14c1.1 0 2-.9 2-2V5c0-1.1-.9-2-2-2zM9 17H7v-7h2v7zm4 0h-2V7h2v10zm4 0h-2v-4h2v4z\"/>\n",
              "    </g>\n",
              "</svg>\n",
              "  </button>\n",
              "\n",
              "<style>\n",
              "  .colab-df-quickchart {\n",
              "      --bg-color: #E8F0FE;\n",
              "      --fill-color: #1967D2;\n",
              "      --hover-bg-color: #E2EBFA;\n",
              "      --hover-fill-color: #174EA6;\n",
              "      --disabled-fill-color: #AAA;\n",
              "      --disabled-bg-color: #DDD;\n",
              "  }\n",
              "\n",
              "  [theme=dark] .colab-df-quickchart {\n",
              "      --bg-color: #3B4455;\n",
              "      --fill-color: #D2E3FC;\n",
              "      --hover-bg-color: #434B5C;\n",
              "      --hover-fill-color: #FFFFFF;\n",
              "      --disabled-bg-color: #3B4455;\n",
              "      --disabled-fill-color: #666;\n",
              "  }\n",
              "\n",
              "  .colab-df-quickchart {\n",
              "    background-color: var(--bg-color);\n",
              "    border: none;\n",
              "    border-radius: 50%;\n",
              "    cursor: pointer;\n",
              "    display: none;\n",
              "    fill: var(--fill-color);\n",
              "    height: 32px;\n",
              "    padding: 0;\n",
              "    width: 32px;\n",
              "  }\n",
              "\n",
              "  .colab-df-quickchart:hover {\n",
              "    background-color: var(--hover-bg-color);\n",
              "    box-shadow: 0 1px 2px rgba(60, 64, 67, 0.3), 0 1px 3px 1px rgba(60, 64, 67, 0.15);\n",
              "    fill: var(--button-hover-fill-color);\n",
              "  }\n",
              "\n",
              "  .colab-df-quickchart-complete:disabled,\n",
              "  .colab-df-quickchart-complete:disabled:hover {\n",
              "    background-color: var(--disabled-bg-color);\n",
              "    fill: var(--disabled-fill-color);\n",
              "    box-shadow: none;\n",
              "  }\n",
              "\n",
              "  .colab-df-spinner {\n",
              "    border: 2px solid var(--fill-color);\n",
              "    border-color: transparent;\n",
              "    border-bottom-color: var(--fill-color);\n",
              "    animation:\n",
              "      spin 1s steps(1) infinite;\n",
              "  }\n",
              "\n",
              "  @keyframes spin {\n",
              "    0% {\n",
              "      border-color: transparent;\n",
              "      border-bottom-color: var(--fill-color);\n",
              "      border-left-color: var(--fill-color);\n",
              "    }\n",
              "    20% {\n",
              "      border-color: transparent;\n",
              "      border-left-color: var(--fill-color);\n",
              "      border-top-color: var(--fill-color);\n",
              "    }\n",
              "    30% {\n",
              "      border-color: transparent;\n",
              "      border-left-color: var(--fill-color);\n",
              "      border-top-color: var(--fill-color);\n",
              "      border-right-color: var(--fill-color);\n",
              "    }\n",
              "    40% {\n",
              "      border-color: transparent;\n",
              "      border-right-color: var(--fill-color);\n",
              "      border-top-color: var(--fill-color);\n",
              "    }\n",
              "    60% {\n",
              "      border-color: transparent;\n",
              "      border-right-color: var(--fill-color);\n",
              "    }\n",
              "    80% {\n",
              "      border-color: transparent;\n",
              "      border-right-color: var(--fill-color);\n",
              "      border-bottom-color: var(--fill-color);\n",
              "    }\n",
              "    90% {\n",
              "      border-color: transparent;\n",
              "      border-bottom-color: var(--fill-color);\n",
              "    }\n",
              "  }\n",
              "</style>\n",
              "\n",
              "  <script>\n",
              "    async function quickchart(key) {\n",
              "      const quickchartButtonEl =\n",
              "        document.querySelector('#' + key + ' button');\n",
              "      quickchartButtonEl.disabled = true;  // To prevent multiple clicks.\n",
              "      quickchartButtonEl.classList.add('colab-df-spinner');\n",
              "      try {\n",
              "        const charts = await google.colab.kernel.invokeFunction(\n",
              "            'suggestCharts', [key], {});\n",
              "      } catch (error) {\n",
              "        console.error('Error during call to suggestCharts:', error);\n",
              "      }\n",
              "      quickchartButtonEl.classList.remove('colab-df-spinner');\n",
              "      quickchartButtonEl.classList.add('colab-df-quickchart-complete');\n",
              "    }\n",
              "    (() => {\n",
              "      let quickchartButtonEl =\n",
              "        document.querySelector('#df-f8719887-8421-46c0-a01f-693736e0fed3 button');\n",
              "      quickchartButtonEl.style.display =\n",
              "        google.colab.kernel.accessAllowed ? 'block' : 'none';\n",
              "    })();\n",
              "  </script>\n",
              "</div>\n",
              "\n",
              "    </div>\n",
              "  </div>\n"
            ],
            "application/vnd.google.colaboratory.intrinsic+json": {
              "type": "dataframe",
              "summary": "{\n  \"name\": \"display(test_df\",\n  \"rows\": 2,\n  \"fields\": [\n    {\n      \"column\": \"response\",\n      \"properties\": {\n        \"dtype\": \"string\",\n        \"num_unique_values\": 2,\n        \"samples\": [\n          \"SELECT T1.name FROM Person AS T1 JOIN PersonFriend AS T2 ON T1.name = T2.name WHERE T2.friend IN (SELECT name FROM Person WHERE age > 40) EXCEPT SELECT T1.name FROM Person AS T1 JOIN PersonFriend AS T2 ON T1.name = T2.name WHERE T2.friend IN (SELECT name FROM Person WHERE age < 30)\",\n          \"SELECT College FROM match_season GROUP BY College HAVING COUNT(*) >= 2\"\n        ],\n        \"semantic_type\": \"\",\n        \"description\": \"\"\n      }\n    },\n    {\n      \"column\": \"question\",\n      \"properties\": {\n        \"dtype\": \"string\",\n        \"num_unique_values\": 2,\n        \"samples\": [\n          \"Find the name of the person who has friends with age above 40 but not under age 30?\",\n          \"Show the name of colleges that have at least two players.\"\n        ],\n        \"semantic_type\": \"\",\n        \"description\": \"\"\n      }\n    },\n    {\n      \"column\": \"context\",\n      \"properties\": {\n        \"dtype\": \"string\",\n        \"num_unique_values\": 2,\n        \"samples\": [\n          \"CREATE TABLE Person (name VARCHAR, age INTEGER); CREATE TABLE PersonFriend (name VARCHAR, friend VARCHAR); CREATE TABLE Person (name VARCHAR)\",\n          \"CREATE TABLE match_season (College VARCHAR)\"\n        ],\n        \"semantic_type\": \"\",\n        \"description\": \"\"\n      }\n    },\n    {\n      \"column\": \"__index_level_0__\",\n      \"properties\": {\n        \"dtype\": \"number\",\n        \"std\": 1375,\n        \"min\": 611,\n        \"max\": 2556,\n        \"num_unique_values\": 2,\n        \"samples\": [\n          2556,\n          611\n        ],\n        \"semantic_type\": \"\",\n        \"description\": \"\"\n      }\n    },\n    {\n      \"column\": \"text\",\n      \"properties\": {\n        \"dtype\": \"string\",\n        \"num_unique_values\": 2,\n        \"samples\": [\n          \"### Instruction:\\n    You are a powerful text-to-SQL model.     Your job is to answer questions about a database.     You are given a question and context regarding one or more tables.\\n\\n    You must output the SQL query that answers the question.\\n\\n    ### Input:\\n    Find the name of the person who has friends with age above 40 but not under age 30?\\n    ### Context:\\n    CREATE TABLE Person (name VARCHAR, age INTEGER); CREATE TABLE PersonFriend (name VARCHAR, friend VARCHAR); CREATE TABLE Person (name VARCHAR)\\n    ### Response:\\n    \",\n          \"### Instruction:\\n    You are a powerful text-to-SQL model.     Your job is to answer questions about a database.     You are given a question and context regarding one or more tables.\\n\\n    You must output the SQL query that answers the question.\\n\\n    ### Input:\\n    Show the name of colleges that have at least two players.\\n    ### Context:\\n    CREATE TABLE match_season (College VARCHAR)\\n    ### Response:\\n    \"\n        ],\n        \"semantic_type\": \"\",\n        \"description\": \"\"\n      }\n    }\n  ]\n}"
            }
          },
          "metadata": {}
        },
        {
          "output_type": "display_data",
          "data": {
            "text/plain": [
              "(454, 5)"
            ]
          },
          "metadata": {}
        }
      ]
    },
    {
      "cell_type": "markdown",
      "source": [
        "## Load Model from Hugging face"
      ],
      "metadata": {
        "id": "0EbOcYuxUvgJ"
      }
    },
    {
      "cell_type": "code",
      "source": [
        "quantization_config_loading = GPTQConfig(bits=4, disable_exllama=True)\n",
        "\n",
        "# Tokenizer - Base Model since we did not change it\n",
        "tokenizer = AutoTokenizer.from_pretrained(model_id)\n",
        "tokenizer.pad_token = tokenizer.eos_token\n",
        "tokenizer.padding_side = \"right\"\n",
        "\n",
        "# LLM GPTQ Model\n",
        "# To perform inference on the test dataset\n",
        "model = AutoModelForCausalLM.from_pretrained(\n",
        "          model_id,\n",
        "          quantization_config=quantization_config_loading,\n",
        "          device_map=\"auto\"\n",
        "        )"
      ],
      "metadata": {
        "id": "kBTy6iC-NYsk",
        "colab": {
          "base_uri": "https://localhost:8080/",
          "height": 643,
          "referenced_widgets": [
            "d5bba3bead7a45299e5228c1ac7fffbc",
            "15f9c1a6d1a241d983f1b5450c3bbeea",
            "42b8d1c398664fcfbea3af18d2960ea9",
            "efd4430df10641668b14e6660c9143a0",
            "2322d3029b5547668adba25595e3a4b2",
            "edd2b24634ff4d57ba5b520d1692aa9f",
            "d09b9653df2c4d4d8c6e68b567cc917d",
            "b80d52e72074492f965d9e72a5688a45",
            "ebe04bcbea6140cba90a4ad5f7681d29",
            "bb6a071a645648d7b34ff30cce6982e9",
            "acd55dea2c774badad9ed29a8a3a70a9",
            "b0f059952a094581ba3871b19e371d20",
            "9e0580a6c6b34719838337b183bbb93b",
            "2e980a76d4464ff28986ab3851f413d9",
            "8a838c64dcac46edb616a6368fd4d0fe",
            "223b8440ede7489895e02b1102ddc31c",
            "7a73dce7079644338dd87f19359b000e",
            "e5d02a28f11942e8bb8ad9de0e5e9e50",
            "6ed931a5fac644518d81f59f90ae3b1d",
            "2ec043ea18324e87ba1287ca6ef074b7",
            "c0b7c65bc8494342aed494c3381b4867",
            "a2ff169e4d0a456c9666b64db4ce32a0",
            "4874337f10f04ceea1db3117c3a77298",
            "dc96b6d7591142a6ae612064c2228e04",
            "f258652809fb49f0bec4e5111080bbe8",
            "46d3ebab2ba54b989c1a8d396b81e518",
            "bc4b04fb181d499eba7801b87c8b8ec7",
            "df3882ae05214c61a963ff11c3d19299",
            "62bf3185df2848c7b0c0ffa4e4b06760",
            "9ab2aa86dab64c1b92c09b3d88cc9b38",
            "38fa2f4cdea94a8b8eeb75749a7885f1",
            "c10a78f82d16426b8c08a6897995c247",
            "073e3b36ed60473582d6c1c55d4cf8f4",
            "97c0d297e3ba4d8eaf7ec92fc4154db0",
            "45387a45727841b1b9cc680aa4c5ed8f",
            "34c88cd9e5ff459eaa06d0f7e2d2b6d2",
            "a77a1d900d3d4bee8ddaf8f4cfa8a05f",
            "8a6c385aedf24992b1a16ce79bfacaf5",
            "33fed96710fc4042a579ae9c5cf0e15b",
            "45e6821fa6db4eb4bd785f9b553a955b",
            "045c8f5a95394dc9a8db7fdd1b644aae",
            "184cb3f3aa574d779f9f0df2cbeafee6",
            "014bb8a6ba4c4c178d6033167351a1c4",
            "264522af539f42e5825399e127e0ce5c",
            "eefbf71f9bce47c1902d625329515568",
            "2ef0999587b04eaaa2db337b2fe6603a",
            "03731240a3204da9805a5626a4181430",
            "41391f4858594da1a8afe3f1d92f865c",
            "0d33e19a87454361929b2cd31c0afbd7",
            "09ea7b18e0ed493ebfec69a1f817b52f",
            "36e23fcef80a40d680cdc0ef58bfa4c8",
            "15f9a9e0f4f24c8e8385754a7710b5db",
            "fd65c86e050943c8b8dc783c09d526d3",
            "a46e55083dcc4d1fa4df5015dc45eb3e",
            "0950909b0fc24d319ea6e49801c8b6ac",
            "338f8cd333954e79ada4f8d2b03a573f",
            "287f0b229a01430e8e5ea1760b8c42f6",
            "9938dc9227674b4c8cf425c1a8ac8588",
            "ef7dff237c6942229586b33b1a84b220",
            "b25d722d15f944afb40b2e930c0fa30b",
            "30ed31ca70f948049b1b3403fc7d7050",
            "6a0858f2941f4c65b4587b57fb46940c",
            "ef59b7ad67b34fd9a39d52353a4ad46d",
            "6debc9a8437e4dca9cf9240aef59f93a",
            "c8962eebcfc44d9cb2a6d496d4c6a88c",
            "46fa619d7c34464aa6873aba168e2d39",
            "97633a5d044941f1a0b8378819f22d3e",
            "7ab8b3d781984ea4a2b3bd2b02344006",
            "ecef65ee8ff14f85adbba24e4a316ff6",
            "da6a70cb210e497aa120883483bbbdfd",
            "9775610b957247369caccbfb8f5f24ff",
            "95fe0a83c23744179fde5d8b5d919217",
            "b5119fafa1da423f96d725722ede0769",
            "0195c4d5125c41b5ba0009e4f0e6fac1",
            "8e41521cc8574a67bcc68ee56d35fed6",
            "931fd45b84d645468dfe7d2195ac4dcd",
            "dddd0332b6784511b8a490477abc2ed4"
          ]
        },
        "outputId": "ce540ccf-eb5a-42ac-cf9e-74141dbe41e0"
      },
      "execution_count": null,
      "outputs": [
        {
          "output_type": "stream",
          "name": "stderr",
          "text": [
            "Using `disable_exllama` is deprecated and will be removed in version 4.37. Use `use_exllama` instead and specify the version with `exllama_config`.The value of `use_exllama` will be overwritten by `disable_exllama` passed in `GPTQConfig` or stored in your config file.\n",
            "/usr/local/lib/python3.11/dist-packages/huggingface_hub/utils/_auth.py:94: UserWarning: \n",
            "The secret `HF_TOKEN` does not exist in your Colab secrets.\n",
            "To authenticate with the Hugging Face Hub, create a token in your settings tab (https://huggingface.co/settings/tokens), set it as secret in your Google Colab and restart your session.\n",
            "You will be able to reuse this secret in all of your notebooks.\n",
            "Please note that authentication is recommended but still optional to access public models or datasets.\n",
            "  warnings.warn(\n"
          ]
        },
        {
          "output_type": "display_data",
          "data": {
            "text/plain": [
              "tokenizer_config.json:   0%|          | 0.00/727 [00:00<?, ?B/s]"
            ],
            "application/vnd.jupyter.widget-view+json": {
              "version_major": 2,
              "version_minor": 0,
              "model_id": "d5bba3bead7a45299e5228c1ac7fffbc"
            }
          },
          "metadata": {}
        },
        {
          "output_type": "display_data",
          "data": {
            "text/plain": [
              "tokenizer.model:   0%|          | 0.00/500k [00:00<?, ?B/s]"
            ],
            "application/vnd.jupyter.widget-view+json": {
              "version_major": 2,
              "version_minor": 0,
              "model_id": "b0f059952a094581ba3871b19e371d20"
            }
          },
          "metadata": {}
        },
        {
          "output_type": "display_data",
          "data": {
            "text/plain": [
              "tokenizer.json:   0%|          | 0.00/1.84M [00:00<?, ?B/s]"
            ],
            "application/vnd.jupyter.widget-view+json": {
              "version_major": 2,
              "version_minor": 0,
              "model_id": "4874337f10f04ceea1db3117c3a77298"
            }
          },
          "metadata": {}
        },
        {
          "output_type": "display_data",
          "data": {
            "text/plain": [
              "special_tokens_map.json:   0%|          | 0.00/411 [00:00<?, ?B/s]"
            ],
            "application/vnd.jupyter.widget-view+json": {
              "version_major": 2,
              "version_minor": 0,
              "model_id": "97c0d297e3ba4d8eaf7ec92fc4154db0"
            }
          },
          "metadata": {}
        },
        {
          "output_type": "stream",
          "name": "stderr",
          "text": [
            "You are using the default legacy behaviour of the <class 'transformers.models.llama.tokenization_llama_fast.LlamaTokenizerFast'>. This is expected, and simply means that the `legacy` (previous) behavior will be used so nothing changes for you. If you want to use the new behaviour, set `legacy=False`. This should only be set if you understand what it means, and thoroughly read the reason why this was added as explained in https://github.com/huggingface/transformers/pull/24565 - if you loaded a llama tokenizer from a GGUF file you can ignore this message.\n"
          ]
        },
        {
          "output_type": "display_data",
          "data": {
            "text/plain": [
              "config.json:   0%|          | 0.00/784 [00:00<?, ?B/s]"
            ],
            "application/vnd.jupyter.widget-view+json": {
              "version_major": 2,
              "version_minor": 0,
              "model_id": "eefbf71f9bce47c1902d625329515568"
            }
          },
          "metadata": {}
        },
        {
          "output_type": "stream",
          "name": "stderr",
          "text": [
            "/usr/local/lib/python3.11/dist-packages/transformers/quantizers/auto.py:195: UserWarning: You passed `quantization_config` or equivalent parameters to `from_pretrained` but the model you're loading already has a `quantization_config` attribute. The `quantization_config` from the model will be used.However, loading attributes (e.g. ['use_cuda_fp16', 'use_exllama', 'max_input_length', 'exllama_config', 'disable_exllama']) will be overwritten with the one you passed to `from_pretrained`. The rest will be ignored.\n",
            "  warnings.warn(warning_msg)\n",
            "/usr/local/lib/python3.11/dist-packages/auto_gptq/nn_modules/triton_utils/kernels.py:410: FutureWarning: `torch.cuda.amp.custom_fwd(args...)` is deprecated. Please use `torch.amp.custom_fwd(args..., device_type='cuda')` instead.\n",
            "  @custom_fwd\n",
            "/usr/local/lib/python3.11/dist-packages/auto_gptq/nn_modules/triton_utils/kernels.py:418: FutureWarning: `torch.cuda.amp.custom_bwd(args...)` is deprecated. Please use `torch.amp.custom_bwd(args..., device_type='cuda')` instead.\n",
            "  @custom_bwd\n",
            "/usr/local/lib/python3.11/dist-packages/auto_gptq/nn_modules/triton_utils/kernels.py:461: FutureWarning: `torch.cuda.amp.custom_fwd(args...)` is deprecated. Please use `torch.amp.custom_fwd(args..., device_type='cuda')` instead.\n",
            "  @custom_fwd(cast_inputs=torch.float16)\n",
            "WARNING:auto_gptq.nn_modules.qlinear.qlinear_cuda:CUDA extension not installed.\n",
            "WARNING:auto_gptq.nn_modules.qlinear.qlinear_cuda_old:CUDA extension not installed.\n"
          ]
        },
        {
          "output_type": "display_data",
          "data": {
            "text/plain": [
              "model.safetensors:   0%|          | 0.00/3.90G [00:00<?, ?B/s]"
            ],
            "application/vnd.jupyter.widget-view+json": {
              "version_major": 2,
              "version_minor": 0,
              "model_id": "338f8cd333954e79ada4f8d2b03a573f"
            }
          },
          "metadata": {}
        },
        {
          "output_type": "stream",
          "name": "stderr",
          "text": [
            "`loss_type=None` was set in the config but it is unrecognised.Using the default loss: `ForCausalLMLoss`.\n",
            "Some weights of the model checkpoint at TheBloke/Llama-2-7B-GPTQ were not used when initializing LlamaForCausalLM: {'model.layers.30.self_attn.k_proj.bias', 'model.layers.20.mlp.down_proj.bias', 'model.layers.28.self_attn.v_proj.bias', 'model.layers.3.self_attn.o_proj.bias', 'model.layers.8.mlp.up_proj.bias', 'model.layers.12.self_attn.q_proj.bias', 'model.layers.18.mlp.gate_proj.bias', 'model.layers.27.self_attn.o_proj.bias', 'model.layers.27.self_attn.q_proj.bias', 'model.layers.31.mlp.up_proj.bias', 'model.layers.17.self_attn.q_proj.bias', 'model.layers.22.self_attn.v_proj.bias', 'model.layers.28.self_attn.k_proj.bias', 'model.layers.29.self_attn.v_proj.bias', 'model.layers.11.self_attn.k_proj.bias', 'model.layers.18.self_attn.q_proj.bias', 'model.layers.19.self_attn.k_proj.bias', 'model.layers.1.self_attn.q_proj.bias', 'model.layers.31.self_attn.k_proj.bias', 'model.layers.1.mlp.up_proj.bias', 'model.layers.16.self_attn.o_proj.bias', 'model.layers.25.mlp.gate_proj.bias', 'model.layers.0.mlp.down_proj.bias', 'model.layers.15.self_attn.o_proj.bias', 'model.layers.28.self_attn.o_proj.bias', 'model.layers.31.mlp.down_proj.bias', 'model.layers.22.mlp.up_proj.bias', 'model.layers.21.mlp.up_proj.bias', 'model.layers.9.self_attn.q_proj.bias', 'model.layers.6.self_attn.o_proj.bias', 'model.layers.2.mlp.up_proj.bias', 'model.layers.1.self_attn.k_proj.bias', 'model.layers.0.self_attn.k_proj.bias', 'model.layers.16.mlp.up_proj.bias', 'model.layers.22.self_attn.o_proj.bias', 'model.layers.20.self_attn.v_proj.bias', 'model.layers.29.self_attn.o_proj.bias', 'model.layers.0.self_attn.o_proj.bias', 'model.layers.5.mlp.up_proj.bias', 'model.layers.1.mlp.down_proj.bias', 'model.layers.19.self_attn.v_proj.bias', 'model.layers.26.self_attn.o_proj.bias', 'model.layers.1.self_attn.v_proj.bias', 'model.layers.30.mlp.down_proj.bias', 'model.layers.4.mlp.gate_proj.bias', 'model.layers.11.self_attn.o_proj.bias', 'model.layers.10.self_attn.o_proj.bias', 'model.layers.16.self_attn.q_proj.bias', 'model.layers.2.self_attn.k_proj.bias', 'model.layers.28.mlp.gate_proj.bias', 'model.layers.5.mlp.gate_proj.bias', 'model.layers.2.mlp.gate_proj.bias', 'model.layers.22.self_attn.q_proj.bias', 'model.layers.23.self_attn.v_proj.bias', 'model.layers.16.self_attn.v_proj.bias', 'model.layers.23.mlp.down_proj.bias', 'model.layers.4.self_attn.v_proj.bias', 'model.layers.2.self_attn.o_proj.bias', 'model.layers.14.self_attn.k_proj.bias', 'model.layers.15.mlp.down_proj.bias', 'model.layers.5.mlp.down_proj.bias', 'model.layers.26.mlp.up_proj.bias', 'model.layers.30.mlp.gate_proj.bias', 'model.layers.20.mlp.gate_proj.bias', 'model.layers.11.mlp.down_proj.bias', 'model.layers.7.self_attn.o_proj.bias', 'model.layers.31.mlp.gate_proj.bias', 'model.layers.17.self_attn.k_proj.bias', 'model.layers.4.mlp.up_proj.bias', 'model.layers.13.mlp.up_proj.bias', 'model.layers.31.self_attn.v_proj.bias', 'model.layers.20.self_attn.o_proj.bias', 'model.layers.27.self_attn.v_proj.bias', 'model.layers.19.self_attn.q_proj.bias', 'model.layers.20.self_attn.q_proj.bias', 'model.layers.6.self_attn.v_proj.bias', 'model.layers.5.self_attn.k_proj.bias', 'model.layers.7.mlp.up_proj.bias', 'model.layers.12.mlp.up_proj.bias', 'model.layers.20.self_attn.k_proj.bias', 'model.layers.8.mlp.gate_proj.bias', 'model.layers.9.mlp.up_proj.bias', 'model.layers.25.self_attn.v_proj.bias', 'model.layers.16.mlp.down_proj.bias', 'model.layers.7.mlp.gate_proj.bias', 'model.layers.18.self_attn.v_proj.bias', 'model.layers.31.self_attn.o_proj.bias', 'model.layers.19.mlp.up_proj.bias', 'model.layers.4.mlp.down_proj.bias', 'model.layers.29.mlp.up_proj.bias', 'model.layers.14.mlp.up_proj.bias', 'model.layers.30.self_attn.o_proj.bias', 'model.layers.24.self_attn.o_proj.bias', 'model.layers.22.mlp.down_proj.bias', 'model.layers.17.self_attn.o_proj.bias', 'model.layers.12.mlp.down_proj.bias', 'model.layers.2.self_attn.v_proj.bias', 'model.layers.5.self_attn.q_proj.bias', 'model.layers.0.self_attn.q_proj.bias', 'model.layers.13.self_attn.q_proj.bias', 'model.layers.25.mlp.down_proj.bias', 'model.layers.24.mlp.down_proj.bias', 'model.layers.4.self_attn.o_proj.bias', 'model.layers.0.mlp.gate_proj.bias', 'model.layers.13.self_attn.v_proj.bias', 'model.layers.21.self_attn.k_proj.bias', 'model.layers.15.self_attn.q_proj.bias', 'model.layers.23.mlp.up_proj.bias', 'model.layers.11.mlp.gate_proj.bias', 'model.layers.9.self_attn.v_proj.bias', 'model.layers.23.self_attn.k_proj.bias', 'model.layers.8.self_attn.k_proj.bias', 'model.layers.9.mlp.down_proj.bias', 'model.layers.3.self_attn.v_proj.bias', 'model.layers.8.self_attn.o_proj.bias', 'model.layers.22.mlp.gate_proj.bias', 'model.layers.17.mlp.up_proj.bias', 'model.layers.14.mlp.down_proj.bias', 'model.layers.3.mlp.up_proj.bias', 'model.layers.12.mlp.gate_proj.bias', 'model.layers.29.mlp.gate_proj.bias', 'model.layers.28.mlp.up_proj.bias', 'model.layers.24.mlp.up_proj.bias', 'model.layers.27.mlp.down_proj.bias', 'model.layers.26.self_attn.q_proj.bias', 'model.layers.9.self_attn.k_proj.bias', 'model.layers.5.self_attn.v_proj.bias', 'model.layers.11.self_attn.q_proj.bias', 'model.layers.13.self_attn.o_proj.bias', 'model.layers.6.mlp.down_proj.bias', 'model.layers.10.mlp.gate_proj.bias', 'model.layers.18.self_attn.k_proj.bias', 'model.layers.3.mlp.down_proj.bias', 'model.layers.24.self_attn.k_proj.bias', 'model.layers.9.mlp.gate_proj.bias', 'model.layers.17.self_attn.v_proj.bias', 'model.layers.12.self_attn.o_proj.bias', 'model.layers.21.self_attn.o_proj.bias', 'model.layers.6.self_attn.k_proj.bias', 'model.layers.8.self_attn.q_proj.bias', 'model.layers.26.self_attn.v_proj.bias', 'model.layers.10.self_attn.q_proj.bias', 'model.layers.29.mlp.down_proj.bias', 'model.layers.28.self_attn.q_proj.bias', 'model.layers.24.mlp.gate_proj.bias', 'model.layers.29.self_attn.q_proj.bias', 'model.layers.6.mlp.gate_proj.bias', 'model.layers.17.mlp.gate_proj.bias', 'model.layers.11.self_attn.v_proj.bias', 'model.layers.19.mlp.gate_proj.bias', 'model.layers.7.mlp.down_proj.bias', 'model.layers.24.self_attn.v_proj.bias', 'model.layers.4.self_attn.q_proj.bias', 'model.layers.15.self_attn.v_proj.bias', 'model.layers.18.mlp.up_proj.bias', 'model.layers.16.self_attn.k_proj.bias', 'model.layers.3.mlp.gate_proj.bias', 'model.layers.26.self_attn.k_proj.bias', 'model.layers.4.self_attn.k_proj.bias', 'model.layers.27.self_attn.k_proj.bias', 'model.layers.7.self_attn.q_proj.bias', 'model.layers.12.self_attn.v_proj.bias', 'model.layers.3.self_attn.k_proj.bias', 'model.layers.25.self_attn.k_proj.bias', 'model.layers.7.self_attn.k_proj.bias', 'model.layers.25.self_attn.q_proj.bias', 'model.layers.0.mlp.up_proj.bias', 'model.layers.12.self_attn.k_proj.bias', 'model.layers.28.mlp.down_proj.bias', 'model.layers.15.mlp.up_proj.bias', 'model.layers.1.mlp.gate_proj.bias', 'model.layers.10.self_attn.v_proj.bias', 'model.layers.14.self_attn.o_proj.bias', 'model.layers.14.self_attn.v_proj.bias', 'model.layers.17.mlp.down_proj.bias', 'model.layers.29.self_attn.k_proj.bias', 'model.layers.31.self_attn.q_proj.bias', 'model.layers.10.self_attn.k_proj.bias', 'model.layers.16.mlp.gate_proj.bias', 'model.layers.26.mlp.down_proj.bias', 'model.layers.30.self_attn.q_proj.bias', 'model.layers.7.self_attn.v_proj.bias', 'model.layers.21.self_attn.v_proj.bias', 'model.layers.22.self_attn.k_proj.bias', 'model.layers.26.mlp.gate_proj.bias', 'model.layers.18.mlp.down_proj.bias', 'model.layers.1.self_attn.o_proj.bias', 'model.layers.15.mlp.gate_proj.bias', 'model.layers.21.mlp.down_proj.bias', 'model.layers.2.self_attn.q_proj.bias', 'model.layers.23.mlp.gate_proj.bias', 'model.layers.23.self_attn.o_proj.bias', 'model.layers.18.self_attn.o_proj.bias', 'model.layers.19.self_attn.o_proj.bias', 'model.layers.23.self_attn.q_proj.bias', 'model.layers.13.self_attn.k_proj.bias', 'model.layers.25.mlp.up_proj.bias', 'model.layers.30.self_attn.v_proj.bias', 'model.layers.21.self_attn.q_proj.bias', 'model.layers.15.self_attn.k_proj.bias', 'model.layers.30.mlp.up_proj.bias', 'model.layers.8.mlp.down_proj.bias', 'model.layers.9.self_attn.o_proj.bias', 'model.layers.2.mlp.down_proj.bias', 'model.layers.10.mlp.up_proj.bias', 'model.layers.24.self_attn.q_proj.bias', 'model.layers.25.self_attn.o_proj.bias', 'model.layers.27.mlp.up_proj.bias', 'model.layers.5.self_attn.o_proj.bias', 'model.layers.8.self_attn.v_proj.bias', 'model.layers.14.self_attn.q_proj.bias', 'model.layers.19.mlp.down_proj.bias', 'model.layers.3.self_attn.q_proj.bias', 'model.layers.27.mlp.gate_proj.bias', 'model.layers.14.mlp.gate_proj.bias', 'model.layers.13.mlp.gate_proj.bias', 'model.layers.6.self_attn.q_proj.bias', 'model.layers.6.mlp.up_proj.bias', 'model.layers.11.mlp.up_proj.bias', 'model.layers.21.mlp.gate_proj.bias', 'model.layers.13.mlp.down_proj.bias', 'model.layers.10.mlp.down_proj.bias', 'model.layers.20.mlp.up_proj.bias', 'model.layers.0.self_attn.v_proj.bias'}\n",
            "- This IS expected if you are initializing LlamaForCausalLM from the checkpoint of a model trained on another task or with another architecture (e.g. initializing a BertForSequenceClassification model from a BertForPreTraining model).\n",
            "- This IS NOT expected if you are initializing LlamaForCausalLM from the checkpoint of a model that you expect to be exactly identical (initializing a BertForSequenceClassification model from a BertForSequenceClassification model).\n"
          ]
        },
        {
          "output_type": "display_data",
          "data": {
            "text/plain": [
              "generation_config.json:   0%|          | 0.00/132 [00:00<?, ?B/s]"
            ],
            "application/vnd.jupyter.widget-view+json": {
              "version_major": 2,
              "version_minor": 0,
              "model_id": "97633a5d044941f1a0b8378819f22d3e"
            }
          },
          "metadata": {}
        }
      ]
    },
    {
      "cell_type": "code",
      "source": [
        "# Get Model Memory Footprint = ~4GB\n",
        "print(model.get_memory_footprint()/1e9) # GB"
      ],
      "metadata": {
        "id": "dgG1GDep9PS1",
        "colab": {
          "base_uri": "https://localhost:8080/",
          "height": 33
        },
        "outputId": "b46f2b9d-6a08-4298-9383-e88cfd3be98b"
      },
      "execution_count": null,
      "outputs": [
        {
          "output_type": "display_data",
          "data": {
            "text/plain": [
              "\u001b[1;36m3.893862656\u001b[0m\n"
            ],
            "text/html": [
              "<pre style=\"white-space:pre;overflow-x:auto;line-height:normal;font-family:Menlo,'DejaVu Sans Mono',consolas,'Courier New',monospace\"><span style=\"color: #008080; text-decoration-color: #008080; font-weight: bold\">3.893862656</span>\n",
              "</pre>\n"
            ]
          },
          "metadata": {}
        }
      ]
    },
    {
      "cell_type": "code",
      "source": [
        "pipe = pipeline(\n",
        "    \"text-generation\",\n",
        "    model=model,\n",
        "    tokenizer=tokenizer,\n",
        "    max_new_tokens=180,\n",
        "    do_sample = True,\n",
        "    temperature=0.1,\n",
        "    top_k=4,\n",
        "    # top_p=0.95,\n",
        "    repetition_penalty=1.2\n",
        ")\n",
        "#  penalty_alpha=0.5,\n",
        "#     # do_sample = True,\n",
        "#     top_k=1,\n",
        "#     # temperature=0.1,\n",
        "#     repetition_penalty=1.2,\n",
        "#     max_new_tokens=180\n",
        "\n",
        "llm = HuggingFacePipeline(pipeline=pipe)"
      ],
      "metadata": {
        "id": "evlojudTgepV",
        "colab": {
          "base_uri": "https://localhost:8080/"
        },
        "outputId": "6894d2fa-77d1-44c1-92e9-6aae2fc7e9e2"
      },
      "execution_count": null,
      "outputs": [
        {
          "output_type": "stream",
          "name": "stderr",
          "text": [
            "Device set to use cuda:0\n",
            "<ipython-input-18-04883f48fc6a>:19: LangChainDeprecationWarning: The class `HuggingFacePipeline` was deprecated in LangChain 0.0.37 and will be removed in 1.0. An updated version of the class exists in the :class:`~langchain-huggingface package and should be used instead. To use it run `pip install -U :class:`~langchain-huggingface` and import as `from :class:`~langchain_huggingface import HuggingFacePipeline``.\n",
            "  llm = HuggingFacePipeline(pipeline=pipe)\n"
          ]
        }
      ]
    },
    {
      "cell_type": "markdown",
      "source": [
        "# Check Model on Sample Test Question"
      ],
      "metadata": {
        "id": "UV2GP6pVx8SC"
      }
    },
    {
      "cell_type": "code",
      "source": [
        "ID = 10"
      ],
      "metadata": {
        "id": "IarYet-_ibYx"
      },
      "execution_count": null,
      "outputs": []
    },
    {
      "cell_type": "code",
      "source": [
        "test_df['text'][ID]"
      ],
      "metadata": {
        "id": "6At49lx4lrk0",
        "colab": {
          "base_uri": "https://localhost:8080/",
          "height": 70
        },
        "outputId": "0da2626d-9aa9-42b6-9bab-38a88a44b433"
      },
      "execution_count": null,
      "outputs": [
        {
          "output_type": "execute_result",
          "data": {
            "text/plain": [
              "'### Instruction:\\n    You are a powerful text-to-SQL model.     Your job is to answer questions about a database.     You are given a question and context regarding one or more tables.\\n\\n    You must output the SQL query that answers the question.\\n\\n    ### Input:\\n    What is the average amount due for all the payments?\\n    ### Context:\\n    CREATE TABLE payments (amount_due INTEGER)\\n    ### Response:\\n    '"
            ],
            "application/vnd.google.colaboratory.intrinsic+json": {
              "type": "string"
            }
          },
          "metadata": {},
          "execution_count": 20
        }
      ]
    },
    {
      "cell_type": "code",
      "source": [
        "display(test_df['response'][ID])"
      ],
      "metadata": {
        "id": "uUEm-0xfxjT5",
        "colab": {
          "base_uri": "https://localhost:8080/",
          "height": 36
        },
        "outputId": "e949d424-0a7e-4267-8af7-010e3bd32a07"
      },
      "execution_count": null,
      "outputs": [
        {
          "output_type": "display_data",
          "data": {
            "text/plain": [
              "'SELECT AVG(amount_due) FROM payments'"
            ],
            "application/vnd.google.colaboratory.intrinsic+json": {
              "type": "string"
            }
          },
          "metadata": {}
        }
      ]
    },
    {
      "cell_type": "code",
      "source": [
        "text = test_df['text'][ID]\n",
        "llm_res = pipe(text)[0]['generated_text']\n",
        "parse_res = parse(llm_res)\n",
        "# print(llm_res)\n",
        "print(parse_res)"
      ],
      "metadata": {
        "id": "VtK8TZGGhp3a",
        "colab": {
          "base_uri": "https://localhost:8080/",
          "height": 33
        },
        "outputId": "1d5d3f1e-1e91-4ed1-9875-6ef5dc6196a9"
      },
      "execution_count": null,
      "outputs": [
        {
          "output_type": "display_data",
          "data": {
            "text/plain": [
              "SELECT \u001b[1;35mAVG\u001b[0m\u001b[1m(\u001b[0mamount_due\u001b[1m)\u001b[0m FROM payments;\n"
            ],
            "text/html": [
              "<pre style=\"white-space:pre;overflow-x:auto;line-height:normal;font-family:Menlo,'DejaVu Sans Mono',consolas,'Courier New',monospace\">SELECT <span style=\"color: #800080; text-decoration-color: #800080; font-weight: bold\">AVG</span><span style=\"font-weight: bold\">(</span>amount_due<span style=\"font-weight: bold\">)</span> FROM payments;\n",
              "</pre>\n"
            ]
          },
          "metadata": {}
        }
      ]
    },
    {
      "cell_type": "markdown",
      "source": [
        "### Get LLM Responses For All Questions"
      ],
      "metadata": {
        "id": "f4RaZ2h3xvY4"
      }
    },
    {
      "cell_type": "code",
      "source": [
        "eval_start_time = perf_counter()\n",
        "test_LLM=gen_eval_res(test_df.iloc[201:300] ) # If the GPU disconnected you can use 100 row by 100 row like that test_df.iloc[:100] the next 100 row [100:201] and so on\n",
        "eval_end_time = perf_counter()\n",
        "print('Evaluation Took: ', round(eval_end_time-eval_start_time, 2))"
      ],
      "metadata": {
        "id": "YQUkIsTJiqyq",
        "colab": {
          "base_uri": "https://localhost:8080/",
          "height": 403
        },
        "outputId": "98ec3828-fe57-4f80-91b6-23bf879d3eb1"
      },
      "execution_count": null,
      "outputs": [
        {
          "output_type": "stream",
          "name": "stderr",
          "text": [
            "You seem to be using the pipelines sequentially on GPU. In order to maximize efficiency please use a dataset\n"
          ]
        },
        {
          "output_type": "display_data",
          "data": {
            "text/plain": [
              "*** Row \u001b[1;36m10\u001b[0m Done ***\n"
            ],
            "text/html": [
              "<pre style=\"white-space:pre;overflow-x:auto;line-height:normal;font-family:Menlo,'DejaVu Sans Mono',consolas,'Courier New',monospace\">*** Row <span style=\"color: #008080; text-decoration-color: #008080; font-weight: bold\">10</span> Done ***\n",
              "</pre>\n"
            ]
          },
          "metadata": {}
        },
        {
          "output_type": "display_data",
          "data": {
            "text/plain": [
              "*** Row \u001b[1;36m20\u001b[0m Done ***\n"
            ],
            "text/html": [
              "<pre style=\"white-space:pre;overflow-x:auto;line-height:normal;font-family:Menlo,'DejaVu Sans Mono',consolas,'Courier New',monospace\">*** Row <span style=\"color: #008080; text-decoration-color: #008080; font-weight: bold\">20</span> Done ***\n",
              "</pre>\n"
            ]
          },
          "metadata": {}
        },
        {
          "output_type": "display_data",
          "data": {
            "text/plain": [
              "*** Row \u001b[1;36m30\u001b[0m Done ***\n"
            ],
            "text/html": [
              "<pre style=\"white-space:pre;overflow-x:auto;line-height:normal;font-family:Menlo,'DejaVu Sans Mono',consolas,'Courier New',monospace\">*** Row <span style=\"color: #008080; text-decoration-color: #008080; font-weight: bold\">30</span> Done ***\n",
              "</pre>\n"
            ]
          },
          "metadata": {}
        },
        {
          "output_type": "display_data",
          "data": {
            "text/plain": [
              "*** Row \u001b[1;36m40\u001b[0m Done ***\n"
            ],
            "text/html": [
              "<pre style=\"white-space:pre;overflow-x:auto;line-height:normal;font-family:Menlo,'DejaVu Sans Mono',consolas,'Courier New',monospace\">*** Row <span style=\"color: #008080; text-decoration-color: #008080; font-weight: bold\">40</span> Done ***\n",
              "</pre>\n"
            ]
          },
          "metadata": {}
        },
        {
          "output_type": "display_data",
          "data": {
            "text/plain": [
              "*** Row \u001b[1;36m50\u001b[0m Done ***\n"
            ],
            "text/html": [
              "<pre style=\"white-space:pre;overflow-x:auto;line-height:normal;font-family:Menlo,'DejaVu Sans Mono',consolas,'Courier New',monospace\">*** Row <span style=\"color: #008080; text-decoration-color: #008080; font-weight: bold\">50</span> Done ***\n",
              "</pre>\n"
            ]
          },
          "metadata": {}
        },
        {
          "output_type": "display_data",
          "data": {
            "text/plain": [
              "*** Row \u001b[1;36m60\u001b[0m Done ***\n"
            ],
            "text/html": [
              "<pre style=\"white-space:pre;overflow-x:auto;line-height:normal;font-family:Menlo,'DejaVu Sans Mono',consolas,'Courier New',monospace\">*** Row <span style=\"color: #008080; text-decoration-color: #008080; font-weight: bold\">60</span> Done ***\n",
              "</pre>\n"
            ]
          },
          "metadata": {}
        },
        {
          "output_type": "display_data",
          "data": {
            "text/plain": [
              "*** Row \u001b[1;36m70\u001b[0m Done ***\n"
            ],
            "text/html": [
              "<pre style=\"white-space:pre;overflow-x:auto;line-height:normal;font-family:Menlo,'DejaVu Sans Mono',consolas,'Courier New',monospace\">*** Row <span style=\"color: #008080; text-decoration-color: #008080; font-weight: bold\">70</span> Done ***\n",
              "</pre>\n"
            ]
          },
          "metadata": {}
        },
        {
          "output_type": "display_data",
          "data": {
            "text/plain": [
              "*** Row \u001b[1;36m80\u001b[0m Done ***\n"
            ],
            "text/html": [
              "<pre style=\"white-space:pre;overflow-x:auto;line-height:normal;font-family:Menlo,'DejaVu Sans Mono',consolas,'Courier New',monospace\">*** Row <span style=\"color: #008080; text-decoration-color: #008080; font-weight: bold\">80</span> Done ***\n",
              "</pre>\n"
            ]
          },
          "metadata": {}
        },
        {
          "output_type": "display_data",
          "data": {
            "text/plain": [
              "*** Row \u001b[1;36m90\u001b[0m Done ***\n"
            ],
            "text/html": [
              "<pre style=\"white-space:pre;overflow-x:auto;line-height:normal;font-family:Menlo,'DejaVu Sans Mono',consolas,'Courier New',monospace\">*** Row <span style=\"color: #008080; text-decoration-color: #008080; font-weight: bold\">90</span> Done ***\n",
              "</pre>\n"
            ]
          },
          "metadata": {}
        },
        {
          "output_type": "stream",
          "name": "stderr",
          "text": [
            "<ipython-input-10-957ed58db131>:19: SettingWithCopyWarning: \n",
            "A value is trying to be set on a copy of a slice from a DataFrame.\n",
            "Try using .loc[row_indexer,col_indexer] = value instead\n",
            "\n",
            "See the caveats in the documentation: https://pandas.pydata.org/pandas-docs/stable/user_guide/indexing.html#returning-a-view-versus-a-copy\n",
            "  test_df['eval_res'] = eval_res\n",
            "<ipython-input-10-957ed58db131>:20: SettingWithCopyWarning: \n",
            "A value is trying to be set on a copy of a slice from a DataFrame.\n",
            "Try using .loc[row_indexer,col_indexer] = value instead\n",
            "\n",
            "See the caveats in the documentation: https://pandas.pydata.org/pandas-docs/stable/user_guide/indexing.html#returning-a-view-versus-a-copy\n",
            "  test_df['eval_time'] = time_res\n"
          ]
        },
        {
          "output_type": "display_data",
          "data": {
            "text/plain": [
              "Evaluation Took:  \u001b[1;36m4830.53\u001b[0m\n"
            ],
            "text/html": [
              "<pre style=\"white-space:pre;overflow-x:auto;line-height:normal;font-family:Menlo,'DejaVu Sans Mono',consolas,'Courier New',monospace\">Evaluation Took:  <span style=\"color: #008080; text-decoration-color: #008080; font-weight: bold\">4830.53</span>\n",
              "</pre>\n"
            ]
          },
          "metadata": {}
        }
      ]
    },
    {
      "cell_type": "code",
      "source": [
        "test_LLM.to_pickle(DATA_PATH + PKL_DIR + LLMRES_PKL_FILE)"
      ],
      "metadata": {
        "id": "ukxO7d8yzUlh"
      },
      "execution_count": null,
      "outputs": []
    },
    {
      "cell_type": "code",
      "source": [
        "# display(test_df['response'][:4].values)"
      ],
      "metadata": {
        "id": "m6suoi-xpxBG"
      },
      "execution_count": null,
      "outputs": []
    },
    {
      "cell_type": "markdown",
      "source": [
        "# The last important thing save our LLM Results on Drive"
      ],
      "metadata": {
        "id": "32bBOeOInLG-"
      }
    },
    {
      "cell_type": "code",
      "source": [
        "test_df2=pd.read_pickle(DATA_PATH + PKL_DIR + LLMRES_PKL_FILE)\n",
        "#display the first 10 Rows\n",
        "display(test_df2.head(10))"
      ],
      "metadata": {
        "id": "OVoKgSNF2T6Z",
        "colab": {
          "base_uri": "https://localhost:8080/",
          "height": 588
        },
        "outputId": "5d093015-9453-445f-bcf9-f65954d976b1"
      },
      "execution_count": null,
      "outputs": [
        {
          "output_type": "display_data",
          "data": {
            "text/plain": [
              "                                              response  \\\n",
              "201  SELECT Publisher FROM publication WHERE Price ...   \n",
              "202              SELECT COUNT(*) FROM catalog_contents   \n",
              "203  SELECT Name FROM teacher WHERE Age = 32 OR Age...   \n",
              "204  SELECT catalog_entry_name FROM catalog_content...   \n",
              "205  SELECT T1.Name, T2.Orchestra FROM conductor AS...   \n",
              "206  SELECT t2.team_name, t2.ACC_Regular_Season FRO...   \n",
              "207                         SELECT COUNT(*) FROM ROLES   \n",
              "208  SELECT T1.text_of_notes FROM Assessment_Notes ...   \n",
              "209  SELECT T1.first_name, T2.department_name FROM ...   \n",
              "210  SELECT T2.f1 FROM user_profiles AS T1 JOIN fol...   \n",
              "\n",
              "                                              question  \\\n",
              "201  Show the publishers that have publications wit...   \n",
              "202        How many products are there in the records?   \n",
              "203    Show the name of teachers aged either 32 or 33?   \n",
              "204  Find the names of all the products whose stock...   \n",
              "205  Show the names of conductors and the orchestra...   \n",
              "206  What is the team name and acc regular season s...   \n",
              "207                          How many roles are there?   \n",
              "208  Find the texts of assessment notes for teacher...   \n",
              "209  Display the first name and department name for...   \n",
              "210  Find the id of users who are followed by Mary ...   \n",
              "\n",
              "                                               context  __index_level_0__  \\\n",
              "201  CREATE TABLE publication (Publisher VARCHAR, P...                132   \n",
              "202         CREATE TABLE catalog_contents (Id VARCHAR)                201   \n",
              "203   CREATE TABLE teacher (Name VARCHAR, Age VARCHAR)               4163   \n",
              "204  CREATE TABLE catalog_contents (catalog_entry_n...                195   \n",
              "205  CREATE TABLE conductor (Name VARCHAR, Conducto...               4420   \n",
              "206  CREATE TABLE university (school_id VARCHAR, fo...                544   \n",
              "207                    CREATE TABLE ROLES (Id VARCHAR)               2429   \n",
              "208  CREATE TABLE Assessment_Notes (text_of_notes V...               1840   \n",
              "209  CREATE TABLE departments (department_name VARC...               2024   \n",
              "210  CREATE TABLE follows (f1 VARCHAR, f2 VARCHAR);...                170   \n",
              "\n",
              "                                                  text  \\\n",
              "201  ### Instruction:\\n    You are a powerful text-...   \n",
              "202  ### Instruction:\\n    You are a powerful text-...   \n",
              "203  ### Instruction:\\n    You are a powerful text-...   \n",
              "204  ### Instruction:\\n    You are a powerful text-...   \n",
              "205  ### Instruction:\\n    You are a powerful text-...   \n",
              "206  ### Instruction:\\n    You are a powerful text-...   \n",
              "207  ### Instruction:\\n    You are a powerful text-...   \n",
              "208  ### Instruction:\\n    You are a powerful text-...   \n",
              "209  ### Instruction:\\n    You are a powerful text-...   \n",
              "210  ### Instruction:\\n    You are a powerful text-...   \n",
              "\n",
              "                                              eval_res  eval_time  \n",
              "201  SELECT Publisher FROM Publication WHERE Price ...  40.746721  \n",
              "202  1098456732\\n### Solution:\\n```sql\\nSELECT COUN...  23.232150  \n",
              "203  SELECT * FROM teacher WHERE age = '32' OR age=...  31.816946  \n",
              "204  SELECT DISTINCT catalog_entry_name FROM catalo...  62.194320  \n",
              "205  SELECT Name FROM conductor WHERE Conductor_ID ...  90.863725  \n",
              "206  100\\n### Solution:\\n```sql\\nSELECT * FROM univ...  41.949336  \n",
              "207  10\\n### Solution:\\n```sql\\nSELECT COUNT(*) FRO...  16.610504  \n",
              "208  SELECT * FROM Assessment_Notes WHERE teacher_i...  15.860643  \n",
              "209  SELECT e.first_name AS FirstName, d.department...  33.220817  \n",
              "210  SELECT uid FROM user_profiles WHERE EXISTS(SEL...  49.051716  "
            ],
            "text/html": [
              "\n",
              "  <div id=\"df-e55fe415-2d1c-4177-b95d-91e05e74975a\" class=\"colab-df-container\">\n",
              "    <div>\n",
              "<style scoped>\n",
              "    .dataframe tbody tr th:only-of-type {\n",
              "        vertical-align: middle;\n",
              "    }\n",
              "\n",
              "    .dataframe tbody tr th {\n",
              "        vertical-align: top;\n",
              "    }\n",
              "\n",
              "    .dataframe thead th {\n",
              "        text-align: right;\n",
              "    }\n",
              "</style>\n",
              "<table border=\"1\" class=\"dataframe\">\n",
              "  <thead>\n",
              "    <tr style=\"text-align: right;\">\n",
              "      <th></th>\n",
              "      <th>response</th>\n",
              "      <th>question</th>\n",
              "      <th>context</th>\n",
              "      <th>__index_level_0__</th>\n",
              "      <th>text</th>\n",
              "      <th>eval_res</th>\n",
              "      <th>eval_time</th>\n",
              "    </tr>\n",
              "  </thead>\n",
              "  <tbody>\n",
              "    <tr>\n",
              "      <th>201</th>\n",
              "      <td>SELECT Publisher FROM publication WHERE Price ...</td>\n",
              "      <td>Show the publishers that have publications wit...</td>\n",
              "      <td>CREATE TABLE publication (Publisher VARCHAR, P...</td>\n",
              "      <td>132</td>\n",
              "      <td>### Instruction:\\n    You are a powerful text-...</td>\n",
              "      <td>SELECT Publisher FROM Publication WHERE Price ...</td>\n",
              "      <td>40.746721</td>\n",
              "    </tr>\n",
              "    <tr>\n",
              "      <th>202</th>\n",
              "      <td>SELECT COUNT(*) FROM catalog_contents</td>\n",
              "      <td>How many products are there in the records?</td>\n",
              "      <td>CREATE TABLE catalog_contents (Id VARCHAR)</td>\n",
              "      <td>201</td>\n",
              "      <td>### Instruction:\\n    You are a powerful text-...</td>\n",
              "      <td>1098456732\\n### Solution:\\n```sql\\nSELECT COUN...</td>\n",
              "      <td>23.232150</td>\n",
              "    </tr>\n",
              "    <tr>\n",
              "      <th>203</th>\n",
              "      <td>SELECT Name FROM teacher WHERE Age = 32 OR Age...</td>\n",
              "      <td>Show the name of teachers aged either 32 or 33?</td>\n",
              "      <td>CREATE TABLE teacher (Name VARCHAR, Age VARCHAR)</td>\n",
              "      <td>4163</td>\n",
              "      <td>### Instruction:\\n    You are a powerful text-...</td>\n",
              "      <td>SELECT * FROM teacher WHERE age = '32' OR age=...</td>\n",
              "      <td>31.816946</td>\n",
              "    </tr>\n",
              "    <tr>\n",
              "      <th>204</th>\n",
              "      <td>SELECT catalog_entry_name FROM catalog_content...</td>\n",
              "      <td>Find the names of all the products whose stock...</td>\n",
              "      <td>CREATE TABLE catalog_contents (catalog_entry_n...</td>\n",
              "      <td>195</td>\n",
              "      <td>### Instruction:\\n    You are a powerful text-...</td>\n",
              "      <td>SELECT DISTINCT catalog_entry_name FROM catalo...</td>\n",
              "      <td>62.194320</td>\n",
              "    </tr>\n",
              "    <tr>\n",
              "      <th>205</th>\n",
              "      <td>SELECT T1.Name, T2.Orchestra FROM conductor AS...</td>\n",
              "      <td>Show the names of conductors and the orchestra...</td>\n",
              "      <td>CREATE TABLE conductor (Name VARCHAR, Conducto...</td>\n",
              "      <td>4420</td>\n",
              "      <td>### Instruction:\\n    You are a powerful text-...</td>\n",
              "      <td>SELECT Name FROM conductor WHERE Conductor_ID ...</td>\n",
              "      <td>90.863725</td>\n",
              "    </tr>\n",
              "    <tr>\n",
              "      <th>206</th>\n",
              "      <td>SELECT t2.team_name, t2.ACC_Regular_Season FRO...</td>\n",
              "      <td>What is the team name and acc regular season s...</td>\n",
              "      <td>CREATE TABLE university (school_id VARCHAR, fo...</td>\n",
              "      <td>544</td>\n",
              "      <td>### Instruction:\\n    You are a powerful text-...</td>\n",
              "      <td>100\\n### Solution:\\n```sql\\nSELECT * FROM univ...</td>\n",
              "      <td>41.949336</td>\n",
              "    </tr>\n",
              "    <tr>\n",
              "      <th>207</th>\n",
              "      <td>SELECT COUNT(*) FROM ROLES</td>\n",
              "      <td>How many roles are there?</td>\n",
              "      <td>CREATE TABLE ROLES (Id VARCHAR)</td>\n",
              "      <td>2429</td>\n",
              "      <td>### Instruction:\\n    You are a powerful text-...</td>\n",
              "      <td>10\\n### Solution:\\n```sql\\nSELECT COUNT(*) FRO...</td>\n",
              "      <td>16.610504</td>\n",
              "    </tr>\n",
              "    <tr>\n",
              "      <th>208</th>\n",
              "      <td>SELECT T1.text_of_notes FROM Assessment_Notes ...</td>\n",
              "      <td>Find the texts of assessment notes for teacher...</td>\n",
              "      <td>CREATE TABLE Assessment_Notes (text_of_notes V...</td>\n",
              "      <td>1840</td>\n",
              "      <td>### Instruction:\\n    You are a powerful text-...</td>\n",
              "      <td>SELECT * FROM Assessment_Notes WHERE teacher_i...</td>\n",
              "      <td>15.860643</td>\n",
              "    </tr>\n",
              "    <tr>\n",
              "      <th>209</th>\n",
              "      <td>SELECT T1.first_name, T2.department_name FROM ...</td>\n",
              "      <td>Display the first name and department name for...</td>\n",
              "      <td>CREATE TABLE departments (department_name VARC...</td>\n",
              "      <td>2024</td>\n",
              "      <td>### Instruction:\\n    You are a powerful text-...</td>\n",
              "      <td>SELECT e.first_name AS FirstName, d.department...</td>\n",
              "      <td>33.220817</td>\n",
              "    </tr>\n",
              "    <tr>\n",
              "      <th>210</th>\n",
              "      <td>SELECT T2.f1 FROM user_profiles AS T1 JOIN fol...</td>\n",
              "      <td>Find the id of users who are followed by Mary ...</td>\n",
              "      <td>CREATE TABLE follows (f1 VARCHAR, f2 VARCHAR);...</td>\n",
              "      <td>170</td>\n",
              "      <td>### Instruction:\\n    You are a powerful text-...</td>\n",
              "      <td>SELECT uid FROM user_profiles WHERE EXISTS(SEL...</td>\n",
              "      <td>49.051716</td>\n",
              "    </tr>\n",
              "  </tbody>\n",
              "</table>\n",
              "</div>\n",
              "    <div class=\"colab-df-buttons\">\n",
              "\n",
              "  <div class=\"colab-df-container\">\n",
              "    <button class=\"colab-df-convert\" onclick=\"convertToInteractive('df-e55fe415-2d1c-4177-b95d-91e05e74975a')\"\n",
              "            title=\"Convert this dataframe to an interactive table.\"\n",
              "            style=\"display:none;\">\n",
              "\n",
              "  <svg xmlns=\"http://www.w3.org/2000/svg\" height=\"24px\" viewBox=\"0 -960 960 960\">\n",
              "    <path d=\"M120-120v-720h720v720H120Zm60-500h600v-160H180v160Zm220 220h160v-160H400v160Zm0 220h160v-160H400v160ZM180-400h160v-160H180v160Zm440 0h160v-160H620v160ZM180-180h160v-160H180v160Zm440 0h160v-160H620v160Z\"/>\n",
              "  </svg>\n",
              "    </button>\n",
              "\n",
              "  <style>\n",
              "    .colab-df-container {\n",
              "      display:flex;\n",
              "      gap: 12px;\n",
              "    }\n",
              "\n",
              "    .colab-df-convert {\n",
              "      background-color: #E8F0FE;\n",
              "      border: none;\n",
              "      border-radius: 50%;\n",
              "      cursor: pointer;\n",
              "      display: none;\n",
              "      fill: #1967D2;\n",
              "      height: 32px;\n",
              "      padding: 0 0 0 0;\n",
              "      width: 32px;\n",
              "    }\n",
              "\n",
              "    .colab-df-convert:hover {\n",
              "      background-color: #E2EBFA;\n",
              "      box-shadow: 0px 1px 2px rgba(60, 64, 67, 0.3), 0px 1px 3px 1px rgba(60, 64, 67, 0.15);\n",
              "      fill: #174EA6;\n",
              "    }\n",
              "\n",
              "    .colab-df-buttons div {\n",
              "      margin-bottom: 4px;\n",
              "    }\n",
              "\n",
              "    [theme=dark] .colab-df-convert {\n",
              "      background-color: #3B4455;\n",
              "      fill: #D2E3FC;\n",
              "    }\n",
              "\n",
              "    [theme=dark] .colab-df-convert:hover {\n",
              "      background-color: #434B5C;\n",
              "      box-shadow: 0px 1px 3px 1px rgba(0, 0, 0, 0.15);\n",
              "      filter: drop-shadow(0px 1px 2px rgba(0, 0, 0, 0.3));\n",
              "      fill: #FFFFFF;\n",
              "    }\n",
              "  </style>\n",
              "\n",
              "    <script>\n",
              "      const buttonEl =\n",
              "        document.querySelector('#df-e55fe415-2d1c-4177-b95d-91e05e74975a button.colab-df-convert');\n",
              "      buttonEl.style.display =\n",
              "        google.colab.kernel.accessAllowed ? 'block' : 'none';\n",
              "\n",
              "      async function convertToInteractive(key) {\n",
              "        const element = document.querySelector('#df-e55fe415-2d1c-4177-b95d-91e05e74975a');\n",
              "        const dataTable =\n",
              "          await google.colab.kernel.invokeFunction('convertToInteractive',\n",
              "                                                    [key], {});\n",
              "        if (!dataTable) return;\n",
              "\n",
              "        const docLinkHtml = 'Like what you see? Visit the ' +\n",
              "          '<a target=\"_blank\" href=https://colab.research.google.com/notebooks/data_table.ipynb>data table notebook</a>'\n",
              "          + ' to learn more about interactive tables.';\n",
              "        element.innerHTML = '';\n",
              "        dataTable['output_type'] = 'display_data';\n",
              "        await google.colab.output.renderOutput(dataTable, element);\n",
              "        const docLink = document.createElement('div');\n",
              "        docLink.innerHTML = docLinkHtml;\n",
              "        element.appendChild(docLink);\n",
              "      }\n",
              "    </script>\n",
              "  </div>\n",
              "\n",
              "\n",
              "<div id=\"df-c7e368b4-2cf1-48c9-908d-35f4527388eb\">\n",
              "  <button class=\"colab-df-quickchart\" onclick=\"quickchart('df-c7e368b4-2cf1-48c9-908d-35f4527388eb')\"\n",
              "            title=\"Suggest charts\"\n",
              "            style=\"display:none;\">\n",
              "\n",
              "<svg xmlns=\"http://www.w3.org/2000/svg\" height=\"24px\"viewBox=\"0 0 24 24\"\n",
              "     width=\"24px\">\n",
              "    <g>\n",
              "        <path d=\"M19 3H5c-1.1 0-2 .9-2 2v14c0 1.1.9 2 2 2h14c1.1 0 2-.9 2-2V5c0-1.1-.9-2-2-2zM9 17H7v-7h2v7zm4 0h-2V7h2v10zm4 0h-2v-4h2v4z\"/>\n",
              "    </g>\n",
              "</svg>\n",
              "  </button>\n",
              "\n",
              "<style>\n",
              "  .colab-df-quickchart {\n",
              "      --bg-color: #E8F0FE;\n",
              "      --fill-color: #1967D2;\n",
              "      --hover-bg-color: #E2EBFA;\n",
              "      --hover-fill-color: #174EA6;\n",
              "      --disabled-fill-color: #AAA;\n",
              "      --disabled-bg-color: #DDD;\n",
              "  }\n",
              "\n",
              "  [theme=dark] .colab-df-quickchart {\n",
              "      --bg-color: #3B4455;\n",
              "      --fill-color: #D2E3FC;\n",
              "      --hover-bg-color: #434B5C;\n",
              "      --hover-fill-color: #FFFFFF;\n",
              "      --disabled-bg-color: #3B4455;\n",
              "      --disabled-fill-color: #666;\n",
              "  }\n",
              "\n",
              "  .colab-df-quickchart {\n",
              "    background-color: var(--bg-color);\n",
              "    border: none;\n",
              "    border-radius: 50%;\n",
              "    cursor: pointer;\n",
              "    display: none;\n",
              "    fill: var(--fill-color);\n",
              "    height: 32px;\n",
              "    padding: 0;\n",
              "    width: 32px;\n",
              "  }\n",
              "\n",
              "  .colab-df-quickchart:hover {\n",
              "    background-color: var(--hover-bg-color);\n",
              "    box-shadow: 0 1px 2px rgba(60, 64, 67, 0.3), 0 1px 3px 1px rgba(60, 64, 67, 0.15);\n",
              "    fill: var(--button-hover-fill-color);\n",
              "  }\n",
              "\n",
              "  .colab-df-quickchart-complete:disabled,\n",
              "  .colab-df-quickchart-complete:disabled:hover {\n",
              "    background-color: var(--disabled-bg-color);\n",
              "    fill: var(--disabled-fill-color);\n",
              "    box-shadow: none;\n",
              "  }\n",
              "\n",
              "  .colab-df-spinner {\n",
              "    border: 2px solid var(--fill-color);\n",
              "    border-color: transparent;\n",
              "    border-bottom-color: var(--fill-color);\n",
              "    animation:\n",
              "      spin 1s steps(1) infinite;\n",
              "  }\n",
              "\n",
              "  @keyframes spin {\n",
              "    0% {\n",
              "      border-color: transparent;\n",
              "      border-bottom-color: var(--fill-color);\n",
              "      border-left-color: var(--fill-color);\n",
              "    }\n",
              "    20% {\n",
              "      border-color: transparent;\n",
              "      border-left-color: var(--fill-color);\n",
              "      border-top-color: var(--fill-color);\n",
              "    }\n",
              "    30% {\n",
              "      border-color: transparent;\n",
              "      border-left-color: var(--fill-color);\n",
              "      border-top-color: var(--fill-color);\n",
              "      border-right-color: var(--fill-color);\n",
              "    }\n",
              "    40% {\n",
              "      border-color: transparent;\n",
              "      border-right-color: var(--fill-color);\n",
              "      border-top-color: var(--fill-color);\n",
              "    }\n",
              "    60% {\n",
              "      border-color: transparent;\n",
              "      border-right-color: var(--fill-color);\n",
              "    }\n",
              "    80% {\n",
              "      border-color: transparent;\n",
              "      border-right-color: var(--fill-color);\n",
              "      border-bottom-color: var(--fill-color);\n",
              "    }\n",
              "    90% {\n",
              "      border-color: transparent;\n",
              "      border-bottom-color: var(--fill-color);\n",
              "    }\n",
              "  }\n",
              "</style>\n",
              "\n",
              "  <script>\n",
              "    async function quickchart(key) {\n",
              "      const quickchartButtonEl =\n",
              "        document.querySelector('#' + key + ' button');\n",
              "      quickchartButtonEl.disabled = true;  // To prevent multiple clicks.\n",
              "      quickchartButtonEl.classList.add('colab-df-spinner');\n",
              "      try {\n",
              "        const charts = await google.colab.kernel.invokeFunction(\n",
              "            'suggestCharts', [key], {});\n",
              "      } catch (error) {\n",
              "        console.error('Error during call to suggestCharts:', error);\n",
              "      }\n",
              "      quickchartButtonEl.classList.remove('colab-df-spinner');\n",
              "      quickchartButtonEl.classList.add('colab-df-quickchart-complete');\n",
              "    }\n",
              "    (() => {\n",
              "      let quickchartButtonEl =\n",
              "        document.querySelector('#df-c7e368b4-2cf1-48c9-908d-35f4527388eb button');\n",
              "      quickchartButtonEl.style.display =\n",
              "        google.colab.kernel.accessAllowed ? 'block' : 'none';\n",
              "    })();\n",
              "  </script>\n",
              "</div>\n",
              "\n",
              "    </div>\n",
              "  </div>\n"
            ],
            "application/vnd.google.colaboratory.intrinsic+json": {
              "type": "dataframe",
              "summary": "{\n  \"name\": \"display(test_df2\",\n  \"rows\": 10,\n  \"fields\": [\n    {\n      \"column\": \"response\",\n      \"properties\": {\n        \"dtype\": \"string\",\n        \"num_unique_values\": 10,\n        \"samples\": [\n          \"SELECT T1.first_name, T2.department_name FROM employees AS T1 JOIN departments AS T2 ON T1.department_id = T2.department_id\",\n          \"SELECT COUNT(*) FROM catalog_contents\",\n          \"SELECT t2.team_name, t2.ACC_Regular_Season FROM university AS t1 JOIN basketball_match AS t2 ON t1.school_id = t2.school_id ORDER BY t1.founded LIMIT 1\"\n        ],\n        \"semantic_type\": \"\",\n        \"description\": \"\"\n      }\n    },\n    {\n      \"column\": \"question\",\n      \"properties\": {\n        \"dtype\": \"string\",\n        \"num_unique_values\": 10,\n        \"samples\": [\n          \"Display the first name and department name for each employee.\",\n          \"How many products are there in the records?\",\n          \"What is the team name and acc regular season score of the school that was founded for the longest time?\"\n        ],\n        \"semantic_type\": \"\",\n        \"description\": \"\"\n      }\n    },\n    {\n      \"column\": \"context\",\n      \"properties\": {\n        \"dtype\": \"string\",\n        \"num_unique_values\": 10,\n        \"samples\": [\n          \"CREATE TABLE departments (department_name VARCHAR, department_id VARCHAR); CREATE TABLE employees (first_name VARCHAR, department_id VARCHAR)\",\n          \"CREATE TABLE catalog_contents (Id VARCHAR)\",\n          \"CREATE TABLE university (school_id VARCHAR, founded VARCHAR); CREATE TABLE basketball_match (team_name VARCHAR, ACC_Regular_Season VARCHAR, school_id VARCHAR)\"\n        ],\n        \"semantic_type\": \"\",\n        \"description\": \"\"\n      }\n    },\n    {\n      \"column\": \"__index_level_0__\",\n      \"properties\": {\n        \"dtype\": \"number\",\n        \"std\": 1656,\n        \"min\": 132,\n        \"max\": 4420,\n        \"num_unique_values\": 10,\n        \"samples\": [\n          2024,\n          201,\n          544\n        ],\n        \"semantic_type\": \"\",\n        \"description\": \"\"\n      }\n    },\n    {\n      \"column\": \"text\",\n      \"properties\": {\n        \"dtype\": \"string\",\n        \"num_unique_values\": 10,\n        \"samples\": [\n          \"### Instruction:\\n    You are a powerful text-to-SQL model.     Your job is to answer questions about a database.     You are given a question and context regarding one or more tables.\\n\\n    You must output the SQL query that answers the question.\\n\\n    ### Input:\\n    Display the first name and department name for each employee.\\n    ### Context:\\n    CREATE TABLE departments (department_name VARCHAR, department_id VARCHAR); CREATE TABLE employees (first_name VARCHAR, department_id VARCHAR)\\n    ### Response:\\n    \",\n          \"### Instruction:\\n    You are a powerful text-to-SQL model.     Your job is to answer questions about a database.     You are given a question and context regarding one or more tables.\\n\\n    You must output the SQL query that answers the question.\\n\\n    ### Input:\\n    How many products are there in the records?\\n    ### Context:\\n    CREATE TABLE catalog_contents (Id VARCHAR)\\n    ### Response:\\n    \",\n          \"### Instruction:\\n    You are a powerful text-to-SQL model.     Your job is to answer questions about a database.     You are given a question and context regarding one or more tables.\\n\\n    You must output the SQL query that answers the question.\\n\\n    ### Input:\\n    What is the team name and acc regular season score of the school that was founded for the longest time?\\n    ### Context:\\n    CREATE TABLE university (school_id VARCHAR, founded VARCHAR); CREATE TABLE basketball_match (team_name VARCHAR, ACC_Regular_Season VARCHAR, school_id VARCHAR)\\n    ### Response:\\n    \"\n        ],\n        \"semantic_type\": \"\",\n        \"description\": \"\"\n      }\n    },\n    {\n      \"column\": \"eval_res\",\n      \"properties\": {\n        \"dtype\": \"string\",\n        \"num_unique_values\": 10,\n        \"samples\": [\n          \"SELECT e.first_name AS FirstName, d.department_name AS Department FROM employees e JOIN departments d ON e.department_id = d.department_id;\",\n          \"1098456732\\n### Solution:\\n```sql\\nSELECT COUNT(*) FROM catalog_contents;\\n```\",\n          \"100\\n### Solution:\\n```sql\\nSELECT * FROM university WHERE founded = 'The University Of North Carolina' AND team_name IN ('Duke', 'North Carolina') ORDER BY founded DESC LIMIT 2;\\n```\"\n        ],\n        \"semantic_type\": \"\",\n        \"description\": \"\"\n      }\n    },\n    {\n      \"column\": \"eval_time\",\n      \"properties\": {\n        \"dtype\": \"number\",\n        \"std\": 22.82001608610592,\n        \"min\": 15.860643150999977,\n        \"max\": 90.86372525899992,\n        \"num_unique_values\": 10,\n        \"samples\": [\n          33.220817220999834,\n          23.232149744000026,\n          41.94933588999993\n        ],\n        \"semantic_type\": \"\",\n        \"description\": \"\"\n      }\n    }\n  ]\n}"
            }
          },
          "metadata": {}
        }
      ]
    },
    {
      "cell_type": "markdown",
      "source": [
        "# You may save the test_LLM on several stages if i do so donot forget to change the file that the data saved on ok that what i mean >>LLMRES_PKL_FILE=\"sql_test_Llama2.pkl\" change it to \"sql_test_Llama2_v1.pkl\" ,\"sql_test_Llama2_v2.pkl\" and so on according to how many times you will save it and finally concatenate them in a single dataframe  \n",
        "\n"
      ],
      "metadata": {
        "id": "3y0O1zPkpAjh"
      }
    },
    {
      "cell_type": "code",
      "source": [
        "import os\n",
        "print(os.path.exists(DATA_PATH + PKL_DIR + LLMRES_PKL_FILE))"
      ],
      "metadata": {
        "id": "uWV_9UI9cbYM",
        "colab": {
          "base_uri": "https://localhost:8080/",
          "height": 33
        },
        "outputId": "68a71bcc-8922-483d-efc0-1264f705f022"
      },
      "execution_count": null,
      "outputs": [
        {
          "output_type": "display_data",
          "data": {
            "text/plain": [
              "\u001b[3;92mTrue\u001b[0m\n"
            ],
            "text/html": [
              "<pre style=\"white-space:pre;overflow-x:auto;line-height:normal;font-family:Menlo,'DejaVu Sans Mono',consolas,'Courier New',monospace\"><span style=\"color: #00ff00; text-decoration-color: #00ff00; font-style: italic\">True</span>\n",
              "</pre>\n"
            ]
          },
          "metadata": {}
        }
      ]
    },
    {
      "cell_type": "code",
      "source": [
        "file_path = DATA_PATH + PKL_DIR + LLMRES_PKL_FILE\n",
        "print(\"File exists:\", os.path.exists(file_path))"
      ],
      "metadata": {
        "colab": {
          "base_uri": "https://localhost:8080/",
          "height": 33
        },
        "id": "LicNi_7j3x81",
        "outputId": "d08a830a-2350-46bf-ac27-fec53209d1b3"
      },
      "execution_count": null,
      "outputs": [
        {
          "output_type": "display_data",
          "data": {
            "text/plain": [
              "File exists: \u001b[3;92mTrue\u001b[0m\n"
            ],
            "text/html": [
              "<pre style=\"white-space:pre;overflow-x:auto;line-height:normal;font-family:Menlo,'DejaVu Sans Mono',consolas,'Courier New',monospace\">File exists: <span style=\"color: #00ff00; text-decoration-color: #00ff00; font-style: italic\">True</span>\n",
              "</pre>\n"
            ]
          },
          "metadata": {}
        }
      ]
    },
    {
      "cell_type": "code",
      "source": [
        "import shutil\n",
        "shutil.copy(\"/content/drive/MyDrive/Data/test/sql_test_Llama2.pkl\", \"/content/sql_test_Llama2.pkl\")\n"
      ],
      "metadata": {
        "colab": {
          "base_uri": "https://localhost:8080/",
          "height": 36
        },
        "id": "R-NdUA2i4vL1",
        "outputId": "e9d6896e-fce3-4fae-da4d-61143ce1c8d0"
      },
      "execution_count": null,
      "outputs": [
        {
          "output_type": "execute_result",
          "data": {
            "text/plain": [
              "'/content/sql_test_Llama2.pkl'"
            ],
            "application/vnd.google.colaboratory.intrinsic+json": {
              "type": "string"
            }
          },
          "metadata": {},
          "execution_count": 28
        }
      ]
    },
    {
      "cell_type": "code",
      "source": [
        "from google.colab import files\n",
        "files.download(\"/content/sql_test_Llama2.pkl\")\n"
      ],
      "metadata": {
        "colab": {
          "base_uri": "https://localhost:8080/",
          "height": 17
        },
        "id": "uhAV3o465vJ2",
        "outputId": "4e1d6f75-66d7-45fa-e955-77362e5f0f87"
      },
      "execution_count": null,
      "outputs": [
        {
          "output_type": "display_data",
          "data": {
            "text/plain": [
              "<IPython.core.display.Javascript object>"
            ],
            "application/javascript": [
              "\n",
              "    async function download(id, filename, size) {\n",
              "      if (!google.colab.kernel.accessAllowed) {\n",
              "        return;\n",
              "      }\n",
              "      const div = document.createElement('div');\n",
              "      const label = document.createElement('label');\n",
              "      label.textContent = `Downloading \"${filename}\": `;\n",
              "      div.appendChild(label);\n",
              "      const progress = document.createElement('progress');\n",
              "      progress.max = size;\n",
              "      div.appendChild(progress);\n",
              "      document.body.appendChild(div);\n",
              "\n",
              "      const buffers = [];\n",
              "      let downloaded = 0;\n",
              "\n",
              "      const channel = await google.colab.kernel.comms.open(id);\n",
              "      // Send a message to notify the kernel that we're ready.\n",
              "      channel.send({})\n",
              "\n",
              "      for await (const message of channel.messages) {\n",
              "        // Send a message to notify the kernel that we're ready.\n",
              "        channel.send({})\n",
              "        if (message.buffers) {\n",
              "          for (const buffer of message.buffers) {\n",
              "            buffers.push(buffer);\n",
              "            downloaded += buffer.byteLength;\n",
              "            progress.value = downloaded;\n",
              "          }\n",
              "        }\n",
              "      }\n",
              "      const blob = new Blob(buffers, {type: 'application/binary'});\n",
              "      const a = document.createElement('a');\n",
              "      a.href = window.URL.createObjectURL(blob);\n",
              "      a.download = filename;\n",
              "      div.appendChild(a);\n",
              "      a.click();\n",
              "      div.remove();\n",
              "    }\n",
              "  "
            ]
          },
          "metadata": {}
        },
        {
          "output_type": "display_data",
          "data": {
            "text/plain": [
              "<IPython.core.display.Javascript object>"
            ],
            "application/javascript": [
              "download(\"download_bf1c5479-ae15-4d39-a729-807ee8e028a6\", \"sql_test_Llama2.pkl\", 98272)"
            ]
          },
          "metadata": {}
        }
      ]
    },
    {
      "cell_type": "code",
      "source": [
        "eval_start_time = perf_counter()\n",
        "test_LLM=gen_eval_res(test_df.iloc[300:399]) # If the GPU disconnected you can use 100 row by 100 row like that test_df.iloc[:100] the next 100 row [100:201] and so on\n",
        "eval_end_time = perf_counter()\n",
        "print('Evaluation Took: ', round(eval_end_time-eval_start_time, 2))"
      ],
      "metadata": {
        "colab": {
          "base_uri": "https://localhost:8080/",
          "height": 49
        },
        "id": "Y_krX8IV5yeK",
        "outputId": "0d366561-7e97-4201-8f1b-6dc809b5ebe0"
      },
      "execution_count": null,
      "outputs": [
        {
          "output_type": "display_data",
          "data": {
            "text/plain": [
              "*** Row \u001b[1;36m10\u001b[0m Done ***\n"
            ],
            "text/html": [
              "<pre style=\"white-space:pre;overflow-x:auto;line-height:normal;font-family:Menlo,'DejaVu Sans Mono',consolas,'Courier New',monospace\">*** Row <span style=\"color: #008080; text-decoration-color: #008080; font-weight: bold\">10</span> Done ***\n",
              "</pre>\n"
            ]
          },
          "metadata": {}
        },
        {
          "output_type": "display_data",
          "data": {
            "text/plain": [
              "*** Row \u001b[1;36m20\u001b[0m Done ***\n"
            ],
            "text/html": [
              "<pre style=\"white-space:pre;overflow-x:auto;line-height:normal;font-family:Menlo,'DejaVu Sans Mono',consolas,'Courier New',monospace\">*** Row <span style=\"color: #008080; text-decoration-color: #008080; font-weight: bold\">20</span> Done ***\n",
              "</pre>\n"
            ]
          },
          "metadata": {}
        }
      ]
    },
    {
      "cell_type": "code",
      "source": [
        "test_LLM.to_pickle(DATA_PATH + PKL_DIR + LLMRES_PKL_FILE)"
      ],
      "metadata": {
        "id": "ULOm-U4KJF38"
      },
      "execution_count": null,
      "outputs": []
    },
    {
      "cell_type": "code",
      "source": [
        "test_df2=pd.read_pickle(DATA_PATH + PKL_DIR + LLMRES_PKL_FILE)\n",
        "#display the first 10 Rows\n",
        "display(test_df2.head(10))"
      ],
      "metadata": {
        "id": "BtWDD8X8JF_U",
        "colab": {
          "base_uri": "https://localhost:8080/",
          "height": 176
        },
        "outputId": "d85806c1-d427-4fdf-9ceb-ac7cfe9c6589"
      },
      "execution_count": null,
      "outputs": [
        {
          "output_type": "error",
          "ename": "NameError",
          "evalue": "name 'pd' is not defined",
          "traceback": [
            "\u001b[0;31m---------------------------------------------------------------------------\u001b[0m",
            "\u001b[0;31mNameError\u001b[0m                                 Traceback (most recent call last)",
            "\u001b[0;32m<ipython-input-1-4f2c46f0335a>\u001b[0m in \u001b[0;36m<cell line: 0>\u001b[0;34m()\u001b[0m\n\u001b[0;32m----> 1\u001b[0;31m \u001b[0mtest_df2\u001b[0m\u001b[0;34m=\u001b[0m\u001b[0mpd\u001b[0m\u001b[0;34m.\u001b[0m\u001b[0mread_pickle\u001b[0m\u001b[0;34m(\u001b[0m\u001b[0mDATA_PATH\u001b[0m \u001b[0;34m+\u001b[0m \u001b[0mPKL_DIR\u001b[0m \u001b[0;34m+\u001b[0m \u001b[0mLLMRES_PKL_FILE\u001b[0m\u001b[0;34m)\u001b[0m\u001b[0;34m\u001b[0m\u001b[0;34m\u001b[0m\u001b[0m\n\u001b[0m\u001b[1;32m      2\u001b[0m \u001b[0;31m#display the first 10 Rows\u001b[0m\u001b[0;34m\u001b[0m\u001b[0;34m\u001b[0m\u001b[0m\n\u001b[1;32m      3\u001b[0m \u001b[0mdisplay\u001b[0m\u001b[0;34m(\u001b[0m\u001b[0mtest_df2\u001b[0m\u001b[0;34m.\u001b[0m\u001b[0mhead\u001b[0m\u001b[0;34m(\u001b[0m\u001b[0;36m10\u001b[0m\u001b[0;34m)\u001b[0m\u001b[0;34m)\u001b[0m\u001b[0;34m\u001b[0m\u001b[0;34m\u001b[0m\u001b[0m\n",
            "\u001b[0;31mNameError\u001b[0m: name 'pd' is not defined"
          ]
        }
      ]
    },
    {
      "cell_type": "code",
      "source": [
        "from google.colab import drive\n",
        "drive.mount('/content/drive')\n",
        "\n",
        "# حدد المسار إلى الملف في Google Drive\n",
        "file_drive_path = \"/content/drive/MyDrive/Data/test/sql_test_Llama2.pkl\"\n"
      ],
      "metadata": {
        "colab": {
          "base_uri": "https://localhost:8080/"
        },
        "id": "8tsj4za0izBO",
        "outputId": "95b2ba17-2879-4280-9ce4-764d148b1985"
      },
      "execution_count": null,
      "outputs": [
        {
          "output_type": "stream",
          "name": "stdout",
          "text": [
            "Mounted at /content/drive\n"
          ]
        }
      ]
    },
    {
      "cell_type": "code",
      "source": [
        "import pickle\n",
        "\n",
        "file_path_zeina = \"A:\\101-201\\101-201\\test-20250210T181556Z-001\\test\\sql_test_Llama2.pkl\"\n",
        "file_path_sara = \"A:\\1-100\\1-100\\test-20250210T181442Z-001\\test\\sql_test_Llama2.pkl\"\n",
        "# تحميل الملف من Google Drive\n",
        "with open(file_drive_path, \"rb\") as f:\n",
        "    list1 = pickle.load(f)\n",
        "\n",
        "# تحميل الملفات المحلية\n",
        "with open(file_path_zeina, \"rb\") as f:\n",
        "    list2 = pickle.load(f)\n",
        "\n",
        "with open(file_path_sara, \"rb\") as f:\n",
        "    list3 = pickle.load(f)\n",
        "\n",
        "# دمج القوائم\n",
        "merged_list = list1 + list2 + list3\n",
        "\n",
        "# حفظ القائمة المدمجة في ملف جديد\n",
        "with open(\"merged_list.pkl\", \"wb\") as f:\n",
        "    pickle.dump(merged_list, f)"
      ],
      "metadata": {
        "colab": {
          "base_uri": "https://localhost:8080/",
          "height": 211
        },
        "id": "L9AvRcyjlT1A",
        "outputId": "5e170873-4e50-472e-a9f8-ff0e2a019a7c"
      },
      "execution_count": null,
      "outputs": [
        {
          "output_type": "error",
          "ename": "FileNotFoundError",
          "evalue": "[Errno 2] No such file or directory: 'A:A-201A-201\\test-20250210T181556Z-001\\test\\\\sql_test_Llama2.pkl'",
          "traceback": [
            "\u001b[0;31m---------------------------------------------------------------------------\u001b[0m",
            "\u001b[0;31mFileNotFoundError\u001b[0m                         Traceback (most recent call last)",
            "\u001b[0;32m<ipython-input-18-a94eeb6c236b>\u001b[0m in \u001b[0;36m<cell line: 0>\u001b[0;34m()\u001b[0m\n\u001b[1;32m      8\u001b[0m \u001b[0;34m\u001b[0m\u001b[0m\n\u001b[1;32m      9\u001b[0m \u001b[0;31m# تحميل الملفات المحلية\u001b[0m\u001b[0;34m\u001b[0m\u001b[0;34m\u001b[0m\u001b[0m\n\u001b[0;32m---> 10\u001b[0;31m \u001b[0;32mwith\u001b[0m \u001b[0mopen\u001b[0m\u001b[0;34m(\u001b[0m\u001b[0mfile_path_zeina\u001b[0m\u001b[0;34m,\u001b[0m \u001b[0;34m\"rb\"\u001b[0m\u001b[0;34m)\u001b[0m \u001b[0;32mas\u001b[0m \u001b[0mf\u001b[0m\u001b[0;34m:\u001b[0m\u001b[0;34m\u001b[0m\u001b[0;34m\u001b[0m\u001b[0m\n\u001b[0m\u001b[1;32m     11\u001b[0m     \u001b[0mlist2\u001b[0m \u001b[0;34m=\u001b[0m \u001b[0mpickle\u001b[0m\u001b[0;34m.\u001b[0m\u001b[0mload\u001b[0m\u001b[0;34m(\u001b[0m\u001b[0mf\u001b[0m\u001b[0;34m)\u001b[0m\u001b[0;34m\u001b[0m\u001b[0;34m\u001b[0m\u001b[0m\n\u001b[1;32m     12\u001b[0m \u001b[0;34m\u001b[0m\u001b[0m\n",
            "\u001b[0;31mFileNotFoundError\u001b[0m: [Errno 2] No such file or directory: 'A:A-201A-201\\test-20250210T181556Z-001\\test\\\\sql_test_Llama2.pkl'"
          ]
        }
      ]
    },
    {
      "cell_type": "code",
      "source": [
        "import os\n",
        "\n",
        "file_path = r\"A:\\101-201\\101-201\\test-20250210T181556Z-001\\test\\sql_test_Llama2_sara.pkl\"\n",
        "\n",
        "if os.path.exists(file_path):\n",
        "    print(\"✅ File found!\")\n",
        "else:\n",
        "    print(\"❌ File not found:\", file_path)"
      ],
      "metadata": {
        "colab": {
          "base_uri": "https://localhost:8080/"
        },
        "id": "Zg3gXkERmYpk",
        "outputId": "df5e0a62-c3b3-433e-cd02-f84f2ad2ac94"
      },
      "execution_count": null,
      "outputs": [
        {
          "output_type": "stream",
          "name": "stdout",
          "text": [
            "❌ File not found: A:\\101-201\\101-201\\test-20250210T181556Z-001\\test\\sql_test_Llama2_sara.pkl\n"
          ]
        }
      ]
    },
    {
      "cell_type": "code",
      "source": [
        "\n"
      ],
      "metadata": {
        "id": "AMHJNeEvnwSw"
      },
      "execution_count": null,
      "outputs": []
    },
    {
      "cell_type": "code",
      "source": [
        "import os\n",
        "print(os.listdir())  # List all files in the current directory"
      ],
      "metadata": {
        "colab": {
          "base_uri": "https://localhost:8080/"
        },
        "id": "_sCsJJago5eE",
        "outputId": "a4fcebda-e87d-48d3-a2b2-a765c8ced1f9"
      },
      "execution_count": null,
      "outputs": [
        {
          "output_type": "stream",
          "name": "stdout",
          "text": [
            "['.config', 'drive', 'sample_data']\n"
          ]
        }
      ]
    },
    {
      "cell_type": "code",
      "source": [
        "import os\n",
        "\n",
        "file_path = \"/content/drive/MyDrive/pkl_files/sql_test_Llama2_sara.pkl\"\n",
        "\n",
        "if os.path.exists(file_path):\n",
        "    print(\"✅ File found!\")\n",
        "else:\n",
        "    print(\"❌ File not found:\", file_path)"
      ],
      "metadata": {
        "colab": {
          "base_uri": "https://localhost:8080/"
        },
        "id": "jHcj-fBGq570",
        "outputId": "ac31bb41-facb-4c73-f39a-8f81dc85ef88"
      },
      "execution_count": null,
      "outputs": [
        {
          "output_type": "stream",
          "name": "stdout",
          "text": [
            "❌ File not found: /content/drive/MyDrive/pkl_files/sql_test_Llama2_sara.pkl\n"
          ]
        }
      ]
    },
    {
      "cell_type": "code",
      "source": [
        "from google.colab import drive\n",
        "drive.mount('/content/drive')\n"
      ],
      "metadata": {
        "colab": {
          "base_uri": "https://localhost:8080/"
        },
        "id": "Y3T1A4sWrlcc",
        "outputId": "5e45dd48-b488-4f59-d073-ada516e11059"
      },
      "execution_count": null,
      "outputs": [
        {
          "output_type": "stream",
          "name": "stdout",
          "text": [
            "Mounted at /content/drive\n"
          ]
        }
      ]
    },
    {
      "cell_type": "code",
      "source": [
        "import os\n",
        "\n",
        "file_path_zeina = \"/content/drive/MyDrive/pkl_files/sql_test_Llama2_zeina.pkl\"\n",
        "file_path_zeina2 = \"/content/drive/MyDrive/pkl_files/sql_test_Llama2_zeina2.pkl\"\n",
        "file_path_sara = \"/content/drive/MyDrive/pkl_files/sql_test_Llama2_sara.pkl\"\n",
        "\n",
        "# Check if files exist\n",
        "for file_path in [file_path_zeina, file_path_sara,file_path_zeina2]:\n",
        "    if os.path.exists(file_path):\n",
        "        print(f\"✅ Found: {file_path}\")\n",
        "    else:\n",
        "        print(f\"❌ Not Found: {file_path}\")"
      ],
      "metadata": {
        "colab": {
          "base_uri": "https://localhost:8080/"
        },
        "id": "uJyvW0EcrvdJ",
        "outputId": "0c0ecc2d-ed65-4c4e-fdae-041578e220a1"
      },
      "execution_count": null,
      "outputs": [
        {
          "output_type": "stream",
          "name": "stdout",
          "text": [
            "✅ Found: /content/drive/MyDrive/pkl_files/sql_test_Llama2_zeina.pkl\n",
            "✅ Found: /content/drive/MyDrive/pkl_files/sql_test_Llama2_sara.pkl\n",
            "✅ Found: /content/drive/MyDrive/pkl_files/sql_test_Llama2_zeina2.pkl\n"
          ]
        }
      ]
    },
    {
      "cell_type": "code",
      "source": [
        "file_drive_path = \"/content/drive/MyDrive/Data/test/sql_test_Llama2.pkl\"\n",
        "\n",
        "import pickle\n",
        "\n",
        "# Load the first file\n",
        "with open(file_path_zeina, \"rb\") as f:\n",
        "    data_zeina = pickle.load(f)\n",
        "\n",
        "\n",
        "with open(file_path_zeina2, \"rb\") as f:\n",
        "    data_zeina2 = pickle.load(f)\n",
        "\n",
        "# Load the second file\n",
        "with open(file_path_sara, \"rb\") as f:\n",
        "    data_sara = pickle.load(f)\n",
        "\n",
        "# Load the third file\n",
        "with open(file_drive_path, \"rb\") as f:\n",
        "    data_third = pickle.load(f)\n",
        "\n",
        "# Merge (concatenate) the lists\n",
        "merged_data = []\n",
        "merged_data.extend(data_zeina)\n",
        "merged_data.extend(data_zeina2)\n",
        "merged_data.extend(data_sara)\n",
        "merged_data.extend(data_third)\n",
        "\n",
        "print(f\"✅ Merged {len(data_zeina)} + {len(data_zeina2)} + {len(data_sara)} + {len(data_third)} rows successfully!\")\n"
      ],
      "metadata": {
        "colab": {
          "base_uri": "https://localhost:8080/"
        },
        "id": "85DTf-3mrx0z",
        "outputId": "55f91416-27e5-46f2-f1b5-90bbd94aba4f"
      },
      "execution_count": null,
      "outputs": [
        {
          "output_type": "stream",
          "name": "stdout",
          "text": [
            "✅ Merged 99 + 101 + 153 + 99 rows successfully!\n"
          ]
        }
      ]
    },
    {
      "cell_type": "code",
      "source": [
        "output_file = \"/content/drive/MyDrive/sql_test_Llama2_mergedfinal.pkl\"\n",
        "\n",
        "with open(output_file, \"wb\") as f:\n",
        "    pickle.dump(merged_data, f)\n",
        "\n",
        "print(f\"✅ Merged data saved as: {output_file}\")"
      ],
      "metadata": {
        "colab": {
          "base_uri": "https://localhost:8080/"
        },
        "id": "ykHuDVlztIGs",
        "outputId": "5f79a65f-451b-46aa-d889-2b45ccd38837"
      },
      "execution_count": null,
      "outputs": [
        {
          "output_type": "stream",
          "name": "stdout",
          "text": [
            "✅ Merged data saved as: /content/drive/MyDrive/sql_test_Llama2_mergedfinal.pkl\n"
          ]
        }
      ]
    },
    {
      "cell_type": "code",
      "source": [
        "merged_file_path = \"/content/drive/MyDrive/sql_test_Llama2_mergedfinal.pkl\"\n"
      ],
      "metadata": {
        "id": "tgVSIwrrtOAX"
      },
      "execution_count": null,
      "outputs": []
    },
    {
      "cell_type": "code",
      "source": [
        "import pickle\n",
        "\n",
        "# Load the merged file\n",
        "with open(merged_file_path, \"rb\") as f:\n",
        "    merged_data = pickle.load(f)\n",
        "\n",
        "# Print the first 5 rows\n",
        "print(\"✅ First 5 entries in the merged file:\")\n",
        "for i, entry in enumerate(merged_data[:5]):\n",
        "    print(f\"{i+1}: {entry}\")\n",
        "\n",
        "# Print total number of entries\n",
        "print(f\"\\n✅ Total entries in the file: {len(merged_data)}\")"
      ],
      "metadata": {
        "colab": {
          "base_uri": "https://localhost:8080/"
        },
        "id": "4DHOsONYsavc",
        "outputId": "770610b1-2e9c-41f2-9a81-b97920c7b18b"
      },
      "execution_count": null,
      "outputs": [
        {
          "output_type": "stream",
          "name": "stdout",
          "text": [
            "✅ First 5 entries in the merged file:\n",
            "1: response\n",
            "2: question\n",
            "3: context\n",
            "4: __index_level_0__\n",
            "5: text\n",
            "\n",
            "✅ Total entries in the file: 28\n"
          ]
        }
      ]
    },
    {
      "cell_type": "code",
      "source": [
        "import pickle\n",
        "import pandas as pd\n",
        "\n",
        "# Load the file\n",
        "with open(merged_file_path, \"rb\") as f:\n",
        "    data = pickle.load(f)\n",
        "\n",
        "# Check if it's a DataFrame\n",
        "if isinstance(data, pd.DataFrame):\n",
        "    print(\"✅ Data is a Pandas DataFrame\")\n",
        "    print(data.head())  # Show first 5 rows\n",
        "else:\n",
        "    print(\"✅ Data is a list/dictionary\")\n",
        "    print(data[:5])  # Print first 5 entries\n"
      ],
      "metadata": {
        "colab": {
          "base_uri": "https://localhost:8080/"
        },
        "id": "fAiggWIJseFm",
        "outputId": "333da838-dd47-4977-8ad8-31fd61c32c69"
      },
      "execution_count": null,
      "outputs": [
        {
          "output_type": "stream",
          "name": "stdout",
          "text": [
            "✅ Data is a list/dictionary\n",
            "['response', 'question', 'context', '__index_level_0__', 'text']\n"
          ]
        }
      ]
    },
    {
      "cell_type": "code",
      "source": [
        "\n",
        "df = pd.DataFrame(data)\n",
        "print(df.head())  # Display first 5 rows"
      ],
      "metadata": {
        "colab": {
          "base_uri": "https://localhost:8080/"
        },
        "id": "AVZH7t9Os43H",
        "outputId": "bd624c3b-3561-4ee0-ae44-4150fd756113"
      },
      "execution_count": null,
      "outputs": [
        {
          "output_type": "stream",
          "name": "stdout",
          "text": [
            "                   0\n",
            "0           response\n",
            "1           question\n",
            "2            context\n",
            "3  __index_level_0__\n",
            "4               text\n"
          ]
        }
      ]
    },
    {
      "cell_type": "code",
      "source": [
        "print(type(data))\n"
      ],
      "metadata": {
        "colab": {
          "base_uri": "https://localhost:8080/"
        },
        "id": "30gEnTdPs8Ek",
        "outputId": "92e9d837-f45b-438d-e96a-83009c892bbe"
      },
      "execution_count": null,
      "outputs": [
        {
          "output_type": "stream",
          "name": "stdout",
          "text": [
            "<class 'list'>\n"
          ]
        }
      ]
    },
    {
      "cell_type": "code",
      "source": [
        "print(data)\n"
      ],
      "metadata": {
        "colab": {
          "base_uri": "https://localhost:8080/"
        },
        "id": "Mi3tnDtOtULE",
        "outputId": "9ede0ab6-4415-4223-ffab-7637fb2a7d9f"
      },
      "execution_count": null,
      "outputs": [
        {
          "output_type": "stream",
          "name": "stdout",
          "text": [
            "['response', 'question', 'context', '__index_level_0__', 'text', 'eval_res', 'eval_time', 'response', 'question', 'context', '__index_level_0__', 'text', 'eval_res', 'eval_time', 'response', 'question', 'context', '__index_level_0__', 'text', 'eval_res', 'eval_time', 'response', 'question', 'context', '__index_level_0__', 'text', 'eval_res', 'eval_time']\n"
          ]
        }
      ]
    },
    {
      "cell_type": "code",
      "source": [
        "import pickle\n",
        "\n",
        "file_path = \"/content/drive/MyDrive/pkl_files/sql_test_Llama2_zeina.pkl\"\n",
        "\n",
        "with open(file_path, \"rb\") as f:\n",
        "    data = pickle.load(f)\n",
        "\n",
        "print(type(data))  # Check if it's a list, dictionary, or DataFrame\n",
        "print(data[:3])  # Print first 2 entries"
      ],
      "metadata": {
        "colab": {
          "base_uri": "https://localhost:8080/"
        },
        "id": "sY4PwDUqtb2g",
        "outputId": "c420b793-c8b3-4e87-f927-71384f57a1ca"
      },
      "execution_count": null,
      "outputs": [
        {
          "output_type": "stream",
          "name": "stdout",
          "text": [
            "<class 'pandas.core.frame.DataFrame'>\n",
            "                                              response  \\\n",
            "101  SELECT name FROM airport WHERE name LIKE '%int...   \n",
            "102  SELECT T1.first_name, T2.name FROM Owners AS T...   \n",
            "103  SELECT DISTINCT T1.lname FROM Faculty AS T1 JO...   \n",
            "\n",
            "                                              question  \\\n",
            "101  Which of the airport names contains the word '...   \n",
            "102  List pairs of the owner's first name and the d...   \n",
            "103  Find the first names of the faculty members wh...   \n",
            "\n",
            "                                               context  __index_level_0__  \\\n",
            "101                CREATE TABLE airport (name VARCHAR)               3629   \n",
            "102  CREATE TABLE Dogs (name VARCHAR, owner_id VARC...               4476   \n",
            "103  CREATE TABLE activity (activity_name VARCHAR);...               3849   \n",
            "\n",
            "                                                  text  \\\n",
            "101  ### Instruction:\\n    You are a powerful text-...   \n",
            "102  ### Instruction:\\n    You are a powerful text-...   \n",
            "103  ### Instruction:\\n    You are a powerful text-...   \n",
            "\n",
            "                                              eval_res   eval_time  \n",
            "101  1. Which of the airports contain the word inte...  139.320856  \n",
            "102  1. SELECT * FROM owners WHERE owner_id = '1234...   53.625688  \n",
            "103  SELECT lname FROM Faculty WHERE facID IN(SELEC...   81.657087  \n"
          ]
        }
      ]
    },
    {
      "cell_type": "code",
      "source": [
        "import pandas as pd\n",
        "\n",
        "merged_data = pd.concat([data_zeina, data_zeina2, data_sara], ignore_index=True)"
      ],
      "metadata": {
        "colab": {
          "base_uri": "https://localhost:8080/",
          "height": 176
        },
        "id": "0h0LdDXKuAcT",
        "outputId": "984bee3a-65cd-4c59-bea5-a48ea196d576"
      },
      "execution_count": null,
      "outputs": [
        {
          "output_type": "error",
          "ename": "NameError",
          "evalue": "name 'data_zeina' is not defined",
          "traceback": [
            "\u001b[0;31m---------------------------------------------------------------------------\u001b[0m",
            "\u001b[0;31mNameError\u001b[0m                                 Traceback (most recent call last)",
            "\u001b[0;32m<ipython-input-13-a0a849aa2e03>\u001b[0m in \u001b[0;36m<cell line: 0>\u001b[0;34m()\u001b[0m\n\u001b[1;32m      1\u001b[0m \u001b[0;32mimport\u001b[0m \u001b[0mpandas\u001b[0m \u001b[0;32mas\u001b[0m \u001b[0mpd\u001b[0m\u001b[0;34m\u001b[0m\u001b[0;34m\u001b[0m\u001b[0m\n\u001b[1;32m      2\u001b[0m \u001b[0;34m\u001b[0m\u001b[0m\n\u001b[0;32m----> 3\u001b[0;31m \u001b[0mmerged_data\u001b[0m \u001b[0;34m=\u001b[0m \u001b[0mpd\u001b[0m\u001b[0;34m.\u001b[0m\u001b[0mconcat\u001b[0m\u001b[0;34m(\u001b[0m\u001b[0;34m[\u001b[0m\u001b[0mdata_zeina\u001b[0m\u001b[0;34m,\u001b[0m \u001b[0mdata_zeina2\u001b[0m\u001b[0;34m,\u001b[0m \u001b[0mdata_sara\u001b[0m\u001b[0;34m]\u001b[0m\u001b[0;34m,\u001b[0m \u001b[0mignore_index\u001b[0m\u001b[0;34m=\u001b[0m\u001b[0;32mTrue\u001b[0m\u001b[0;34m)\u001b[0m\u001b[0;34m\u001b[0m\u001b[0;34m\u001b[0m\u001b[0m\n\u001b[0m",
            "\u001b[0;31mNameError\u001b[0m: name 'data_zeina' is not defined"
          ]
        }
      ]
    },
    {
      "cell_type": "code",
      "source": [
        "merged_data = data_zeina + data_zeina2 + data_sara + data_third\n"
      ],
      "metadata": {
        "colab": {
          "base_uri": "https://localhost:8080/",
          "height": 141
        },
        "id": "pzXoGR_iuVPY",
        "outputId": "c0f028f5-ad61-4687-85be-b03e239a2693"
      },
      "execution_count": null,
      "outputs": [
        {
          "output_type": "error",
          "ename": "NameError",
          "evalue": "name 'data_zeina' is not defined",
          "traceback": [
            "\u001b[0;31m---------------------------------------------------------------------------\u001b[0m",
            "\u001b[0;31mNameError\u001b[0m                                 Traceback (most recent call last)",
            "\u001b[0;32m<ipython-input-14-400a9da8d835>\u001b[0m in \u001b[0;36m<cell line: 0>\u001b[0;34m()\u001b[0m\n\u001b[0;32m----> 1\u001b[0;31m \u001b[0mmerged_data\u001b[0m \u001b[0;34m=\u001b[0m \u001b[0mdata_zeina\u001b[0m \u001b[0;34m+\u001b[0m \u001b[0mdata_zeina2\u001b[0m \u001b[0;34m+\u001b[0m \u001b[0mdata_sara\u001b[0m \u001b[0;34m+\u001b[0m \u001b[0mdata_third\u001b[0m\u001b[0;34m\u001b[0m\u001b[0;34m\u001b[0m\u001b[0m\n\u001b[0m",
            "\u001b[0;31mNameError\u001b[0m: name 'data_zeina' is not defined"
          ]
        }
      ]
    },
    {
      "cell_type": "code",
      "source": [
        "import pickle\n",
        "\n",
        "# Define the file paths\n",
        "file_drive_path = \"/content/drive/MyDrive/Data/test/sql_test_Llama2.pkl\"\n",
        "file_path_zeina = \"/content/drive/MyDrive/pkl_files/sql_test_Llama2_zeina.pkl\"\n",
        "file_path_zeina2 = \"/content/drive/MyDrive/pkl_files/sql_test_Llama2_zeina2.pkl\"\n",
        "file_path_sara = \"/content/drive/MyDrive/pkl_files/sql_test_Llama2_sara.pkl\""
      ],
      "metadata": {
        "id": "rylc8ihZvGDI"
      },
      "execution_count": null,
      "outputs": []
    },
    {
      "cell_type": "code",
      "source": [
        "def load_pickle(file_path):\n",
        "    with open(file_path, 'rb') as f:\n",
        "        return pickle.load(f)\n",
        "\n",
        "# Load data from each file\n",
        "data_drive = load_pickle(file_drive_path)\n",
        "data_zeina = load_pickle(file_path_zeina)\n",
        "data_zeina2 = load_pickle(file_path_zeina2)\n",
        "data_sara = load_pickle(file_path_sara)"
      ],
      "metadata": {
        "id": "Mi5dBzzOvzgN"
      },
      "execution_count": null,
      "outputs": []
    },
    {
      "cell_type": "code",
      "source": [
        "concatenated_data = data_drive + data_zeina + data_zeina2 + data_sara"
      ],
      "metadata": {
        "id": "ZOUtHUL0v4-2"
      },
      "execution_count": null,
      "outputs": []
    },
    {
      "cell_type": "code",
      "source": [
        "output_file_path = \"/content/drive/MyDrive/Data/test/concatenated_sql_test_Llama2.pkl\"\n",
        "with open(output_file_path, 'wb') as f:\n",
        "    pickle.dump(concatenated_data, f)\n",
        "\n",
        "print(\"Data concatenated and saved to:\", output_file_path)"
      ],
      "metadata": {
        "colab": {
          "base_uri": "https://localhost:8080/"
        },
        "id": "wsbpPqj3v5ai",
        "outputId": "c41e7a43-93c8-4730-fb70-06f49fa7d8f2"
      },
      "execution_count": null,
      "outputs": [
        {
          "output_type": "stream",
          "name": "stdout",
          "text": [
            "Data concatenated and saved to: /content/drive/MyDrive/Data/test/concatenated_sql_test_Llama2.pkl\n"
          ]
        }
      ]
    },
    {
      "cell_type": "code",
      "source": [
        "with open(output_file_path, 'rb') as f:\n",
        "    loaded_data = pickle.load(f)\n",
        "\n",
        "print(\"✅ Loaded concatenated data successfully!\")\n",
        "print(\"First 5 entries:\\n\", loaded_data[:5])  # Adjust based on your data type"
      ],
      "metadata": {
        "colab": {
          "base_uri": "https://localhost:8080/"
        },
        "id": "frie_FDQv720",
        "outputId": "a1161a9d-044c-4667-eee1-89f070e173b8"
      },
      "execution_count": null,
      "outputs": [
        {
          "output_type": "stream",
          "name": "stdout",
          "text": [
            "✅ Loaded concatenated data successfully!\n",
            "First 5 entries:\n",
            "     response question context  __index_level_0__ text eval_res  eval_time\n",
            "100      NaN      NaN     NaN                NaN  NaN      NaN        NaN\n",
            "101      NaN      NaN     NaN                NaN  NaN      NaN        NaN\n",
            "102      NaN      NaN     NaN                NaN  NaN      NaN        NaN\n",
            "103      NaN      NaN     NaN                NaN  NaN      NaN        NaN\n",
            "104      NaN      NaN     NaN                NaN  NaN      NaN        NaN\n"
          ]
        }
      ]
    },
    {
      "cell_type": "code",
      "source": [
        "print(loaded_data.head())  # Print first 5 rows\n"
      ],
      "metadata": {
        "colab": {
          "base_uri": "https://localhost:8080/"
        },
        "id": "-heaaFArxJg5",
        "outputId": "749fbc2d-878c-4c01-82ca-c023fd29593b"
      },
      "execution_count": null,
      "outputs": [
        {
          "output_type": "stream",
          "name": "stdout",
          "text": [
            "    response question context  __index_level_0__ text eval_res  eval_time\n",
            "100      NaN      NaN     NaN                NaN  NaN      NaN        NaN\n",
            "101      NaN      NaN     NaN                NaN  NaN      NaN        NaN\n",
            "102      NaN      NaN     NaN                NaN  NaN      NaN        NaN\n",
            "103      NaN      NaN     NaN                NaN  NaN      NaN        NaN\n",
            "104      NaN      NaN     NaN                NaN  NaN      NaN        NaN\n"
          ]
        }
      ]
    },
    {
      "cell_type": "code",
      "source": [
        "print(\"Columns in data_drive:\", data_drive.columns)\n",
        "print(\"Columns in data_zeina:\", data_zeina.columns)\n",
        "print(\"Columns in data_zeina2:\", data_zeina2.columns)\n",
        "print(\"Columns in data_sara:\", data_sara.columns)"
      ],
      "metadata": {
        "colab": {
          "base_uri": "https://localhost:8080/"
        },
        "id": "jZsnmdMYxMtU",
        "outputId": "f637f07c-149b-4a14-a452-2ee34fa320f3"
      },
      "execution_count": null,
      "outputs": [
        {
          "output_type": "stream",
          "name": "stdout",
          "text": [
            "Columns in data_drive: Index(['response', 'question', 'context', '__index_level_0__', 'text',\n",
            "       'eval_res', 'eval_time'],\n",
            "      dtype='object')\n",
            "Columns in data_zeina: Index(['response', 'question', 'context', '__index_level_0__', 'text',\n",
            "       'eval_res', 'eval_time'],\n",
            "      dtype='object')\n",
            "Columns in data_zeina2: Index(['response', 'question', 'context', '__index_level_0__', 'text',\n",
            "       'eval_res', 'eval_time'],\n",
            "      dtype='object')\n",
            "Columns in data_sara: Index(['response', 'question', 'context', '__index_level_0__', 'text',\n",
            "       'eval_res', 'eval_time'],\n",
            "      dtype='object')\n"
          ]
        }
      ]
    },
    {
      "cell_type": "code",
      "source": [
        "print(data_drive.dtypes)\n",
        "print(data_zeina.dtypes)\n",
        "print(data_zeina2.dtypes)\n",
        "print(data_sara.dtypes)\n"
      ],
      "metadata": {
        "colab": {
          "base_uri": "https://localhost:8080/"
        },
        "id": "m2-UlJbpxdw-",
        "outputId": "953b9bd8-2944-4d8c-d79e-f0df2c63940c"
      },
      "execution_count": null,
      "outputs": [
        {
          "output_type": "stream",
          "name": "stdout",
          "text": [
            "response              object\n",
            "question              object\n",
            "context               object\n",
            "__index_level_0__      int64\n",
            "text                  object\n",
            "eval_res              object\n",
            "eval_time            float64\n",
            "dtype: object\n",
            "response              object\n",
            "question              object\n",
            "context               object\n",
            "__index_level_0__      int64\n",
            "text                  object\n",
            "eval_res              object\n",
            "eval_time            float64\n",
            "dtype: object\n",
            "response              object\n",
            "question              object\n",
            "context               object\n",
            "__index_level_0__      int64\n",
            "text                  object\n",
            "eval_res              object\n",
            "eval_time            float64\n",
            "dtype: object\n",
            "response              object\n",
            "question              object\n",
            "context               object\n",
            "__index_level_0__      int64\n",
            "text                  object\n",
            "eval_res              object\n",
            "eval_time            float64\n",
            "dtype: object\n"
          ]
        }
      ]
    },
    {
      "cell_type": "code",
      "source": [
        "concatenated_data = pd.concat([data_drive, data_zeina, data_zeina2, data_sara], ignore_index=True)\n"
      ],
      "metadata": {
        "id": "a9iSaz-6xmuf"
      },
      "execution_count": null,
      "outputs": []
    },
    {
      "cell_type": "code",
      "source": [
        "print(concatenated_data.isna().sum())  # Count NaNs per column\n"
      ],
      "metadata": {
        "colab": {
          "base_uri": "https://localhost:8080/"
        },
        "id": "IEDM7N6fxwX1",
        "outputId": "5358e724-86e8-4399-c3f4-c3691d527063"
      },
      "execution_count": null,
      "outputs": [
        {
          "output_type": "stream",
          "name": "stdout",
          "text": [
            "response             0\n",
            "question             0\n",
            "context              0\n",
            "__index_level_0__    0\n",
            "text                 0\n",
            "eval_res             0\n",
            "eval_time            0\n",
            "dtype: int64\n"
          ]
        }
      ]
    },
    {
      "cell_type": "code",
      "source": [],
      "metadata": {
        "colab": {
          "base_uri": "https://localhost:8080/"
        },
        "id": "hbRwRU6BxyIQ",
        "outputId": "1c39a72f-5aaa-4be6-cc3f-84a241f41029"
      },
      "execution_count": null,
      "outputs": [
        {
          "output_type": "stream",
          "name": "stdout",
          "text": [
            "    response question context  __index_level_0__ text eval_res  eval_time\n",
            "100      NaN      NaN     NaN                NaN  NaN      NaN        NaN\n",
            "101      NaN      NaN     NaN                NaN  NaN      NaN        NaN\n",
            "102      NaN      NaN     NaN                NaN  NaN      NaN        NaN\n",
            "103      NaN      NaN     NaN                NaN  NaN      NaN        NaN\n",
            "104      NaN      NaN     NaN                NaN  NaN      NaN        NaN\n"
          ]
        }
      ]
    },
    {
      "cell_type": "code",
      "source": [
        "print(concatenated_data.head(10))  # First 10 rows\n",
        "print(concatenated_data.tail(10))  # Last 10 rows"
      ],
      "metadata": {
        "colab": {
          "base_uri": "https://localhost:8080/"
        },
        "id": "fcMsVDinx3BB",
        "outputId": "e4d5ed3b-faa4-40b2-b73a-c422edb6894d"
      },
      "execution_count": null,
      "outputs": [
        {
          "output_type": "stream",
          "name": "stdout",
          "text": [
            "                                            response  \\\n",
            "0  SELECT Publisher FROM publication WHERE Price ...   \n",
            "1              SELECT COUNT(*) FROM catalog_contents   \n",
            "2  SELECT Name FROM teacher WHERE Age = 32 OR Age...   \n",
            "3  SELECT catalog_entry_name FROM catalog_content...   \n",
            "4  SELECT T1.Name, T2.Orchestra FROM conductor AS...   \n",
            "5  SELECT t2.team_name, t2.ACC_Regular_Season FRO...   \n",
            "6                         SELECT COUNT(*) FROM ROLES   \n",
            "7  SELECT T1.text_of_notes FROM Assessment_Notes ...   \n",
            "8  SELECT T1.first_name, T2.department_name FROM ...   \n",
            "9  SELECT T2.f1 FROM user_profiles AS T1 JOIN fol...   \n",
            "\n",
            "                                            question  \\\n",
            "0  Show the publishers that have publications wit...   \n",
            "1        How many products are there in the records?   \n",
            "2    Show the name of teachers aged either 32 or 33?   \n",
            "3  Find the names of all the products whose stock...   \n",
            "4  Show the names of conductors and the orchestra...   \n",
            "5  What is the team name and acc regular season s...   \n",
            "6                          How many roles are there?   \n",
            "7  Find the texts of assessment notes for teacher...   \n",
            "8  Display the first name and department name for...   \n",
            "9  Find the id of users who are followed by Mary ...   \n",
            "\n",
            "                                             context  __index_level_0__  \\\n",
            "0  CREATE TABLE publication (Publisher VARCHAR, P...                132   \n",
            "1         CREATE TABLE catalog_contents (Id VARCHAR)                201   \n",
            "2   CREATE TABLE teacher (Name VARCHAR, Age VARCHAR)               4163   \n",
            "3  CREATE TABLE catalog_contents (catalog_entry_n...                195   \n",
            "4  CREATE TABLE conductor (Name VARCHAR, Conducto...               4420   \n",
            "5  CREATE TABLE university (school_id VARCHAR, fo...                544   \n",
            "6                    CREATE TABLE ROLES (Id VARCHAR)               2429   \n",
            "7  CREATE TABLE Assessment_Notes (text_of_notes V...               1840   \n",
            "8  CREATE TABLE departments (department_name VARC...               2024   \n",
            "9  CREATE TABLE follows (f1 VARCHAR, f2 VARCHAR);...                170   \n",
            "\n",
            "                                                text  \\\n",
            "0  ### Instruction:\\n    You are a powerful text-...   \n",
            "1  ### Instruction:\\n    You are a powerful text-...   \n",
            "2  ### Instruction:\\n    You are a powerful text-...   \n",
            "3  ### Instruction:\\n    You are a powerful text-...   \n",
            "4  ### Instruction:\\n    You are a powerful text-...   \n",
            "5  ### Instruction:\\n    You are a powerful text-...   \n",
            "6  ### Instruction:\\n    You are a powerful text-...   \n",
            "7  ### Instruction:\\n    You are a powerful text-...   \n",
            "8  ### Instruction:\\n    You are a powerful text-...   \n",
            "9  ### Instruction:\\n    You are a powerful text-...   \n",
            "\n",
            "                                            eval_res  eval_time  \n",
            "0  SELECT Publisher FROM Publication WHERE Price ...  40.746721  \n",
            "1  1098456732\\n### Solution:\\n```sql\\nSELECT COUN...  23.232150  \n",
            "2  SELECT * FROM teacher WHERE age = '32' OR age=...  31.816946  \n",
            "3  SELECT DISTINCT catalog_entry_name FROM catalo...  62.194320  \n",
            "4  SELECT Name FROM conductor WHERE Conductor_ID ...  90.863725  \n",
            "5  100\\n### Solution:\\n```sql\\nSELECT * FROM univ...  41.949336  \n",
            "6  10\\n### Solution:\\n```sql\\nSELECT COUNT(*) FRO...  16.610504  \n",
            "7  SELECT * FROM Assessment_Notes WHERE teacher_i...  15.860643  \n",
            "8  SELECT e.first_name AS FirstName, d.department...  33.220817  \n",
            "9  SELECT uid FROM user_profiles WHERE EXISTS(SEL...  49.051716  \n",
            "                                              response  \\\n",
            "442  SELECT T2.song_name FROM files AS T1 JOIN song...   \n",
            "443  SELECT COUNT(*) FROM customers AS t1 JOIN cust...   \n",
            "444  SELECT COUNT(DISTINCT product_type_code) FROM ...   \n",
            "445  SELECT classroom, COUNT(DISTINCT grade) FROM l...   \n",
            "446  SELECT LOCATION, SUM(number_of_platforms), SUM...   \n",
            "447  SELECT How_to_Get_There, COUNT(*) FROM Tourist...   \n",
            "448   SELECT document_id, document_name FROM Documents   \n",
            "449  SELECT name, dates_active, number_deaths FROM ...   \n",
            "450  SELECT T1.Aircraft FROM aircraft AS T1 JOIN ai...   \n",
            "451  SELECT T1.Country_name FROM country AS T1 JOIN...   \n",
            "\n",
            "                                              question  \\\n",
            "442  Return the names of songs for which format is ...   \n",
            "443  How many policies are listed for the customer ...   \n",
            "444        How many different product types are there?   \n",
            "445  For each classroom, report the classroom numbe...   \n",
            "446  Show all locations and the total number of pla...   \n",
            "447  Show different ways to get to attractions and ...   \n",
            "448           Show the ids and names of all documents.   \n",
            "449  List name, dates active, and number of deaths ...   \n",
            "450  Please show the names of aircrafts associated ...   \n",
            "451  What are the names of countries that have both...   \n",
            "\n",
            "                                               context  __index_level_0__  \\\n",
            "442  CREATE TABLE song (song_name VARCHAR, resoluti...               2115   \n",
            "443  CREATE TABLE customers (customer_id VARCHAR, c...                502   \n",
            "444  CREATE TABLE products_for_hire (product_type_c...               1165   \n",
            "445  CREATE TABLE list (classroom VARCHAR, grade VA...               2368   \n",
            "446  CREATE TABLE station (LOCATION VARCHAR, number...               3746   \n",
            "447  CREATE TABLE Tourist_Attractions (How_to_Get_T...               3395   \n",
            "448  CREATE TABLE Documents (document_id VARCHAR, d...               3642   \n",
            "449  CREATE TABLE storm (name VARCHAR, dates_active...               1592   \n",
            "450  CREATE TABLE airport (Airport_ID VARCHAR, Airp...               2774   \n",
            "451  CREATE TABLE country (Country_name VARCHAR, Co...                614   \n",
            "\n",
            "                                                  text  \\\n",
            "442  ### Instruction:\\n    You are a powerful text-...   \n",
            "443  ### Instruction:\\n    You are a powerful text-...   \n",
            "444  ### Instruction:\\n    You are a powerful text-...   \n",
            "445  ### Instruction:\\n    You are a powerful text-...   \n",
            "446  ### Instruction:\\n    You are a powerful text-...   \n",
            "447  ### Instruction:\\n    You are a powerful text-...   \n",
            "448  ### Instruction:\\n    You are a powerful text-...   \n",
            "449  ### Instruction:\\n    You are a powerful text-...   \n",
            "450  ### Instruction:\\n    You are a powerful text-...   \n",
            "451  ### Instruction:\\n    You are a powerful text-...   \n",
            "\n",
            "                                              eval_res   eval_time  \n",
            "442  SELECT DISTINCT s.song_name FROM song AS s WHE...   85.733481  \n",
            "443  1 policy\\n### Solution:\\n```sql\\nSELECT COUNT(...   48.357200  \n",
            "444  SELECT COUNT(*) FROM products_for_hire;\\n### O...   15.860526  \n",
            "445  102 3\\n### Explanation:\\nThe first line contai...   56.230553  \n",
            "446  SELECT LOCATION, COUNT(number_of_platforms), S...  142.883892  \n",
            "447  1. How many ways exist for tourists to access ...  142.926905  \n",
            "448  SELECT * FROM Documents;\\n### Output:\\n```sql\\...   19.049843  \n",
            "449  SELECT * FROM storm WHERE names LIKE 'hurrican...   36.540545  \n",
            "450  SELECT * FROM airport JOIN airport_aircraft ON...   40.581731  \n",
            "451  SELECT * FROM match_season WHERE Country = 'Ge...   20.652891  \n"
          ]
        }
      ]
    },
    {
      "cell_type": "code",
      "source": [
        "output_file_path = \"/content/drive/MyDrive/Data/test/concatenated_sql_test_Llama2.pkl\"\n",
        "concatenated_data.to_pickle(output_file_path)\n",
        "\n",
        "# Reload and print again\n",
        "reloaded_data = pd.read_pickle(output_file_path)\n",
        "print(reloaded_data.head(10))"
      ],
      "metadata": {
        "colab": {
          "base_uri": "https://localhost:8080/"
        },
        "id": "NN_CX7D9yFEo",
        "outputId": "db7077e9-9c63-49ea-a112-e88c3f8af4a8"
      },
      "execution_count": null,
      "outputs": [
        {
          "output_type": "stream",
          "name": "stdout",
          "text": [
            "                                            response  \\\n",
            "0  SELECT Publisher FROM publication WHERE Price ...   \n",
            "1              SELECT COUNT(*) FROM catalog_contents   \n",
            "2  SELECT Name FROM teacher WHERE Age = 32 OR Age...   \n",
            "3  SELECT catalog_entry_name FROM catalog_content...   \n",
            "4  SELECT T1.Name, T2.Orchestra FROM conductor AS...   \n",
            "5  SELECT t2.team_name, t2.ACC_Regular_Season FRO...   \n",
            "6                         SELECT COUNT(*) FROM ROLES   \n",
            "7  SELECT T1.text_of_notes FROM Assessment_Notes ...   \n",
            "8  SELECT T1.first_name, T2.department_name FROM ...   \n",
            "9  SELECT T2.f1 FROM user_profiles AS T1 JOIN fol...   \n",
            "\n",
            "                                            question  \\\n",
            "0  Show the publishers that have publications wit...   \n",
            "1        How many products are there in the records?   \n",
            "2    Show the name of teachers aged either 32 or 33?   \n",
            "3  Find the names of all the products whose stock...   \n",
            "4  Show the names of conductors and the orchestra...   \n",
            "5  What is the team name and acc regular season s...   \n",
            "6                          How many roles are there?   \n",
            "7  Find the texts of assessment notes for teacher...   \n",
            "8  Display the first name and department name for...   \n",
            "9  Find the id of users who are followed by Mary ...   \n",
            "\n",
            "                                             context  __index_level_0__  \\\n",
            "0  CREATE TABLE publication (Publisher VARCHAR, P...                132   \n",
            "1         CREATE TABLE catalog_contents (Id VARCHAR)                201   \n",
            "2   CREATE TABLE teacher (Name VARCHAR, Age VARCHAR)               4163   \n",
            "3  CREATE TABLE catalog_contents (catalog_entry_n...                195   \n",
            "4  CREATE TABLE conductor (Name VARCHAR, Conducto...               4420   \n",
            "5  CREATE TABLE university (school_id VARCHAR, fo...                544   \n",
            "6                    CREATE TABLE ROLES (Id VARCHAR)               2429   \n",
            "7  CREATE TABLE Assessment_Notes (text_of_notes V...               1840   \n",
            "8  CREATE TABLE departments (department_name VARC...               2024   \n",
            "9  CREATE TABLE follows (f1 VARCHAR, f2 VARCHAR);...                170   \n",
            "\n",
            "                                                text  \\\n",
            "0  ### Instruction:\\n    You are a powerful text-...   \n",
            "1  ### Instruction:\\n    You are a powerful text-...   \n",
            "2  ### Instruction:\\n    You are a powerful text-...   \n",
            "3  ### Instruction:\\n    You are a powerful text-...   \n",
            "4  ### Instruction:\\n    You are a powerful text-...   \n",
            "5  ### Instruction:\\n    You are a powerful text-...   \n",
            "6  ### Instruction:\\n    You are a powerful text-...   \n",
            "7  ### Instruction:\\n    You are a powerful text-...   \n",
            "8  ### Instruction:\\n    You are a powerful text-...   \n",
            "9  ### Instruction:\\n    You are a powerful text-...   \n",
            "\n",
            "                                            eval_res  eval_time  \n",
            "0  SELECT Publisher FROM Publication WHERE Price ...  40.746721  \n",
            "1  1098456732\\n### Solution:\\n```sql\\nSELECT COUN...  23.232150  \n",
            "2  SELECT * FROM teacher WHERE age = '32' OR age=...  31.816946  \n",
            "3  SELECT DISTINCT catalog_entry_name FROM catalo...  62.194320  \n",
            "4  SELECT Name FROM conductor WHERE Conductor_ID ...  90.863725  \n",
            "5  100\\n### Solution:\\n```sql\\nSELECT * FROM univ...  41.949336  \n",
            "6  10\\n### Solution:\\n```sql\\nSELECT COUNT(*) FRO...  16.610504  \n",
            "7  SELECT * FROM Assessment_Notes WHERE teacher_i...  15.860643  \n",
            "8  SELECT e.first_name AS FirstName, d.department...  33.220817  \n",
            "9  SELECT uid FROM user_profiles WHERE EXISTS(SEL...  49.051716  \n"
          ]
        }
      ]
    },
    {
      "cell_type": "code",
      "source": [
        "print(concatenated_data[['response', 'question', 'context']].head(10))\n",
        "\n"
      ],
      "metadata": {
        "colab": {
          "base_uri": "https://localhost:8080/"
        },
        "id": "dt1pZw_iyKkF",
        "outputId": "3f7286cc-31ef-4337-aea4-bea39bacc84f"
      },
      "execution_count": null,
      "outputs": [
        {
          "output_type": "stream",
          "name": "stdout",
          "text": [
            "                                            response  \\\n",
            "0  SELECT Publisher FROM publication WHERE Price ...   \n",
            "1              SELECT COUNT(*) FROM catalog_contents   \n",
            "2  SELECT Name FROM teacher WHERE Age = 32 OR Age...   \n",
            "3  SELECT catalog_entry_name FROM catalog_content...   \n",
            "4  SELECT T1.Name, T2.Orchestra FROM conductor AS...   \n",
            "5  SELECT t2.team_name, t2.ACC_Regular_Season FRO...   \n",
            "6                         SELECT COUNT(*) FROM ROLES   \n",
            "7  SELECT T1.text_of_notes FROM Assessment_Notes ...   \n",
            "8  SELECT T1.first_name, T2.department_name FROM ...   \n",
            "9  SELECT T2.f1 FROM user_profiles AS T1 JOIN fol...   \n",
            "\n",
            "                                            question  \\\n",
            "0  Show the publishers that have publications wit...   \n",
            "1        How many products are there in the records?   \n",
            "2    Show the name of teachers aged either 32 or 33?   \n",
            "3  Find the names of all the products whose stock...   \n",
            "4  Show the names of conductors and the orchestra...   \n",
            "5  What is the team name and acc regular season s...   \n",
            "6                          How many roles are there?   \n",
            "7  Find the texts of assessment notes for teacher...   \n",
            "8  Display the first name and department name for...   \n",
            "9  Find the id of users who are followed by Mary ...   \n",
            "\n",
            "                                             context  \n",
            "0  CREATE TABLE publication (Publisher VARCHAR, P...  \n",
            "1         CREATE TABLE catalog_contents (Id VARCHAR)  \n",
            "2   CREATE TABLE teacher (Name VARCHAR, Age VARCHAR)  \n",
            "3  CREATE TABLE catalog_contents (catalog_entry_n...  \n",
            "4  CREATE TABLE conductor (Name VARCHAR, Conducto...  \n",
            "5  CREATE TABLE university (school_id VARCHAR, fo...  \n",
            "6                    CREATE TABLE ROLES (Id VARCHAR)  \n",
            "7  CREATE TABLE Assessment_Notes (text_of_notes V...  \n",
            "8  CREATE TABLE departments (department_name VARC...  \n",
            "9  CREATE TABLE follows (f1 VARCHAR, f2 VARCHAR);...  \n"
          ]
        }
      ]
    },
    {
      "cell_type": "code",
      "source": [
        "output_pkl_path = \"/content/drive/MyDrive/Data/test/concatenated_sql_test_Llama2.pkl\"\n",
        "concatenated_data.to_pickle(output_pkl_path)\n",
        "\n",
        "print(\"✅ Data saved successfully as Pickle:\", output_pkl_path)"
      ],
      "metadata": {
        "colab": {
          "base_uri": "https://localhost:8080/"
        },
        "id": "e9H_WMjfyNqF",
        "outputId": "a088c2df-3b6e-4ac1-9b2e-5d5e2976c86b"
      },
      "execution_count": null,
      "outputs": [
        {
          "output_type": "stream",
          "name": "stdout",
          "text": [
            "✅ Data saved successfully as Pickle: /content/drive/MyDrive/Data/test/concatenated_sql_test_Llama2.pkl\n"
          ]
        }
      ]
    },
    {
      "cell_type": "code",
      "source": [
        "import pandas as pd\n",
        "\n",
        "# Load the concatenated pickle file\n",
        "output_pkl_path = \"/content/drive/MyDrive/Data/test/concatenated_sql_test_Llama2.pkl\"\n",
        "df = pd.read_pickle(output_pkl_path)\n",
        "\n",
        "# Display first few rows\n",
        "print(df.head())"
      ],
      "metadata": {
        "colab": {
          "base_uri": "https://localhost:8080/"
        },
        "id": "jamDtLVjyWY9",
        "outputId": "dbf770db-8b48-43f7-e99d-f98f3c4691ba"
      },
      "execution_count": null,
      "outputs": [
        {
          "output_type": "stream",
          "name": "stdout",
          "text": [
            "                                            response  \\\n",
            "0  SELECT Publisher FROM publication WHERE Price ...   \n",
            "1              SELECT COUNT(*) FROM catalog_contents   \n",
            "2  SELECT Name FROM teacher WHERE Age = 32 OR Age...   \n",
            "3  SELECT catalog_entry_name FROM catalog_content...   \n",
            "4  SELECT T1.Name, T2.Orchestra FROM conductor AS...   \n",
            "\n",
            "                                            question  \\\n",
            "0  Show the publishers that have publications wit...   \n",
            "1        How many products are there in the records?   \n",
            "2    Show the name of teachers aged either 32 or 33?   \n",
            "3  Find the names of all the products whose stock...   \n",
            "4  Show the names of conductors and the orchestra...   \n",
            "\n",
            "                                             context  __index_level_0__  \\\n",
            "0  CREATE TABLE publication (Publisher VARCHAR, P...                132   \n",
            "1         CREATE TABLE catalog_contents (Id VARCHAR)                201   \n",
            "2   CREATE TABLE teacher (Name VARCHAR, Age VARCHAR)               4163   \n",
            "3  CREATE TABLE catalog_contents (catalog_entry_n...                195   \n",
            "4  CREATE TABLE conductor (Name VARCHAR, Conducto...               4420   \n",
            "\n",
            "                                                text  \\\n",
            "0  ### Instruction:\\n    You are a powerful text-...   \n",
            "1  ### Instruction:\\n    You are a powerful text-...   \n",
            "2  ### Instruction:\\n    You are a powerful text-...   \n",
            "3  ### Instruction:\\n    You are a powerful text-...   \n",
            "4  ### Instruction:\\n    You are a powerful text-...   \n",
            "\n",
            "                                            eval_res  eval_time  \n",
            "0  SELECT Publisher FROM Publication WHERE Price ...  40.746721  \n",
            "1  1098456732\\n### Solution:\\n```sql\\nSELECT COUN...  23.232150  \n",
            "2  SELECT * FROM teacher WHERE age = '32' OR age=...  31.816946  \n",
            "3  SELECT DISTINCT catalog_entry_name FROM catalo...  62.194320  \n",
            "4  SELECT Name FROM conductor WHERE Conductor_ID ...  90.863725  \n"
          ]
        }
      ]
    },
    {
      "cell_type": "code",
      "source": [
        "import pandas as pd\n",
        "\n",
        "# Load the concatenated pickle file\n",
        "output_pkl_path = \"/content/drive/MyDrive/Data/test/concatenated_sql_test_Llama2.pkl\"\n",
        "df = pd.read_pickle(output_pkl_path)\n",
        "\n",
        "# Read rows from index 100 to 120\n",
        "subset_df = df.iloc[100:121]  # 121 to include row 120\n",
        "\n",
        "# Display the extracted rows\n",
        "print(subset_df)\n"
      ],
      "metadata": {
        "colab": {
          "base_uri": "https://localhost:8080/"
        },
        "id": "BxB0BdJkyfxc",
        "outputId": "efdb08ad-b29c-44c9-d722-b24feb9e2ac8"
      },
      "execution_count": null,
      "outputs": [
        {
          "output_type": "stream",
          "name": "stdout",
          "text": [
            "                                              response  \\\n",
            "100  SELECT T1.first_name, T2.name FROM Owners AS T...   \n",
            "101  SELECT DISTINCT T1.lname FROM Faculty AS T1 JO...   \n",
            "102  SELECT t2.product_details, t2.product_id FROM ...   \n",
            "103  SELECT name, distance FROM Aircraft WHERE aid ...   \n",
            "104       SELECT Name FROM editor ORDER BY Age LIMIT 1   \n",
            "105  SELECT grade, COUNT(*) FROM Highschooler GROUP...   \n",
            "106   SELECT weight FROM pets ORDER BY pet_age LIMIT 1   \n",
            "107  SELECT model_name FROM chip_model ORDER BY lau...   \n",
            "108  SELECT billing_state, COUNT(*) FROM invoices W...   \n",
            "109  SELECT apt_type_code, COUNT(*) FROM Apartments...   \n",
            "110                    SELECT Name, Arrival FROM train   \n",
            "111  SELECT T2.Store_Email_Address FROM Addresses A...   \n",
            "112  SELECT First_year, Last_year FROM party WHERE ...   \n",
            "113  SELECT T1.Title FROM book AS T1 JOIN publicati...   \n",
            "114  SELECT COUNT(DISTINCT payment_method) FROM cus...   \n",
            "115  SELECT Status FROM roller_coaster GROUP BY Sta...   \n",
            "116  SELECT Denomination FROM school GROUP BY Denom...   \n",
            "117  SELECT T1.problem_id FROM problems AS T1 JOIN ...   \n",
            "118  SELECT platform FROM table WHERE weight = \"131...   \n",
            "119  SELECT T1.department_name, T2.city, T2.state_p...   \n",
            "120  SELECT SUM(city_population) FROM district ORDE...   \n",
            "\n",
            "                                              question  \\\n",
            "100  List pairs of the owner's first name and the d...   \n",
            "101  Find the first names of the faculty members wh...   \n",
            "102  Find the name and ID of the product whose tota...   \n",
            "103  What is the name and distance for aircraft wit...   \n",
            "104           What is the name of the youngest editor?   \n",
            "105  Show the number of high schoolers for each grade.   \n",
            "106               Find the weight of the youngest dog.   \n",
            "107  List all the model names sorted by their launc...   \n",
            "108   List the state in the US with the most invoices.   \n",
            "109  Show the apartment type codes and the correspo...   \n",
            "110    What are the names and arrival times of trains?   \n",
            "111  What are the email addresses of the drama work...   \n",
            "112  Show the first year and last year of parties w...   \n",
            "113  Show the titles of books in descending order o...   \n",
            "114      How many different payment methods are there?   \n",
            "115  Please show the most common status of roller c...   \n",
            "116  Show the denomination shared by more than one ...   \n",
            "117  Find the ids of the problems that are reported...   \n",
            "118      What is the platform if the weight is 131.5g?   \n",
            "119  display the department name, city, and state p...   \n",
            "120  Find the total population of the top 3 distric...   \n",
            "\n",
            "                                               context  __index_level_0__  \\\n",
            "100  CREATE TABLE Dogs (name VARCHAR, owner_id VARC...               4476   \n",
            "101  CREATE TABLE activity (activity_name VARCHAR);...               3849   \n",
            "102  CREATE TABLE order_items (product_id VARCHAR, ...               3484   \n",
            "103  CREATE TABLE Aircraft (name VARCHAR, distance ...                207   \n",
            "104    CREATE TABLE editor (Name VARCHAR, Age VARCHAR)                361   \n",
            "105          CREATE TABLE Highschooler (grade VARCHAR)               4438   \n",
            "106  CREATE TABLE pets (weight VARCHAR, pet_age VAR...               3986   \n",
            "107  CREATE TABLE chip_model (model_name VARCHAR, l...                583   \n",
            "108  CREATE TABLE invoices (billing_state VARCHAR, ...                314   \n",
            "109    CREATE TABLE Apartments (apt_type_code VARCHAR)                710   \n",
            "110  CREATE TABLE train (Name VARCHAR, Arrival VARC...               3206   \n",
            "111  CREATE TABLE Drama_Workshop_Groups (Store_Emai...               2948   \n",
            "112  CREATE TABLE party (First_year VARCHAR, Last_y...               1576   \n",
            "113  CREATE TABLE publication (Book_ID VARCHAR, Pri...                126   \n",
            "114    CREATE TABLE customers (payment_method VARCHAR)               1686   \n",
            "115       CREATE TABLE roller_coaster (Status VARCHAR)               3526   \n",
            "116         CREATE TABLE school (Denomination VARCHAR)               2822   \n",
            "117  CREATE TABLE problems (problem_id VARCHAR, rep...               3055   \n",
            "118  CREATE TABLE table (platform VARCHAR, weight V...              36361   \n",
            "119  CREATE TABLE locations (city VARCHAR, state_pr...               2079   \n",
            "120  CREATE TABLE district (city_population INTEGER...               2829   \n",
            "\n",
            "                                                  text  \\\n",
            "100  ### Instruction:\\n    You are a powerful text-...   \n",
            "101  ### Instruction:\\n    You are a powerful text-...   \n",
            "102  ### Instruction:\\n    You are a powerful text-...   \n",
            "103  ### Instruction:\\n    You are a powerful text-...   \n",
            "104  ### Instruction:\\n    You are a powerful text-...   \n",
            "105  ### Instruction:\\n    You are a powerful text-...   \n",
            "106  ### Instruction:\\n    You are a powerful text-...   \n",
            "107  ### Instruction:\\n    You are a powerful text-...   \n",
            "108  ### Instruction:\\n    You are a powerful text-...   \n",
            "109  ### Instruction:\\n    You are a powerful text-...   \n",
            "110  ### Instruction:\\n    You are a powerful text-...   \n",
            "111  ### Instruction:\\n    You are a powerful text-...   \n",
            "112  ### Instruction:\\n    You are a powerful text-...   \n",
            "113  ### Instruction:\\n    You are a powerful text-...   \n",
            "114  ### Instruction:\\n    You are a powerful text-...   \n",
            "115  ### Instruction:\\n    You are a powerful text-...   \n",
            "116  ### Instruction:\\n    You are a powerful text-...   \n",
            "117  ### Instruction:\\n    You are a powerful text-...   \n",
            "118  ### Instruction:\\n    You are a powerful text-...   \n",
            "119  ### Instruction:\\n    You are a powerful text-...   \n",
            "120  ### Instruction:\\n    You are a powerful text-...   \n",
            "\n",
            "                                              eval_res   eval_time  \n",
            "100  1. SELECT * FROM owners WHERE owner_id = '1234...   53.625688  \n",
            "101  SELECT lname FROM Faculty WHERE facID IN(SELEC...   81.657087  \n",
            "102  1. SELECT * FROM orders WHERE order_item_total...   27.175660  \n",
            "103  SELECT * FROM Aircraft WHERE aid = '12' AND na...   23.263766  \n",
            "104  SELECT * FROM editor WHERE Name = 'Jane' AND A...   15.517042  \n",
            "105  SELECT * FROM HighSchooler WHERE grade = '10'\\...   31.041758  \n",
            "106  SELECT * FROM pets WHERE weight = '10' AND pet...   36.524313  \n",
            "107  2019\\n### Solution:\\n```sql\\nSELECT DISTINCT(m...   29.511229  \n",
            "108  SELECT * FROM invoices WHERE billing_state = '...   20.190021  \n",
            "109  101, 203, 405, 607, 809\\n### Explanation:\\n   ...   55.118648  \n",
            "110  SELECT Name FROM Train WHERE Arrival > '10' AN...   17.098594  \n",
            "111  SELECT * FROM Drama_Workshop_Groups WHERE Stor...   54.462127  \n",
            "112  2015 2016 Spring\\n### Solution:\\n```sql\\nSELEC...   39.590188  \n",
            "113     SELECT * FROM publication ORDER BY Price DESC;    8.552010  \n",
            "114  10\\n### Solution:\\n```sql\\nSELECT COUNT(*) FRO...   15.529758  \n",
            "115  10% of all roller coasters have been closed fo...   29.503248  \n",
            "116  SELECT Denomination FROM School WHERE EXISTS(S...   32.602870  \n",
            "117  1023456789; 1023456789; 1023456789; 1023456789...  139.926807  \n",
            "118  SELECT * FROM table WHERE weight = '131.5' AND...   45.081038  \n",
            "119  SELECT d.department_name AS \"Department Name\",...   36.454950  \n",
            "120  1000000000000000000000000000000000000000000000...  139.837519  \n"
          ]
        }
      ]
    },
    {
      "cell_type": "code",
      "source": [],
      "metadata": {
        "id": "tVUixfEeyo1K"
      },
      "execution_count": null,
      "outputs": []
    }
  ]
}